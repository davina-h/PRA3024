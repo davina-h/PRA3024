{
  "nbformat": 4,
  "nbformat_minor": 0,
  "metadata": {
    "colab": {
      "name": "Kopie von LHCb_2021.ipynb",
      "provenance": [],
      "collapsed_sections": [],
      "toc_visible": true,
      "include_colab_link": true
    },
    "kernelspec": {
      "name": "python2",
      "display_name": "Python 2"
    },
    "accelerator": "GPU"
  },
  "cells": [
    {
      "cell_type": "markdown",
      "metadata": {
        "id": "view-in-github",
        "colab_type": "text"
      },
      "source": [
        "<a href=\"https://colab.research.google.com/github/davina-h/PRA3024/blob/main/Davina%20Haering%20Particle%20Physics_LHCb_2021.ipynb\" target=\"_parent\"><img src=\"https://colab.research.google.com/assets/colab-badge.svg\" alt=\"Open In Colab\"/></a>"
      ]
    },
    {
      "cell_type": "markdown",
      "metadata": {
        "id": "1JafiSIrvEKW"
      },
      "source": [
        "Welcome to Week 4!\n",
        "\n",
        "We will be focussing in Particle Physics Analysis and detecting matter/antimatter assymetries in the production of certain types of particles. ![LHCb detector](https://www1b.physik.rwth-aachen.de/~schael/LHCb_files/LHCB%20PREVIEW-white-bg.jpg)\n",
        "\n",
        "The data we are using comes from LHCb - one of the experiments at LHC. It is a highly specialised detector aimed at detecting decays involving the B-quark. Unlike the other major experiments, LHCb detects particles very close to the source and looks almost exclusively in the forward direction - this gives the detector many advantages compared to other experiments at LHC.\n",
        "\n",
        "In order to get started, we need to access the [ROOT framework](https://root.cern.ch/) and download some datafiles into this machine.\n",
        "\n",
        "If you are using Google Colab then you need to ensure that you are using Python 2:\n",
        "\n",
        "Before we start - we have to use Python2 (not Python 3), so we should choose this as an option in \"Runtime\" -> \"Change Runtime Type\" at the top or create a new notebook in Python2 by appending \"&runtime=python2\" to the URL."
      ]
    },
    {
      "cell_type": "code",
      "metadata": {
        "id": "vFclIR72w0mU",
        "colab": {
          "base_uri": "https://localhost:8080/"
        },
        "outputId": "ba2744e2-71c4-4d82-9daf-3f5c0b27afa8"
      },
      "source": [
        "#Colab only\n",
        "#we are going to make a directory called APPS\n",
        "!mkdir -p APPS\n",
        "#Now we move to our directory called APPS and we download ROOT from the CERN server, this version is chosen because it runs on this machine - if you want to run this locally check the versions!\n",
        "!cd APPS && wget https://root.cern.ch/download/root_v6.13.08.Linux-ubuntu18-x86_64-gcc7.3.tar.gz \n",
        "#Now we extract our downloaded file:\n",
        "!cd APPS && tar -xf root_v6.13.08.Linux-ubuntu18-x86_64-gcc7.3.tar.gz\n"
      ],
      "execution_count": 1,
      "outputs": [
        {
          "output_type": "stream",
          "text": [
            "--2021-03-01 22:02:25--  https://root.cern.ch/download/root_v6.13.08.Linux-ubuntu18-x86_64-gcc7.3.tar.gz\n",
            "Resolving root.cern.ch (root.cern.ch)... 137.138.18.236, 2001:1458:201:ee::100:6\n",
            "Connecting to root.cern.ch (root.cern.ch)|137.138.18.236|:443... connected.\n",
            "HTTP request sent, awaiting response... 200 OK\n",
            "Length: 137415272 (131M) [application/x-gzip]\n",
            "Saving to: ‘root_v6.13.08.Linux-ubuntu18-x86_64-gcc7.3.tar.gz.2’\n",
            "\n",
            "root_v6.13.08.Linux 100%[===================>] 131.05M  29.8MB/s    in 5.1s    \n",
            "\n",
            "2021-03-01 22:02:31 (25.9 MB/s) - ‘root_v6.13.08.Linux-ubuntu18-x86_64-gcc7.3.tar.gz.2’ saved [137415272/137415272]\n",
            "\n"
          ],
          "name": "stdout"
        }
      ]
    },
    {
      "cell_type": "code",
      "metadata": {
        "id": "COPyXIvbxqht",
        "colab": {
          "base_uri": "https://localhost:8080/"
        },
        "outputId": "28ce7b48-f594-4c9f-e8af-b2468452bb88"
      },
      "source": [
        "#Colab only:\n",
        "#now we can extract some files from ROOT and ensure that we can access the libraries. We use some python key words to get access to the right files:\n",
        "\n",
        "import sys\n",
        "\n",
        "sys.path.append(\"/content/APPS/root/lib\")\n",
        "\n",
        "import ctypes\n",
        "\n",
        "\n",
        "ctypes.cdll.LoadLibrary('/content/APPS/root/lib/libCore.so')\n",
        "\n",
        "ctypes.cdll.LoadLibrary('/content/APPS/root/lib/libThread.so')\n",
        "\n",
        "ctypes.cdll.LoadLibrary('/content/APPS/root/lib/libImt.so')\n",
        "\n",
        "ctypes.cdll.LoadLibrary('/content/APPS/root/lib/libRIO.so')\n",
        "\n",
        "ctypes.cdll.LoadLibrary('/content/APPS/root/lib/libNet.so')\n",
        "\n",
        "ctypes.cdll.LoadLibrary('/content/APPS/root/lib/libTree.so')\n",
        "\n",
        "ctypes.cdll.LoadLibrary('/content/APPS/root/lib/libMathCore.so')\n",
        "\n",
        "ctypes.cdll.LoadLibrary('/content/APPS/root/lib/libMathMore.so')\n",
        "\n",
        "ctypes.cdll.LoadLibrary('/content/APPS/root/lib/libMatrix.so')\n",
        "\n",
        "ctypes.cdll.LoadLibrary('/content/APPS/root/lib/libHist.so')\n",
        "\n",
        "ctypes.cdll.LoadLibrary('/content/APPS/root/lib/libGraf.so')\n",
        "\n",
        "ctypes.cdll.LoadLibrary('/content/APPS/root/lib/libPyROOT.so')\n",
        "\n",
        "ctypes.cdll.LoadLibrary('/content/APPS/root/lib/libGpad.so')\n",
        "\n",
        "ctypes.cdll.LoadLibrary('/content/APPS/root/lib/libGraf3d.so')\n",
        "\n",
        "ctypes.cdll.LoadLibrary('/content/APPS/root/lib/libMultiProc.so')\n",
        "\n",
        "ctypes.cdll.LoadLibrary('/content/APPS/root/lib/libMinuit.so')\n",
        "\n",
        "ctypes.cdll.LoadLibrary('/content/APPS/root/lib/libFoam.so')"
      ],
      "execution_count": 2,
      "outputs": [
        {
          "output_type": "execute_result",
          "data": {
            "text/plain": [
              "<CDLL '/content/APPS/root/lib/libFoam.so', handle 55722af3a300 at 7f63b56bd650>"
            ]
          },
          "metadata": {
            "tags": []
          },
          "execution_count": 2
        }
      ]
    },
    {
      "cell_type": "code",
      "metadata": {
        "id": "QTVz7NQMyDCb",
        "colab": {
          "base_uri": "https://localhost:8080/",
          "height": 607
        },
        "outputId": "5e6a87ec-2640-4759-fc88-8e04c99b6030"
      },
      "source": [
        "#Now we can check if we have everything working as we expect: \n",
        "#Import brings the ROOT framework into our python environment.\n",
        "import ROOT\n",
        "#We define a 1 dimensional histogram, with 100 bins which ranges from -4 to +4\n",
        "h = ROOT.TH1F(\"gauss\",\"Example histogram\",100,-4,4)\n",
        "#Fill the histogram with gaussian (random) distribution\n",
        "h.FillRandom(\"gaus\")\n",
        "#make a Canvas (i.e. a drawing)\n",
        "c = ROOT.TCanvas(\"myCanvasName\",\"The Canvas Title\",800,600)\n",
        "#Draw my histogram\n",
        "h.Draw()\n",
        "#Show me the canvas\n",
        "c.Draw()"
      ],
      "execution_count": 3,
      "outputs": [
        {
          "output_type": "stream",
          "text": [
            "Welcome to JupyROOT 6.13/08\n"
          ],
          "name": "stdout"
        },
        {
          "output_type": "display_data",
          "data": {
            "image/png": "[encoded data removed]",
            "text/plain": [
              "<IPython.core.display.Image object>"
            ]
          },
          "metadata": {
            "tags": []
          }
        }
      ]
    },
    {
      "cell_type": "code",
      "metadata": {
        "colab": {
          "base_uri": "https://localhost:8080/"
        },
        "id": "IpYBQCScFQmK",
        "outputId": "4f31ee1a-26f4-4eb9-b117-8a3ff06891f4"
      },
      "source": [
        "from google.colab import drive\n",
        "drive.mount('/content/drive')"
      ],
      "execution_count": 4,
      "outputs": [
        {
          "output_type": "stream",
          "text": [
            "Drive already mounted at /content/drive; to attempt to forcibly remount, call drive.mount(\"/content/drive\", force_remount=True).\n"
          ],
          "name": "stdout"
        }
      ]
    },
    {
      "cell_type": "markdown",
      "metadata": {
        "id": "VXW1M6XB0tXP"
      },
      "source": [
        "All being well - this should give no errors and we should have some kind of Gaussian distribution above.\n",
        "\n",
        "The next step is to get our data file - you can find it on Canvas here: https://maastrichtuniversity.instructure.com/courses/5826/files/553829?module_item_id=115201\n",
        "\n",
        "Then upload it either directly or to your Google Drive and then mount this to your Colab environment"
      ]
    },
    {
      "cell_type": "code",
      "metadata": {
        "id": "Co476pbmBvBB",
        "colab": {
          "base_uri": "https://localhost:8080/",
          "height": 653
        },
        "outputId": "5eb10224-d174-47e1-b199-e742f0164800"
      },
      "source": [
        "#Since we need to use ROOT, we must first import this into Python:\n",
        "import ROOT\n",
        "#Then we open the ROOT file using the TFile command. - note you need to make this file path correct for your own setup!\n",
        "f = ROOT.TFile.Open(\"/content/drive/MyDrive/B2HHH_MagnetUp.root\", \"READONLY\")\n",
        "#From our file, we have to extract the DecayTree \n",
        "tree=f.Get(\"data\")\n",
        "#Now we can grab some variables as a test:\n",
        "ymomentum = ROOT.RooRealVar(\"H1_PY\",\"H1 Y Momentum\",-3000,3000,\"MeV/c\")\n",
        "xmomentum = ROOT.RooRealVar(\"H1_PX\",\"H1 X Momentum\",-3000,3000,\"MeV/c\")\n",
        "zmomentum = ROOT.RooRealVar(\"H1_PZ\",\"H1 Z Momentum\",-3000,3000,\"MeV/c\")\n",
        "# We then create a dataset for us to play with\n",
        "data = ROOT.RooDataSet(\"data\",\"data set\", tree, ROOT.RooArgSet(xmomentum,ymomentum,zmomentum), \"1==1\")\n",
        "# Now we create a canvas, plot our data onto the canvas and draw it:\n",
        "c = ROOT.TCanvas(\"c\",\"c\")\n",
        "frame = xmomentum.frame()\n",
        "data.plotOn(frame)\n",
        "frame.Draw()\n",
        "c.Draw()"
      ],
      "execution_count": 5,
      "outputs": [
        {
          "output_type": "stream",
          "text": [
            "\n",
            "\u001b[1mRooFit v3.60 -- Developed by Wouter Verkerke and David Kirkby\u001b[0m \n",
            "                Copyright (C) 2000-2013 NIKHEF, University of California & Stanford University\n",
            "                All rights reserved, please read http://roofit.sourceforge.net/license.txt\n",
            "\n",
            "[#1] INFO:Eval -- RooAbsReal::attachToTree(H1_PX) TTree Float_t branch H1_PX will be converted to double precision\n",
            "[#1] INFO:Eval -- RooAbsReal::attachToTree(H1_PY) TTree Float_t branch H1_PY will be converted to double precision\n",
            "[#1] INFO:Eval -- RooAbsReal::attachToTree(H1_PZ) TTree Float_t branch H1_PZ will be converted to double precision\n",
            "[#1] INFO:Eval -- RooTreeDataStore::loadValues(data) Ignored 3305139 out of range events\n"
          ],
          "name": "stdout"
        },
        {
          "output_type": "display_data",
          "data": {
            "image/png": "[encoded data removed]",
            "text/plain": [
              "<IPython.core.display.Image object>"
            ]
          },
          "metadata": {
            "tags": []
          }
        }
      ]
    },
    {
      "cell_type": "markdown",
      "metadata": {
        "id": "4e4n4iS3IJZi"
      },
      "source": [
        "#Why are we here?\n",
        "\n",
        "This week is about finding out something about one of the fundemental questions in physics. Why do we have \"stuff\".\n",
        "\n",
        "According to many of our models, and according to many measurements in particle physics, matter and anti-matter appear to be produced in equal quantities.\n",
        "\n",
        "However, when one looks at the Universe in general, we have more matter than anti-matter left - so there need to be some processes where anti-matter and matter are not produced equally. You can find out more about the Matter/Anti-Matter Asymmetry [here](http://press.web.cern.ch/backgrounders/matterantimatter-asymmetry)\n",
        "\n",
        "One place we look for this asymetry is in [charge-partity (CP) violation](https://www.symmetrymagazine.org/article/october-2005/explain-it-in-60-seconds) in particle physics processes. This essentially says that the processes that happen in the anti-particle version of a decay do not **exactly** match to the processes that happen in the particle version of the decay.\n",
        "\n",
        "\n",
        "\n",
        "---\n",
        "\n",
        "\n",
        "\n",
        "At LHCb, we produce both particle of the  B<sup>+</sup> meson and it's antiparticle the B<sup>-</sup> meson.\n",
        "\n",
        "We cannot detect these mesons directly. They decay into other things before we have a chance to measure them properly. So we collect data on the decay products, often called daughter particles. There are 524 [documented](http://pdg.lbl.gov/2014/listings/rpp2014-list-B-plus-minus.pdf) ways that the B<sup>+/-</sup> decays into various combinations. In order to simplify the process, we choose decay combinations that are convenient or have particular properties.\n",
        "\n",
        "In this analysis, we will take the process:-\n",
        "\n",
        "B<sup>+</sup>->K<sup>+</sup> + K<sup>+</sup>  + K<sup>-</sup>\n",
        "\n",
        "or\n",
        "\n",
        "B<sup>-</sup>->K<sup>-</sup> + K<sup>-</sup>  + K<sup>+</sup>\n",
        "\n",
        "\n",
        "To do so, we are given the following data for each event in our system:-\n",
        "\n",
        "![alt text](https://raw.githubusercontent.com/lhcb/opendata-project/80d64a3796e593fc8f9b257e85f32ae2e54f131f/Images/Variables.png)\n",
        "\n",
        "Here, H1 is the detected daughter particle (so a Kaon or a Pion), **not** the B-meson - the mother particle. Normally we would have to do some reconstruction from the decay products (the Daughters) to the Mother to be able to make some conclusions.\n",
        "\n",
        "Let's get started with working with this data:"
      ]
    },
    {
      "cell_type": "markdown",
      "metadata": {
        "id": "LOhfj7kfP-ao"
      },
      "source": [
        "For our analysis, the momentum of each of the daughter particles is split into the three cartesian components. We have combined these into a variable called H1_Ptot"
      ]
    },
    {
      "cell_type": "code",
      "metadata": {
        "id": "Y4keyoyTPjsK",
        "colab": {
          "base_uri": "https://localhost:8080/",
          "height": 616
        },
        "outputId": "fc4af916-7eba-4600-a49b-ab96988bc5fe"
      },
      "source": [
        "#Since we need to use ROOT, we must first import this into Python:\r\n",
        "import ROOT\r\n",
        "#Then we open the ROOT file using the TFile command. - note you need to make this file path correct for your own setup!\r\n",
        "f = ROOT.TFile.Open(\"/content/drive/MyDrive/B2HHH_MagnetUp.root\", \"READONLY\")\r\n",
        "#From our file, we have to extract the DecayTree \r\n",
        "tree=f.Get(\"data\")\r\n",
        "#Now we can grab some variables as a test:\r\n",
        "tot1momentum = ROOT.RooRealVar(\"H1_Ptot\",\"H1 total Momentum\",0,300000,\"MeV/c\")\r\n",
        "tot2momentum = ROOT.RooRealVar(\"H2_Ptot\",\"H2 total Momentum\",0,300000,\"MeV/c\")\r\n",
        "tot3momentum = ROOT.RooRealVar(\"H3_Ptot\",\"H3 total Momentum\",0,300000,\"MeV/c\")\r\n",
        "# We then create a dataset for us to play with\r\n",
        "data1 = ROOT.RooDataSet(\"data\",\"data set\", tree, ROOT.RooArgSet(tot1momentum), \"1==1\")\r\n",
        "data2 = ROOT.RooDataSet(\"data\",\"data set\", tree, ROOT.RooArgSet(tot2momentum), \"1==1\")\r\n",
        "data3 = ROOT.RooDataSet(\"data\",\"data set\", tree, ROOT.RooArgSet(tot3momentum), \"1==1\")\r\n",
        "# Now we create a canvas, plot our data onto the canvas and draw it:\r\n",
        "c = ROOT.TCanvas(\"c\",\"c\")\r\n",
        "\r\n",
        "\r\n",
        "frame1 = tot1momentum.frame()\r\n",
        "frame2 = tot2momentum.frame()\r\n",
        "frame3 = tot3momentum.frame()\r\n",
        "\r\n",
        "\r\n",
        "data1.plotOn(frame1)\r\n",
        "data2.plotOn(frame2)\r\n",
        "data3.plotOn(frame3)\r\n",
        "frame1.Draw()\r\n",
        "frame2.Draw(\"same\")\r\n",
        "frame3.Draw(\"same\")\r\n",
        "c.Draw()"
      ],
      "execution_count": 6,
      "outputs": [
        {
          "output_type": "stream",
          "text": [
            "[#1] INFO:Eval -- RooAbsReal::attachToTree(H1_Ptot) TTree Float_t branch H1_Ptot will be converted to double precision\n",
            "[#1] INFO:Eval -- RooTreeDataStore::loadValues(data) Ignored 12283 out of range events\n",
            "[#1] INFO:Eval -- RooAbsReal::attachToTree(H2_Ptot) TTree Float_t branch H2_Ptot will be converted to double precision\n",
            "[#1] INFO:Eval -- RooTreeDataStore::loadValues(data) Ignored 139 out of range events\n",
            "[#1] INFO:Eval -- RooAbsReal::attachToTree(H3_Ptot) TTree Float_t branch H3_Ptot will be converted to double precision\n",
            "[#1] INFO:Eval -- RooTreeDataStore::loadValues(data) Ignored 27072 out of range events\n"
          ],
          "name": "stdout"
        },
        {
          "output_type": "stream",
          "text": [
            "Warning in <TCanvas::Constructor>: Deleting canvas with same name: c\n"
          ],
          "name": "stderr"
        },
        {
          "output_type": "display_data",
          "data": {
            "image/png": "[encoded data removed]",
            "text/plain": [
              "<IPython.core.display.Image object>"
            ]
          },
          "metadata": {
            "tags": []
          }
        }
      ]
    },
    {
      "cell_type": "code",
      "metadata": {
        "colab": {
          "base_uri": "https://localhost:8080/",
          "height": 589
        },
        "id": "IMQg7fYyohRB",
        "outputId": "a0d46789-ff68-465d-bd26-81c2e4ad935c"
      },
      "source": [
        "#Histogram plot of total momentum of daughter particles\r\n",
        "cD = ROOT.TCanvas(\"Momentums of particles\", \"Momentum\",800,600)\r\n",
        "\r\n",
        "tree.Draw(\"H1_Ptot\"+\">>tot1momentum(1000,0,300000)\")\r\n",
        "tree.Draw(\"H2_Ptot\"+\">>tot2momentum(1000,0,300000)\")\r\n",
        "tree.Draw(\"H3_Ptot\"+\">>tot3momentum(1000,0,300000)\")\r\n",
        "\r\n",
        "histogram1 = ROOT.gDirectory.Get(\"tot1momentum\")\r\n",
        "histogram2 = ROOT.gDirectory.Get(\"tot2momentum\")\r\n",
        "histogram3 = ROOT.gDirectory.Get(\"tot3momentum\")\r\n",
        "\r\n",
        "histogram1.SetLineColor(1)\r\n",
        "histogram2.SetLineColor(20)\r\n",
        "histogram3.SetLineColor(30)\r\n",
        "\r\n",
        "histogram1.Draw()\r\n",
        "histogram2.Draw(\"same\")\r\n",
        "histogram3.Draw(\"same\")\r\n",
        "\r\n",
        "cD.Draw()"
      ],
      "execution_count": 7,
      "outputs": [
        {
          "output_type": "display_data",
          "data": {
            "image/png": "[encoded data removed]",
            "text/plain": [
              "<IPython.core.display.Image object>"
            ]
          },
          "metadata": {
            "tags": []
          }
        }
      ]
    },
    {
      "cell_type": "markdown",
      "metadata": {
        "id": "C1lXLMCoR1Gi"
      },
      "source": [
        "Now plot the total momentum for the mother (M_Ptot)"
      ]
    },
    {
      "cell_type": "code",
      "metadata": {
        "id": "6kdbiNpPR1QG",
        "colab": {
          "base_uri": "https://localhost:8080/",
          "height": 544
        },
        "outputId": "a9c81767-c6b0-4003-957e-fa0005e4e041"
      },
      "source": [
        "#Then we open the ROOT file using the TFile command. - note you need to make this file path correct for your own setup!\r\n",
        "f = ROOT.TFile.Open(\"/content/drive/MyDrive/B2HHH_MagnetUp.root\", \"READONLY\")\r\n",
        "#From our file, we have to extract the DecayTree \r\n",
        "tree=f.Get(\"data\")\r\n",
        "#Now we can grab some variables as a test:\r\n",
        "momentumM = ROOT.RooRealVar(\"M_Ptot\",\"Mother Particle total Momentum\",20000,450000,\"MeV/c\")\r\n",
        "# We then create a dataset for us to play with\r\n",
        "dataM = ROOT.RooDataSet(\"data\",\"data set\", tree, ROOT.RooArgSet(momentumM), \"1==1\")\r\n",
        "# Now we create a canvas, plot our data onto the canvas and draw it:\r\n",
        "c = ROOT.TCanvas(\"c\",\"c\")\r\n",
        "\r\n",
        "\r\n",
        "frameM = momentumM.frame()\r\n",
        "\r\n",
        "dataM.plotOn(frameM)\r\n",
        "frameM.Draw()\r\n",
        "c.Draw()"
      ],
      "execution_count": 8,
      "outputs": [
        {
          "output_type": "stream",
          "text": [
            "[#1] INFO:Eval -- RooAbsReal::attachToTree(M_Ptot) TTree Float_t branch M_Ptot will be converted to double precision\n",
            "[#1] INFO:Eval -- RooTreeDataStore::loadValues(data) Ignored 19614 out of range events\n"
          ],
          "name": "stdout"
        },
        {
          "output_type": "stream",
          "text": [
            "Warning in <TCanvas::Constructor>: Deleting canvas with same name: c\n"
          ],
          "name": "stderr"
        },
        {
          "output_type": "display_data",
          "data": {
            "image/png": "[encoded data removed]",
            "text/plain": [
              "<IPython.core.display.Image object>"
            ]
          },
          "metadata": {
            "tags": []
          }
        }
      ]
    },
    {
      "cell_type": "code",
      "metadata": {
        "colab": {
          "base_uri": "https://localhost:8080/",
          "height": 607
        },
        "id": "QqSk8pTcoZPg",
        "outputId": "b3bdfb59-2bb5-45f5-817c-dc384808fe51"
      },
      "source": [
        "#histogram plot of Total Momentum Mother Particle\r\n",
        "cM = ROOT.TCanvas(\"Momentums of particles\", \"Momentum\",800,600)\r\n",
        "\r\n",
        "tree.Draw(\"M_Ptot\"+\">>momentumM(200,0,450000)\")\r\n",
        "\r\n",
        "histogram1 = ROOT.gDirectory.Get(\"momentumM\")\r\n",
        "\r\n",
        "\r\n",
        "histogram1.SetLineColor(1)\r\n",
        "\r\n",
        "histogram1.Draw()\r\n",
        "\r\n",
        "cM.Draw()"
      ],
      "execution_count": 9,
      "outputs": [
        {
          "output_type": "stream",
          "text": [
            "Warning in <TCanvas::Constructor>: Deleting canvas with same name: Momentums of particles\n"
          ],
          "name": "stderr"
        },
        {
          "output_type": "display_data",
          "data": {
            "image/png": "[encoded data removed]",
            "text/plain": [
              "<IPython.core.display.Image object>"
            ]
          },
          "metadata": {
            "tags": []
          }
        }
      ]
    },
    {
      "cell_type": "markdown",
      "metadata": {
        "id": "Gj5qv5kqSMIF"
      },
      "source": [
        "Let's take a look at the whole data file that is available to us by looking at one specific entry - number 45"
      ]
    },
    {
      "cell_type": "code",
      "metadata": {
        "id": "QMkih_6SSG8I",
        "colab": {
          "base_uri": "https://localhost:8080/"
        },
        "outputId": "9a5a1999-31f7-4176-e286-08073c7e383f"
      },
      "source": [
        "tree.Show(45)"
      ],
      "execution_count": 10,
      "outputs": [
        {
          "output_type": "stream",
          "text": [
            "======> EVENT:45\n",
            " B_FlightDistance = 4.71407\n",
            " B_VertexChi2    = 11.5278\n",
            " H1_PX           = 133.376\n",
            " H1_PY           = -1293.52\n",
            " H1_PZ           = 33534.2\n",
            " H1_ProbK        = 0.00735235\n",
            " H1_ProbPi       = 0.204907\n",
            " H1_Charge       = 1\n",
            " H1_IPChi2       = 22.9885\n",
            " H1_isMuon       = 0\n",
            " H2_PX           = 518.943\n",
            " H2_PY           = -1966.2\n",
            " H2_PZ           = 52184.7\n",
            " H2_ProbK        = 0.00482044\n",
            " H2_ProbPi       = 0.266655\n",
            " H2_Charge       = -1\n",
            " H2_IPChi2       = 20.5652\n",
            " H2_isMuon       = 0\n",
            " H3_PX           = 1383.62\n",
            " H3_PY           = -2008.35\n",
            " H3_PZ           = 12154\n",
            " H3_ProbK        = 0.0800247\n",
            " H3_ProbPi       = 0.403711\n",
            " H3_Charge       = -1\n",
            " H3_IPChi2       = 1584.95\n",
            " H3_isMuon       = 0\n",
            " H1_Ptot         = 33559.4\n",
            " H1_type         = 1\n",
            " H1_E            = 33559.7\n",
            " H2_Ptot         = 52224.4\n",
            " H2_type         = 1\n",
            " H2_E            = 52224.5\n",
            " H3_Ptot         = 12396.2\n",
            " H3_type         = 1\n",
            " H3_E            = 12397\n",
            " M_Ptot          = 98035.7\n",
            " M_E             = 98181.3\n",
            " M_m0            = 5343.69\n"
          ],
          "name": "stdout"
        }
      ]
    },
    {
      "cell_type": "markdown",
      "metadata": {
        "id": "w3sqwtNTUEJd"
      },
      "source": [
        "We have now completed the initial steps and begun to work through what we need to with the data. This is a perfect moment to take a coffee!"
      ]
    },
    {
      "cell_type": "markdown",
      "metadata": {
        "id": "6RhWWqt3a8_e"
      },
      "source": [
        "Having discovered all of the relevant information about our daughter particles, we need to combine the measurements about them into a single mother - which will be our B<sup>+</sup> or our B<sup>-</sup>\r\n",
        "\r\n",
        "Having found our momentum and energy, we can use these quantities to find our experimental mass (not the theoretical mass as we have used for the reconstruction).\r\n",
        "\r\n",
        "When we calculate this, we will get a distribution of masses. This is due to errors in the measurements made either by the detector, or in the experiment itself. We hope to have a reasonably narrow peak to work with, but, sometimes this is not possible.\r\n",
        "\r\n",
        "Additionally there will be other particles in the detector - which means our daughters might have come from two or even three different processes. Events which don't come from the same process will give a higher or lower mass than we are looking for. This is typically called the *background* while events which come from our event of interest are called the *signal*"
      ]
    },
    {
      "cell_type": "code",
      "metadata": {
        "id": "onr7-8CMbbFf",
        "colab": {
          "base_uri": "https://localhost:8080/",
          "height": 589
        },
        "outputId": "131c0310-4f15-4bf5-f896-30bbbb2087b7"
      },
      "source": [
        "#Now plot a histogram of the range of masses of the B meson.\r\n",
        "#Does this match what we would expect from theory? \r\n",
        "\r\n",
        "\r\n",
        "c3 = ROOT.TCanvas(\"Mother Particle Mass\", \"Mass\",800,600)\r\n",
        "\r\n",
        "tree.Draw(\"M_m0\"+\">>Mother Particle Mass(1000,1500,6500)\")\r\n",
        "\r\n",
        "histogram1= ROOT.gDirectory.Get(\"Mother Particle Mass\")\r\n",
        "\r\n",
        "histogram1.SetLineColor(4)\r\n",
        "\r\n",
        "histogram1.Draw()\r\n",
        "histogram1.SetTitle(\"Events vs. mass\")\r\n",
        "histogram1.SetXTitle(\"Mass (MeV/C\")\r\n",
        "histogram1.SetYTitle(\"Events\")\r\n",
        "\r\n",
        "leg = ROOT.TLegend(0.15, 0.85, .3, .8)\r\n",
        "leg.SetBorderSize(1)\r\n",
        "leg.SetFillColor(0)\r\n",
        "leg.SetFillStyle(0)\r\n",
        "leg.SetTextFont(42)\r\n",
        "leg.SetTextSize(0.035)\r\n",
        "leg.AddEntry(histogram1, \"Data\",\"L\")\r\n",
        "leg.Draw()\r\n",
        "\r\n",
        "c3.Draw()\r\n",
        "\r\n"
      ],
      "execution_count": 11,
      "outputs": [
        {
          "output_type": "display_data",
          "data": {
            "image/png": "[encoded data removed]",
            "text/plain": [
              "<IPython.core.display.Image object>"
            ]
          },
          "metadata": {
            "tags": []
          }
        }
      ]
    },
    {
      "cell_type": "markdown",
      "metadata": {
        "id": "MWGFKFnXb0RP"
      },
      "source": [
        "We know that some of our particles are the B+ and some are the B- particle. There will also be some particles in our system that are not coming from a genuine B+/- or are a B+/- but are not constructed from Kaons.\r\n",
        "\r\n",
        "We have some tools available to help:-\r\n",
        "\r\n",
        "  *  During detection, software attributes the probability of a particle being a Kaon or a Pion (in the H1_ProbK or H1_ProbPi variable)\r\n",
        "  * The detector also knows if the particle was a Muon - since it has detectors specifically for these. So it can attribute a 0 or a 1 to this probability\r\n",
        "  * The reconstructed vertex has a some kind of quality associated with it (we call this the Vertex χ2 (this is the variable B_VertexChi2). This is the statistical measure that determines how well we found a single point to be the source of all three particles.\r\n",
        "\r\n"
      ]
    },
    {
      "cell_type": "markdown",
      "metadata": {
        "id": "fEpnSmH4b9HZ"
      },
      "source": [
        "In order to get a better result, we should select our data to have the properties we desire and make some rules (often called a selection) to cut away data we don't want to include for various reasons. e.g. we know we don't have any muons in our decay - so any time H1/H2/H3 are a muon they should be excluded. The other variables are not so clear - so we can plot them to make a decision."
      ]
    },
    {
      "cell_type": "code",
      "metadata": {
        "id": "k0vikJp0cAvv",
        "colab": {
          "base_uri": "https://localhost:8080/",
          "height": 489
        },
        "outputId": "9dfeea72-c7d7-4632-9685-28f2bbc84541"
      },
      "source": [
        "#Make plots of H1/H2/H3 _ProbK on one plot\r\n",
        "\r\n",
        "canvas = ROOT.TCanvas(\"canvas\")\r\n",
        "\r\n",
        "\r\n",
        "tree.Draw(\"H1_ProbK\"+\">>Probk_H1(500,0,1)\")\r\n",
        "tree.Draw(\"H2_ProbK\"+\">>Probk_H2(500,0,1)\")\r\n",
        "tree.Draw(\"H3_ProbK\"+\">>Probk_H3(500,0,1)\")\r\n",
        "\r\n",
        "\r\n",
        "histogram1= ROOT.gDirectory.Get(\"Probk_H1\")\r\n",
        "histogram2= ROOT.gDirectory.Get(\"Probk_H2\")\r\n",
        "histogram3= ROOT.gDirectory.Get(\"Probk_H3\")\r\n",
        "\r\n",
        "histogram1.SetLineColor(3)\r\n",
        "histogram2.SetLineColor(2)\r\n",
        "histogram3.SetLineColor(4)\r\n",
        "\r\n",
        "histogram1.Draw()\r\n",
        "histogram2.Draw(\"same\")\r\n",
        "histogram3.Draw(\"same\")\r\n",
        "\r\n",
        "histogram1.SetTitle(\"Events vs. Kaon Probability\")\r\n",
        "histogram1.SetXTitle(\"Kaon Probability\")\r\n",
        "histogram1.SetYTitle(\"Events\")\r\n",
        "\r\n",
        "leg = ROOT.TLegend(0.15, 0.85, .3, .7)\r\n",
        "leg.SetBorderSize(1)\r\n",
        "leg.SetFillColor(0)\r\n",
        "leg.SetFillStyle(0)\r\n",
        "leg.SetTextFont(42)\r\n",
        "leg.SetTextSize(0.035)\r\n",
        "leg.AddEntry(histogram1, \"Particle 1\",\"L\")\r\n",
        "leg.AddEntry(histogram2, \"Particle 2\",\"L\")\r\n",
        "leg.AddEntry(histogram3, \"Particle 3\",\"L\")\r\n",
        "leg.Draw()\r\n",
        "\r\n",
        "canvas.Draw()"
      ],
      "execution_count": 12,
      "outputs": [
        {
          "output_type": "display_data",
          "data": {
            "image/png": "[encoded data removed]",
            "text/plain": [
              "<IPython.core.display.Image object>"
            ]
          },
          "metadata": {
            "tags": []
          }
        }
      ]
    },
    {
      "cell_type": "code",
      "metadata": {
        "colab": {
          "base_uri": "https://localhost:8080/",
          "height": 507
        },
        "id": "ugX0yFj_Copg",
        "outputId": "41435ca5-97a5-43a4-e82e-1d41121923e0"
      },
      "source": [
        "#Make plots of H1/H2/H3 _ProbPi on one plot\r\n",
        "canvas = ROOT.TCanvas(\"Momentums of particles\", \"Momentum\")\r\n",
        "\r\n",
        "\r\n",
        "tree.Draw(\"H1_ProbPi\"+\">>ProbPi_H1(500,0,1)\")\r\n",
        "tree.Draw(\"H2_ProbPi\"+\">>ProbPi_H2(500,0,1)\")\r\n",
        "tree.Draw(\"H3_ProbPi\"+\">>ProbPi_H3(500,0,1)\")\r\n",
        "\r\n",
        "histogram1= ROOT.gDirectory.Get(\"ProbPi_H1\")\r\n",
        "histogram2= ROOT.gDirectory.Get(\"ProbPi_H2\")\r\n",
        "histogram3= ROOT.gDirectory.Get(\"ProbPi_H3\")\r\n",
        "\r\n",
        "histogram1.SetLineColor(3)\r\n",
        "histogram2.SetLineColor(2)\r\n",
        "histogram3.SetLineColor(4)\r\n",
        "\r\n",
        "histogram1.Draw()\r\n",
        "histogram2.Draw(\"same\")\r\n",
        "histogram3.Draw(\"same\")\r\n",
        "\r\n",
        "histogram1.SetTitle(\"Events vs. Pion Probability\")\r\n",
        "histogram1.SetXTitle(\"Pion Probability\")\r\n",
        "histogram1.SetYTitle(\"Events\")\r\n",
        "\r\n",
        "leg = ROOT.TLegend(0.25, 0.85, .4, .7)\r\n",
        "leg.SetBorderSize(1)\r\n",
        "leg.SetFillColor(0)\r\n",
        "leg.SetFillStyle(0)\r\n",
        "leg.SetTextFont(42)\r\n",
        "leg.SetTextSize(0.035)\r\n",
        "leg.AddEntry(histogram1, \"Particle 1\",\"L\")\r\n",
        "leg.AddEntry(histogram2, \"Particle 2\",\"L\")\r\n",
        "leg.AddEntry(histogram3, \"Particle 3\",\"L\")\r\n",
        "leg.Draw()\r\n",
        "\r\n",
        "canvas.Draw()"
      ],
      "execution_count": 13,
      "outputs": [
        {
          "output_type": "stream",
          "text": [
            "Warning in <TCanvas::Constructor>: Deleting canvas with same name: Momentums of particles\n"
          ],
          "name": "stderr"
        },
        {
          "output_type": "display_data",
          "data": {
            "image/png": "[encoded data removed]",
            "text/plain": [
              "<IPython.core.display.Image object>"
            ]
          },
          "metadata": {
            "tags": []
          }
        }
      ]
    },
    {
      "cell_type": "code",
      "metadata": {
        "colab": {
          "base_uri": "https://localhost:8080/",
          "height": 507
        },
        "id": "w1CtFWlxCqaz",
        "outputId": "c4f13bae-6a58-41f5-c28d-0e4d1feb6964"
      },
      "source": [
        "#For all our particles, make a plot of the B_VertexChi2\r\n",
        "canvas = ROOT.TCanvas(\"Momentums of particles\", \"Momentum\")\r\n",
        "\r\n",
        "tree.Draw(\"B_VertexChi2\"+\">>BVChi2(1000,0,12)\")\r\n",
        "\r\n",
        "histogram1= ROOT.gDirectory.Get(\"BVChi2\")\r\n",
        "\r\n",
        "histogram1.SetLineColor(4)\r\n",
        "\r\n",
        "histogram1.Draw()\r\n",
        "\r\n",
        "histogram1.SetTitle(\"Events vs. B Vertex Chi Squared\")\r\n",
        "histogram1.SetXTitle(\"B Vertex Chi Squared\")\r\n",
        "histogram1.SetYTitle(\"Events\")\r\n",
        "\r\n",
        "canvas.Draw()"
      ],
      "execution_count": 14,
      "outputs": [
        {
          "output_type": "stream",
          "text": [
            "Warning in <TCanvas::Constructor>: Deleting canvas with same name: Momentums of particles\n"
          ],
          "name": "stderr"
        },
        {
          "output_type": "display_data",
          "data": {
            "image/png": "[encoded data removed]",
            "text/plain": [
              "<IPython.core.display.Image object>"
            ]
          },
          "metadata": {
            "tags": []
          }
        }
      ]
    },
    {
      "cell_type": "markdown",
      "metadata": {
        "id": "DWmxBkZ0cDx1"
      },
      "source": [
        "Using these plots, we can now make a preselection string. This is a text string that looks like "
      ]
    },
    {
      "cell_type": "code",
      "metadata": {
        "id": "U1IGKyZXcGJP"
      },
      "source": [
        "#This example is for each daughter particle to have a Probability of being a Pion being more than 90% and H1 to not be a muon\r\n",
        "#This is not a good choice of selection - you should make your own :)\r\n",
        "selection=(\"H1_ProbPi>0.9&H2_ProbPi>0.9&H3_ProbPi>0.9&!H1_isnotMuon\")"
      ],
      "execution_count": 15,
      "outputs": []
    },
    {
      "cell_type": "code",
      "metadata": {
        "id": "MxD7JMeicMu0"
      },
      "source": [
        "#To apply the selection - we can use the copytree command:\r\n",
        "selection=(\"H1_ProbK>0.9\")\r\n",
        "CutTree=tree.CopyTree(selection)\r\n",
        "\r\n",
        "#So now we take our data in tree and apply selection to it (so only events which comply with those rules are kept) and put the new data in CutTree"
      ],
      "execution_count": 16,
      "outputs": []
    },
    {
      "cell_type": "code",
      "metadata": {
        "id": "hmmsoUwEcOir",
        "colab": {
          "base_uri": "https://localhost:8080/",
          "height": 607
        },
        "outputId": "96b96fea-4023-4ab7-d5c6-1e6ad334d825"
      },
      "source": [
        "#Now as a good check, we should see the effect of applying our cuts.\r\n",
        "#On one histogram, plot the B meson mass, from both the tree (pre-cuts) and the CutTree (post-cuts)\r\n",
        "#What do you notice about your histogram now?\r\n",
        "c3 = ROOT.TCanvas(\"Mother Particle Mass\", \"Mass\",800,600)\r\n",
        "\r\n",
        "tree.Draw(\"M_m0\"+\">>Mother Particle Mass Tree(1000,1500,6500)\")\r\n",
        "CutTree.Draw(\"M_m0\"+\">>Mother Particle Mass CutTree(1000,1500,6500)\")\r\n",
        "\r\n",
        "histogram1= ROOT.gDirectory.Get(\"Mother Particle Mass Tree\")\r\n",
        "histogram2= ROOT.gDirectory.Get(\"Mother Particle Mass CutTree\")\r\n",
        "\r\n",
        "histogram1.SetLineColor(4)\r\n",
        "histogram2.SetLineColor(2)\r\n",
        "\r\n",
        "histogram1.Draw()\r\n",
        "histogram2.Draw(\"same\")\r\n",
        "histogram1.SetTitle(\"B meson mass for tree and CutTree (H1_ProbK>0.9)\")\r\n",
        "histogram1.SetXTitle(\"Mass (MeV/C\")\r\n",
        "histogram1.SetYTitle(\"Events\")\r\n",
        "\r\n",
        "leg = ROOT.TLegend(0.15, 0.85, .3, .75)\r\n",
        "leg.SetBorderSize(1)\r\n",
        "leg.SetFillColor(0)\r\n",
        "leg.SetFillStyle(0)\r\n",
        "leg.SetTextFont(42)\r\n",
        "leg.SetTextSize(0.035)\r\n",
        "leg.AddEntry(histogram1, \"Tree\",\"L\")\r\n",
        "leg.AddEntry(histogram2, \"CutTree\",\"L\")\r\n",
        "leg.Draw()\r\n",
        "\r\n",
        "c3.Draw()"
      ],
      "execution_count": 17,
      "outputs": [
        {
          "output_type": "stream",
          "text": [
            "Warning in <TCanvas::Constructor>: Deleting canvas with same name: Mother Particle Mass\n"
          ],
          "name": "stderr"
        },
        {
          "output_type": "display_data",
          "data": {
            "image/png": "[encoded data removed]",
            "text/plain": [
              "<IPython.core.display.Image object>"
            ]
          },
          "metadata": {
            "tags": []
          }
        }
      ]
    },
    {
      "cell_type": "markdown",
      "metadata": {
        "id": "N1tResqvcMgQ"
      },
      "source": [
        "#How do we count the number of events?\r\n",
        "\r\n",
        "We now have a histogram of events that we have reconstructed as a B meson. But some of these events are caused by a co-incidence of events which would still occur if there were no B mesons actually produced. We call this the background. Background and signal are indistinguishable now as the detector cannot tell the difference and our cuts were unable to remove the events for physics reasons. We can do some statistical analysis, if we know the approximate shapes of our signal and our background. Just like a least-squares fitting we can run a fit routine to minimise the error between the fitted curve and our data. As an example, if we know our data has an exponential background and a gaussian signal:\r\n",
        "\r\n",
        "![Gaussian+Exp Background](https://twiki.cern.ch/twiki/pub/RooStats/RooStatsTutorialsJune2013/GausExpModelFit.png)\r\n",
        "\r\n",
        "Here the red line represents our signal, the blue dotted line is our background and the solid blue line is our combined curve. The graph also shows the number of signal events and the number of background events. The signal now is a tiny fraction of the total data shown in the plot.\r\n",
        "\r\n",
        "In order to do this, we need to build a fit model, around which the software can try to fit our data.\r\n",
        "\r\n",
        "We use RooFit for this, which includes:\r\n",
        "* Gaussian\r\n",
        "* Exponential\r\n",
        "* Chebychev\r\n",
        "* Crystal Ball\r\n",
        "* Breit-Wigner\r\n",
        "\r\n",
        "As well as several other choices.\r\n",
        "\r\n",
        "Typically exponential and Chebychev functions are used for background and Gaussian, Crystal Ball and Breit-Wigner are used for signal. We can also combine them (e.g. 1 crystal ball, 1 gaussian, 1 exponential) in various ways."
      ]
    },
    {
      "cell_type": "code",
      "metadata": {
        "id": "R_7q_HY1qhiS"
      },
      "source": [
        "#define physical measurment that we want to fit using RooRealVar\r\n",
        "# var = ROOT.RooRealVar =(\"Variable from Python\", \"Nickname\",Min, Max, Units)\r\n",
        "mass = ROOT.RooRealVar(\"M_m0\",\"Mass\",5050,5500,\"MeV/C^{2}\")\r\n",
        "\r\n",
        "#passing the rest of the variables into the model\r\n",
        "#For the RooRealVar the last three parameters are given, \"starting value\" and min/max values\r\n",
        "gaussMean = ROOT.RooRealVar(\"Mean\",\"Mean\",5300,5250,5350)\r\n",
        "gaussWidth = ROOT.RooRealVar(\"Width\",\"Width\",20,0,40)\r\n",
        "\r\n",
        "#Now we have enough to make our Model for the signal:\r\n",
        "\r\n",
        "Gauss=ROOT.RooGaussian(\"Gaussian Signal\",\"Gauss\",mass,gaussMean,gaussWidth)\r\n",
        "Gauss_Norm= ROOT.RooRealVar(\"Gauss_Norm\",\"Signal Yield\", tree.GetEntries()/30, 0, tree.GetEntries() * 3)\r\n",
        "#We also need a background, so let's use a (simple) exponential:\r\n",
        "\r\n",
        "exponent=ROOT.RooRealVar(\"exponent\", \"C\", -0.02, -2, +2)\r\n",
        "exp_Norm= ROOT.RooRealVar(\"exp_Norm\",\"Background Yield\", tree.GetEntries()/30, 0, tree.GetEntries() * 2)\r\n",
        "\r\n",
        "#Define the  model for the background:\r\n",
        "\r\n",
        "Bkgnd=ROOT.RooExponential(\"Exponential Background\",\"Bkgnd\",mass,exponent)\r\n",
        "\r\n",
        "#Now we need to combine these two functions into a single PDF (probability density function)\r\n",
        "#and we need to add the normalisation factors at the end as scaling factors\r\n",
        "\r\n",
        "model=ROOT.RooAddPdf(\"Full Model\",\"model\",ROOT.RooArgList(Gauss,Bkgnd),ROOT.RooArgList(Gauss_Norm, exp_Norm) )"
      ],
      "execution_count": 18,
      "outputs": []
    },
    {
      "cell_type": "code",
      "metadata": {
        "id": "PL-qVvs-dw86",
        "colab": {
          "base_uri": "https://localhost:8080/"
        },
        "outputId": "a08ef4b7-a3bb-4d68-ca14-3318fad3dcdb"
      },
      "source": [
        "#Put our data set into a RooDataSet structure\r\n",
        "\r\n",
        "data_to_fit=ROOT.RooDataSet(\"Data Set\",\"data_to_fit\", CutTree, ROOT.RooArgSet(mass))\r\n",
        "\r\n",
        "#Then we can do the fitting:\r\n",
        "\r\n",
        "model.fitTo(data_to_fit)\r\n",
        "\r\n",
        "#if everything went well, you will see the outputs of RooFit below"
      ],
      "execution_count": 19,
      "outputs": [
        {
          "output_type": "execute_result",
          "data": {
            "text/plain": [
              "<ROOT.RooFitResult object at 0x(nil)>"
            ]
          },
          "metadata": {
            "tags": []
          },
          "execution_count": 19
        },
        {
          "output_type": "stream",
          "text": [
            "[#1] INFO:Eval -- RooAbsReal::attachToTree(M_m0) TTree Float_t branch M_m0 will be converted to double precision\n",
            "[#1] INFO:Eval -- RooTreeDataStore::loadValues(Data Set) Ignored 56972 out of range events\n",
            "[#1] INFO:Minization -- p.d.f. provides expected number of events, including extended term in likelihood.\n",
            "[#1] INFO:Minization -- RooMinimizer::optimizeConst: activating const optimization\n",
            "[#1] INFO:Minization --  The following expressions will be evaluated in cache-and-track mode: (Gaussian Signal,Exponential Background)\n",
            " **********\n",
            " **    1 **SET PRINT           1\n",
            " **********\n",
            " **********\n",
            " **    2 **SET NOGRAD\n",
            " **********\n",
            " PARAMETER DEFINITIONS:\n",
            "    NO.   NAME         VALUE      STEP SIZE      LIMITS\n",
            "     1 Gauss_Norm   1.14006e+05  5.70030e+04    0.00000e+00  1.02606e+07\n",
            " MINUIT WARNING IN PARAM DEF\n",
            " ============== LIMITS ON PARAM1 TOO FAR APART.\n",
            " PARAMETER DEFINITIONS:\n",
            "    NO.   NAME         VALUE      STEP SIZE      LIMITS\n",
            "     2 Mean         5.30000e+03  1.00000e+01    5.25000e+03  5.35000e+03\n",
            "     3 Width        2.00000e+01  4.00000e+00    0.00000e+00  4.00000e+01\n",
            "     4 exp_Norm     1.14006e+05  5.70030e+04    0.00000e+00  6.84039e+06\n",
            "     5 exponent    -2.00000e-02  4.00000e-01   -2.00000e+00  2.00000e+00\n",
            " **********\n",
            " **    3 **SET ERR         0.5\n",
            " **********\n",
            " **********\n",
            " **    4 **SET PRINT           1\n",
            " **********\n",
            " **********\n",
            " **    5 **SET STR           1\n",
            " **********\n",
            " NOW USING STRATEGY  1: TRY TO BALANCE SPEED AGAINST RELIABILITY\n",
            " **********\n",
            " **    6 **MIGRAD        2500           1\n",
            " **********\n",
            " FIRST CALL TO USER FUNCTION AT NEW START POINT, WITH IFLAG=4.\n",
            " START MIGRAD MINIMIZATION.  STRATEGY  1.  CONVERGENCE WHEN EDM .LT. 1.00e-03\n",
            " FCN=16429.7 FROM MIGRAD    STATUS=INITIATE       22 CALLS          23 TOTAL\n",
            "                     EDM= unknown      STRATEGY= 1      NO ERROR MATRIX       \n",
            "  EXT PARAMETER               CURRENT GUESS       STEP         FIRST   \n",
            "  NO.   NAME      VALUE            ERROR          SIZE      DERIVATIVE \n",
            "   1  Gauss_Norm   1.14006e+05   5.70030e+04   5.48559e-02   9.33061e+05\n",
            "   2  Mean         5.30000e+03   1.00000e+01   2.01358e-01   7.85131e+03\n",
            "   3  Width        2.00000e+01   4.00000e+00   2.01358e-01  -2.66341e+04\n",
            "   4  exp_Norm     1.14006e+05   5.70030e+04   6.73657e-02   6.72739e+05\n",
            "   5  exponent    -2.00000e-02   4.00000e-01   2.01369e-01  -6.64309e+06\n",
            "                               ERR DEF= 0.5\n",
            "[#0] WARNING:Minization -- RooMinimizerFcn: Minimized function has error status.\n",
            "Returning maximum FCN so far (97190.2) to force MIGRAD to back out of this region. Error log follows\n",
            "Parameter values: Gauss_Norm=5002.89, Mean=5287.32, Width=39.168, exp_Norm=14406.4, exponent=0.178653\n",
            "RooNLLVar::nll_Full Model_Data Set[ paramSet=(Gauss_Norm,Mean,Width,exp_Norm,exponent) ]\n",
            "     function value is NAN @ paramSet=(Gauss_Norm = 5002.89,Mean = 5287.32,Width = 39.168,exp_Norm = 14406.4,exponent = 0.178653)\n",
            "RooAddPdf::Full Model[ Gauss_Norm * Gaussian Signal + exp_Norm * Exponential Background ]\n",
            "     p.d.f value is Not-a-Number (-nan), forcing value to zero @ !refCoefNorm=(), !pdfs=(Gaussian Signal = 0.715816/98.1796,Exponential Background = inf/-nan), !coefficients=(Gauss_Norm = 5002.89,exp_Norm = 14406.4)\n",
            "     getLogVal() top-level p.d.f evaluates to zero @ !refCoefNorm=(), !pdfs=(Gaussian Signal = 0.715816/98.1796,Exponential Background = inf/-nan), !coefficients=(Gauss_Norm = 5002.89,exp_Norm = 14406.4)\n",
            "     p.d.f value is Not-a-Number (-nan), forcing value to zero @ !refCoefNorm=(), !pdfs=(Gaussian Signal = 1.24956e-05/98.1796,Exponential Background = inf/-nan), !coefficients=(Gauss_Norm = 5002.89,exp_Norm = 14406.4)\n",
            "     getLogVal() top-level p.d.f evaluates to zero @ !refCoefNorm=(), !pdfs=(Gaussian Signal = 1.24956e-05/98.1796,Exponential Background = inf/-nan), !coefficients=(Gauss_Norm = 5002.89,exp_Norm = 14406.4)\n",
            "     p.d.f value is Not-a-Number (-nan), forcing value to zero @ !refCoefNorm=(), !pdfs=(Gaussian Signal = 0.84974/98.1796,Exponential Background = inf/-nan), !coefficients=(Gauss_Norm = 5002.89,exp_Norm = 14406.4)\n",
            "     getLogVal() top-level p.d.f evaluates to zero @ !refCoefNorm=(), !pdfs=(Gaussian Signal = 0.84974/98.1796,Exponential Background = inf/-nan), !coefficients=(Gauss_Norm = 5002.89,exp_Norm = 14406.4)\n",
            "     p.d.f value is Not-a-Number (-nan), forcing value to zero @ !refCoefNorm=(), !pdfs=(Gaussian Signal = 0.797746/98.1796,Exponential Background = inf/-nan), !coefficients=(Gauss_Norm = 5002.89,exp_Norm = 14406.4)\n",
            "     getLogVal() top-level p.d.f evaluates to zero @ !refCoefNorm=(), !pdfs=(Gaussian Signal = 0.797746/98.1796,Exponential Background = inf/-nan), !coefficients=(Gauss_Norm = 5002.89,exp_Norm = 14406.4)\n",
            "     p.d.f value is Not-a-Number (-nan), forcing value to zero @ !refCoefNorm=(), !pdfs=(Gaussian Signal = 0.586319/98.1796,Exponential Background = inf/-nan), !coefficients=(Gauss_Norm = 5002.89,exp_Norm = 14406.4)\n",
            "     getLogVal() top-level p.d.f evaluates to zero @ !refCoefNorm=(), !pdfs=(Gaussian Signal = 0.586319/98.1796,Exponential Background = inf/-nan), !coefficients=(Gauss_Norm = 5002.89,exp_Norm = 14406.4)\n",
            "     p.d.f value is Not-a-Number (-nan), forcing value to zero @ !refCoefNorm=(), !pdfs=(Gaussian Signal = 0.000368225/98.1796,Exponential Background = inf/-nan), !coefficients=(Gauss_Norm = 5002.89,exp_Norm = 14406.4)\n",
            "     getLogVal() top-level p.d.f evaluates to zero @ !refCoefNorm=(), !pdfs=(Gaussian Signal = 0.000368225/98.1796,Exponential Background = inf/-nan), !coefficients=(Gauss_Norm = 5002.89,exp_Norm = 14406.4)\n",
            "    ... (remaining 2038 messages suppressed)\n",
            "RooRealIntegral::Exponential Background_Int[M_m0][ Int Exponential Backgroundd[Ana](M_m0) ]\n",
            "     function value is NAN @ !sumList=(), !intList=(), !anaList=(M_m0 = 5180.1), !jacList=(), !facList=(), !func=Exponential Background=inf/1.89209e-43, !sumCat=()\n",
            "\n",
            " MIGRAD MINIMIZATION HAS CONVERGED.\n",
            " MIGRAD WILL VERIFY CONVERGENCE AND ERROR MATRIX.\n",
            " COVARIANCE MATRIX CALCULATED SUCCESSFULLY\n",
            " FCN=-149534 FROM MIGRAD    STATUS=CONVERGED     222 CALLS         223 TOTAL\n",
            "                     EDM=1.14959e-06    STRATEGY= 1      ERROR MATRIX ACCURATE \n",
            "  EXT PARAMETER                                   STEP         FIRST   \n",
            "  NO.   NAME      VALUE            ERROR          SIZE      DERIVATIVE \n",
            "   1  Gauss_Norm   6.84821e+03   1.36775e+02   1.14056e-04  -8.86016e-02\n",
            "   2  Mean         5.28151e+03   4.26940e-01   2.40324e-03   7.46740e-02\n",
            "   3  Width        2.01206e+01   4.36576e-01   4.96620e-03   4.24311e-02\n",
            "   4  exp_Norm     3.46768e+04   2.15661e+02   1.07412e-04  -3.30021e-01\n",
            "   5  exponent    -1.78522e-03   4.26666e-05   5.63766e-06  -2.66831e-01\n",
            "                               ERR DEF= 0.5\n",
            " EXTERNAL ERROR MATRIX.    NDIM=  25    NPAR=  5    ERR DEF=0.5\n",
            "  1.871e+04 -6.729e+00  2.939e+01 -1.184e+04 -6.756e-04 \n",
            " -6.729e+00  1.823e-01 -3.437e-02  6.715e+00 -1.060e-06 \n",
            "  2.939e+01 -3.437e-02  1.906e-01 -2.933e+01 -1.457e-06 \n",
            " -1.184e+04  6.715e+00 -2.933e+01  4.651e+04  6.751e-04 \n",
            " -6.756e-04 -1.060e-06 -1.457e-06  6.751e-04  1.820e-09 \n",
            " PARAMETER  CORRELATION COEFFICIENTS  \n",
            "       NO.  GLOBAL      1      2      3      4      5\n",
            "        1  0.56140   1.000 -0.115  0.492 -0.401 -0.116\n",
            "        2  0.20150  -0.115  1.000 -0.184  0.073 -0.058\n",
            "        3  0.52347   0.492 -0.184  1.000 -0.312 -0.078\n",
            "        4  0.42302  -0.401  0.073 -0.312  1.000  0.073\n",
            "        5  0.14337  -0.116 -0.058 -0.078  0.073  1.000\n",
            " **********\n",
            " **    7 **SET ERR         0.5\n",
            " **********\n",
            " **********\n",
            " **    8 **SET PRINT           1\n",
            " **********\n",
            " **********\n",
            " **    9 **HESSE        2500\n",
            " **********\n",
            " COVARIANCE MATRIX CALCULATED SUCCESSFULLY\n",
            " FCN=-149534 FROM HESSE     STATUS=OK             31 CALLS         254 TOTAL\n",
            "                     EDM=1.15046e-06    STRATEGY= 1      ERROR MATRIX ACCURATE \n",
            "  EXT PARAMETER                                INTERNAL      INTERNAL  \n",
            "  NO.   NAME      VALUE            ERROR       STEP SIZE       VALUE   \n",
            "   1  Gauss_Norm   6.84821e+03   1.37012e+02   4.56225e-06  -1.51912e+00\n",
            "   2  Mean         5.28151e+03   4.27297e-01   9.61294e-05  -3.78708e-01\n",
            "   3  Width        2.01206e+01   4.37643e-01   1.98648e-04   6.02944e-03\n",
            "   4  exp_Norm     3.46768e+04   2.15870e+02   4.29647e-06  -1.42828e+00\n",
            "   5  exponent    -1.78522e-03   4.26711e-05   2.25506e-07  -8.92612e-04\n",
            "                               ERR DEF= 0.5\n",
            " EXTERNAL ERROR MATRIX.    NDIM=  25    NPAR=  5    ERR DEF=0.5\n",
            "  1.877e+04 -6.829e+00  2.966e+01 -1.192e+04 -6.815e-04 \n",
            " -6.829e+00  1.826e-01 -3.532e-02  6.828e+00 -1.054e-06 \n",
            "  2.966e+01 -3.532e-02  1.916e-01 -2.966e+01 -1.474e-06 \n",
            " -1.192e+04  6.828e+00 -2.966e+01  4.660e+04  6.815e-04 \n",
            " -6.815e-04 -1.054e-06 -1.474e-06  6.815e-04  1.821e-09 \n",
            " PARAMETER  CORRELATION COEFFICIENTS  \n",
            "       NO.  GLOBAL      1      2      3      4      5\n",
            "        1  0.56351   1.000 -0.117  0.495 -0.403 -0.117\n",
            "        2  0.20545  -0.117  1.000 -0.189  0.074 -0.058\n",
            "        3  0.52682   0.495 -0.189  1.000 -0.314 -0.079\n",
            "        4  0.42489  -0.403  0.074 -0.314  1.000  0.074\n",
            "        5  0.14409  -0.117 -0.058 -0.079  0.074  1.000\n",
            "[#1] INFO:Minization -- RooMinimizer::optimizeConst: deactivating const optimization\n"
          ],
          "name": "stdout"
        }
      ]
    },
    {
      "cell_type": "code",
      "metadata": {
        "id": "bUhgxlRGd4XO",
        "colab": {
          "base_uri": "https://localhost:8080/",
          "height": 562
        },
        "outputId": "39365d53-3cc6-447e-b0fe-2fca66a32448"
      },
      "source": [
        "#Now to plot it all\r\n",
        "c1=ROOT.TCanvas(\"c1\",\"c1\")\r\n",
        "c1.Draw()\r\n",
        "frame=mass.frame()\r\n",
        "data_to_fit.plotOn(frame)\r\n",
        "model.plotOn(frame, ROOT.RooFit.Components(\"Gaussian Signal\"),ROOT.RooFit.LineColor(8),ROOT.RooFit.LineStyle(2))\r\n",
        "model.plotOn(frame, ROOT.RooFit.Components(\"Exponential Background\"),ROOT.RooFit.LineColor(46),ROOT.RooFit.LineStyle(2))\r\n",
        "model.plotOn(frame)\r\n",
        "frame.Draw()\r\n",
        "c1.Update()"
      ],
      "execution_count": 20,
      "outputs": [
        {
          "output_type": "stream",
          "text": [
            "[#1] INFO:Plotting -- RooAbsPdf::plotOn(Full Model) directly selected PDF components: (Gaussian Signal)\n",
            "[#1] INFO:Plotting -- RooAbsPdf::plotOn(Full Model) indirectly selected PDF components: ()\n",
            "[#1] INFO:Plotting -- RooAbsPdf::plotOn(Full Model) directly selected PDF components: (Exponential Background)\n",
            "[#1] INFO:Plotting -- RooAbsPdf::plotOn(Full Model) indirectly selected PDF components: ()\n"
          ],
          "name": "stdout"
        },
        {
          "output_type": "display_data",
          "data": {
            "image/png": "[encoded data removed]",
            "text/plain": [
              "<IPython.core.display.Image object>"
            ]
          },
          "metadata": {
            "tags": []
          }
        }
      ]
    },
    {
      "cell_type": "markdown",
      "metadata": {
        "id": "60b4bs1od4M_"
      },
      "source": [
        "Using this structure, you can in theory build whatever models you like!\r\n",
        "\r\n",
        "Some recommendations (but not necessary to do all):-\r\n",
        "\r\n",
        "\r\n",
        "\r\n",
        "*   Gauss+Exponential (as above)\r\n",
        "*   Crystal Ball + Exponential\r\n",
        "*   Gauss+Crystal Ball+Exponential (now you need to weigh the two signal peaks and then the total signal against total background)\r\n",
        "*   Gauss+Chebychev\r\n",
        "*   Two Crystal Balls + Exponential"
      ]
    },
    {
      "cell_type": "markdown",
      "metadata": {
        "id": "vHivSaH1dwy7"
      },
      "source": [
        "So how good was the fit, and how many events do you have?\r\n",
        "\r\n",
        "We can use the .getValV() function on our signal and background *normalisation* components, e.g. Gauss_Norm=Gauss.getValV()\r\n",
        "\r\n",
        "To find the error (on this number) we can use .getError()\r\n",
        "\r\n",
        "Neither of these measures would tell us if this was a good fit or not. Normally we use a χ2 test to do so - this is built into the image we made (so we can do frame.chiSquare() to get this data)\r\n",
        "\r\n",
        "For each model you made, print the signal and background yields (with errors) and report the χ2"
      ]
    },
    {
      "cell_type": "code",
      "metadata": {
        "colab": {
          "base_uri": "https://localhost:8080/"
        },
        "id": "_kdqKc-cYemY",
        "outputId": "6de8777e-2559-4524-c2c8-55713bcb125f"
      },
      "source": [
        "#print signal yield with errors and report chi squared\r\n",
        "Signal_Yield=Gauss_Norm.getValV()\r\n",
        "Signal_Error=Gauss_Norm.getError()\r\n",
        "Signal_x2 = frame.chiSquare()\r\n",
        "\r\n",
        "print(\"Signal Yield = \" + str(Signal_Yield))\r\n",
        "print(\"Signal Error = \" + str(Signal_Error))\r\n",
        "print(\"Signal Chi Squared = \" + str(Signal_x2))"
      ],
      "execution_count": 21,
      "outputs": [
        {
          "output_type": "stream",
          "text": [
            "Signal Yield = 6848.20756549\n",
            "Signal Error = 137.012356335\n",
            "Signal Chi Squared = 2.11536167361\n"
          ],
          "name": "stdout"
        }
      ]
    },
    {
      "cell_type": "markdown",
      "metadata": {
        "id": "8xULJyFEkplm"
      },
      "source": [
        "**Trying** out Gauss + Exponential + Crytal Ball"
      ]
    },
    {
      "cell_type": "code",
      "metadata": {
        "id": "bmOld8eTkr3C"
      },
      "source": [
        "#mean, width, 3 more between minus one and one\r\n",
        "#define physical measurment that we want to fit using RooRealVar\r\n",
        "# var = ROOT.RooRealVar =(\"Variable from Python\", \"Nickname\",Min, Max, Units)\r\n",
        "mass = ROOT.RooRealVar(\"M_m0\",\"Mass\",5000,5500,\"MeV/C^{2}\")\r\n",
        "\r\n",
        "#passing the rest of the variables into the model\r\n",
        "#For the RooRealVar the last three parameters are given, \"starting value\" and min/max values\r\n",
        "gaussMean = ROOT.RooRealVar(\"Mean\",\"Mean\",5280,5260,5350) #adjust where peak is\r\n",
        "gaussWidth = ROOT.RooRealVar(\"Width\",\"Width\",20,0,40) #adjust how narrow peak is\r\n",
        "\r\n",
        "#Now we have enough to make our Model for the signal:\r\n",
        "\r\n",
        "Gauss=ROOT.RooGaussian(\"Gaussian Signal\",\"Gauss\",mass,gaussMean,gaussWidth)\r\n",
        "Gauss_Norm= ROOT.RooRealVar(\"Gauss_Norm\",\"Signal Yield\", tree.GetEntries()/30, 0, tree.GetEntries() * 3)\r\n",
        "#We also need a background, so let's use a (simple) exponential:\r\n",
        "\r\n",
        "exponent=ROOT.RooRealVar(\"exponent\", \"C\", -0.02, -2, +2)\r\n",
        "exp_Norm= ROOT.RooRealVar(\"exp_Norm\",\"Background Yield\", tree.GetEntries()/30, 0, tree.GetEntries() * 2)\r\n",
        "\r\n",
        "#Define the  model for the background:\r\n",
        "\r\n",
        "Bkgnd=ROOT.RooExponential(\"Exponential Background\",\"Bkgnd\",mass,exponent)\r\n",
        "\r\n",
        "#Crystal Ball Model\r\n",
        "cbMean=ROOT.RooRealVar(\"cbMean\",\"cbMean\",5050,5000,5100)\r\n",
        "cbWidth=ROOT.RooRealVar(\"cbWidth\",\"cbWidth\",50,0,100)\r\n",
        "cbo=ROOT.RooRealVar(\"cbo\",\"cbo\", 10, 5, 30)\r\n",
        "cbn=ROOT.RooRealVar(\"cbn\",\"cbn\", 5, 0, 30)\r\n",
        "cba=ROOT.RooRealVar(\"cba\",\"cba\", 2, 0, 10)\r\n",
        "CB=ROOT.RooCBShape(\"Crystal Ball\", \"CB\", mass, cbMean, cbWidth, cbo, cbn)\r\n",
        "CB_Norm=ROOT.RooRealVar(\"CB_Norm\",\"Crystal Ball Norm\", tree.GetEntries()/30, 0, tree.GetEntries() * 3)\r\n",
        "\r\n",
        "#making signal function from gauss and CB\r\n",
        "combine_norm=ROOT.RooRealVar(\"combined norm\", \"combined_norm\", 0.5, 0, 1)\r\n",
        "combined_signal=ROOT.RooAddPdf(\"Combined Signal\", \"combined_signal\", Gauss, CB, combine_norm)\r\n",
        "combined_signal_norm=ROOT.RooRealVar(\"combined_signal_norm\",\"combined signal norm\", tree.GetEntries()/30, 0, tree.GetEntries() * 3)\r\n",
        "\r\n",
        "#Now we need to combine these two functions into a single PDF (probability density function)\r\n",
        "#and we need to add the normalisation factors at the end as scaling factors\r\n",
        "\r\n",
        "model=ROOT.RooAddPdf(\"Full Model\",\"model\",ROOT.RooArgList(combined_signal, Bkgnd),ROOT.RooArgList(combined_signal_norm, exp_Norm) )"
      ],
      "execution_count": 65,
      "outputs": []
    },
    {
      "cell_type": "code",
      "metadata": {
        "id": "b_0J4qTqm6O9",
        "colab": {
          "base_uri": "https://localhost:8080/"
        },
        "outputId": "d0fd1fc8-aa99-41b9-8afe-c2e1bf50ca3a"
      },
      "source": [
        "#Put our data set into a RooDataSet structure\r\n",
        "\r\n",
        "data_to_fit=ROOT.RooDataSet(\"Data Set\",\"data_to_fit\", CutTree, ROOT.RooArgSet(mass))\r\n",
        "\r\n",
        "#Then we can do the fitting:\r\n",
        "\r\n",
        "model.fitTo(data_to_fit)\r\n",
        "\r\n",
        "#if everything went well, you will see the outputs of RooFit below"
      ],
      "execution_count": 66,
      "outputs": [
        {
          "output_type": "execute_result",
          "data": {
            "text/plain": [
              "<ROOT.RooFitResult object at 0x(nil)>"
            ]
          },
          "metadata": {
            "tags": []
          },
          "execution_count": 66
        },
        {
          "output_type": "stream",
          "text": [
            "[#1] INFO:Eval -- RooAbsReal::attachToTree(M_m0) TTree Float_t branch M_m0 will be converted to double precision\n",
            "[#1] INFO:Eval -- RooTreeDataStore::loadValues(Data Set) Ignored 52072 out of range events\n",
            "[#1] INFO:Minization -- p.d.f. provides expected number of events, including extended term in likelihood.\n",
            "[#1] INFO:Minization -- RooMinimizer::optimizeConst: activating const optimization\n",
            "[#1] INFO:Minization --  The following expressions will be evaluated in cache-and-track mode: (Gaussian Signal,Crystal Ball,Exponential Background)\n",
            " **********\n",
            " **    1 **SET PRINT           1\n",
            " **********\n",
            " **********\n",
            " **    2 **SET NOGRAD\n",
            " **********\n",
            " PARAMETER DEFINITIONS:\n",
            "    NO.   NAME         VALUE      STEP SIZE      LIMITS\n",
            "     1 Mean         5.28000e+03  9.00000e+00    5.26000e+03  5.35000e+03\n",
            "     2 Width        2.00000e+01  4.00000e+00    0.00000e+00  4.00000e+01\n",
            "     3 cbMean       5.05000e+03  1.00000e+01    5.00000e+03  5.10000e+03\n",
            "     4 cbWidth      5.00000e+01  1.00000e+01    0.00000e+00  1.00000e+02\n",
            "     5 cbn          5.00000e+00  2.50000e+00    0.00000e+00  3.00000e+01\n",
            "     6 cbo          1.00000e+01  2.50000e+00    5.00000e+00  3.00000e+01\n",
            "     7 combined norm   5.00000e-01  1.00000e-01    0.00000e+00  1.00000e+00\n",
            "     8 combined_signal_norm   1.14006e+05  5.70030e+04    0.00000e+00  1.02606e+07\n",
            " MINUIT WARNING IN PARAM DEF\n",
            " ============== LIMITS ON PARAM8 TOO FAR APART.\n",
            " PARAMETER DEFINITIONS:\n",
            "    NO.   NAME         VALUE      STEP SIZE      LIMITS\n",
            "     9 exp_Norm     1.14006e+05  5.70030e+04    0.00000e+00  6.84039e+06\n",
            "    10 exponent    -2.00000e-02  4.00000e-01   -2.00000e+00  2.00000e+00\n",
            " **********\n",
            " **    3 **SET ERR         0.5\n",
            " **********\n",
            " **********\n",
            " **    4 **SET PRINT           1\n",
            " **********\n",
            " **********\n",
            " **    5 **SET STR           1\n",
            " **********\n",
            " NOW USING STRATEGY  1: TRY TO BALANCE SPEED AGAINST RELIABILITY\n",
            " **********\n",
            " **    6 **MIGRAD        5000           1\n",
            " **********\n",
            " FIRST CALL TO USER FUNCTION AT NEW START POINT, WITH IFLAG=4.\n",
            " START MIGRAD MINIMIZATION.  STRATEGY  1.  CONVERGENCE WHEN EDM .LT. 1.00e-03\n",
            " FCN=2007.77 FROM MIGRAD    STATUS=INITIATE      633 CALLS         634 TOTAL\n",
            "                     EDM= unknown      STRATEGY= 1      NO ERROR MATRIX       \n",
            "  EXT PARAMETER               CURRENT GUESS       STEP         FIRST   \n",
            "  NO.   NAME      VALUE            ERROR          SIZE      DERIVATIVE \n",
            "   1  Mean         5.28000e+03   9.00000e+00   0.00000e+00  -5.99146e+03\n",
            "   2  Width        2.00000e+01   4.00000e+00   0.00000e+00  -2.19844e+04\n",
            "   3  cbMean       5.09518e+03   1.00000e+01   0.00000e+00  -2.86092e+03\n",
            "   4  cbWidth      5.00000e+01   1.00000e+01   0.00000e+00  -7.66644e+03\n",
            "   5  cbn          5.00000e+00   2.50000e+00   0.00000e+00   0.00000e+00\n",
            "   6  cbo          1.00000e+01   2.50000e+00   0.00000e+00   0.00000e+00\n",
            "   7  combined norm   5.00000e-01   1.00000e-01   0.00000e+00  -5.31502e+03\n",
            "   8  combined_signal_norm   1.14006e+05   5.70030e+04   0.00000e+00   8.32149e+05\n",
            "   9  exp_Norm     1.14006e+05   5.70030e+04   0.00000e+00   7.17264e+05\n",
            "  10  exponent    -2.00000e-02   4.00000e-01   0.00000e+00  -7.52364e+06\n",
            "                               ERR DEF= 0.5\n",
            "[#0] WARNING:Minization -- RooMinimizerFcn: Minimized function has error status.\n",
            "Returning maximum FCN so far (71533.4) to force MIGRAD to back out of this region. Error log follows\n",
            "Parameter values: Mean=5292.9, Width=38.5967, cbMean=5099.99, cbWidth=82.7639, cbn=5, cbo=10, combined norm=0.633685, combined_signal_norm=10967.3, exp_Norm=6239.5, exponent=1.8664\n",
            "RooNLLVar::nll_Full Model_Data Set[ paramSet=(Mean,Width,cbMean,cbWidth,cbn,cbo,combined norm,combined_signal_norm,exp_Norm,exponent) ]\n",
            "     function value is NAN @ paramSet=(Mean = 5292.9,Width = 38.5967,cbMean = 5099.99,cbWidth = 82.7639,cbn = 5,cbo = 10,combined norm = 0.633685,combined_signal_norm = 10967.3,exp_Norm = 6239.5,exponent = 1.8664)\n",
            "RooRealIntegral::Exponential Background_Int[M_m0][ Int Exponential Backgroundd[Ana](M_m0) ]\n",
            "     function value is NAN @ !sumList=(), !intList=(), !anaList=(M_m0 = 5180.1), !jacList=(), !facList=(), !func=Exponential Background=inf/1.81485e-42, !sumCat=()\n",
            "RooAddPdf::Full Model[ combined_signal_norm * Combined Signal + exp_Norm * Exponential Background ]\n",
            "     p.d.f value is Not-a-Number (-nan), forcing value to zero @ !refCoefNorm=(), !pdfs=(Combined Signal = 0.00194211/1,Exponential Background = inf/-nan), !coefficients=(combined_signal_norm = 10967.3,exp_Norm = 6239.5)\n",
            "     getLogVal() top-level p.d.f evaluates to zero @ !refCoefNorm=(), !pdfs=(Combined Signal = 0.00194211/1,Exponential Background = inf/-nan), !coefficients=(combined_signal_norm = 10967.3,exp_Norm = 6239.5)\n",
            "     p.d.f value is Not-a-Number (-nan), forcing value to zero @ !refCoefNorm=(), !pdfs=(Combined Signal = 0.0012157/1,Exponential Background = inf/-nan), !coefficients=(combined_signal_norm = 10967.3,exp_Norm = 6239.5)\n",
            "     getLogVal() top-level p.d.f evaluates to zero @ !refCoefNorm=(), !pdfs=(Combined Signal = 0.0012157/1,Exponential Background = inf/-nan), !coefficients=(combined_signal_norm = 10967.3,exp_Norm = 6239.5)\n",
            "     p.d.f value is Not-a-Number (-nan), forcing value to zero @ !refCoefNorm=(), !pdfs=(Combined Signal = 0.00661247/1,Exponential Background = inf/-nan), !coefficients=(combined_signal_norm = 10967.3,exp_Norm = 6239.5)\n",
            "     getLogVal() top-level p.d.f evaluates to zero @ !refCoefNorm=(), !pdfs=(Combined Signal = 0.00661247/1,Exponential Background = inf/-nan), !coefficients=(combined_signal_norm = 10967.3,exp_Norm = 6239.5)\n",
            "     p.d.f value is Not-a-Number (-nan), forcing value to zero @ !refCoefNorm=(), !pdfs=(Combined Signal = 0.000106762/1,Exponential Background = inf/-nan), !coefficients=(combined_signal_norm = 10967.3,exp_Norm = 6239.5)\n",
            "     getLogVal() top-level p.d.f evaluates to zero @ !refCoefNorm=(), !pdfs=(Combined Signal = 0.000106762/1,Exponential Background = inf/-nan), !coefficients=(combined_signal_norm = 10967.3,exp_Norm = 6239.5)\n",
            "     p.d.f value is Not-a-Number (-nan), forcing value to zero @ !refCoefNorm=(), !pdfs=(Combined Signal = 0.00629861/1,Exponential Background = inf/-nan), !coefficients=(combined_signal_norm = 10967.3,exp_Norm = 6239.5)\n",
            "     getLogVal() top-level p.d.f evaluates to zero @ !refCoefNorm=(), !pdfs=(Combined Signal = 0.00629861/1,Exponential Background = inf/-nan), !coefficients=(combined_signal_norm = 10967.3,exp_Norm = 6239.5)\n",
            "     p.d.f value is Not-a-Number (-nan), forcing value to zero @ !refCoefNorm=(), !pdfs=(Combined Signal = 4.11317e-05/1,Exponential Background = inf/-nan), !coefficients=(combined_signal_norm = 10967.3,exp_Norm = 6239.5)\n",
            "     getLogVal() top-level p.d.f evaluates to zero @ !refCoefNorm=(), !pdfs=(Combined Signal = 4.11317e-05/1,Exponential Background = inf/-nan), !coefficients=(combined_signal_norm = 10967.3,exp_Norm = 6239.5)\n",
            "    ... (remaining 2038 messages suppressed)\n",
            "\n",
            "[#0] WARNING:Minization -- RooMinimizerFcn: Minimized function has error status.\n",
            "Returning maximum FCN so far (71533.4) to force MIGRAD to back out of this region. Error log follows\n",
            "Parameter values: Mean=5286.21, Width=31.243, cbMean=5098.89, cbWidth=67.4862, cbn=5, cbo=10, combined norm=0.567459, combined_signal_norm=48988.4, exp_Norm=43503.9, exponent=1.63788\n",
            "RooNLLVar::nll_Full Model_Data Set[ paramSet=(Mean,Width,cbMean,cbWidth,cbn,cbo,combined norm,combined_signal_norm,exp_Norm,exponent) ]\n",
            "     function value is NAN @ paramSet=(Mean = 5286.21,Width = 31.243,cbMean = 5098.89,cbWidth = 67.4862,cbn = 5,cbo = 10,combined norm = 0.567459,combined_signal_norm = 48988.4,exp_Norm = 43503.9,exponent = 1.63788)\n",
            "RooRealIntegral::Exponential Background_Int[M_m0][ Int Exponential Backgroundd[Ana](M_m0) ]\n",
            "     function value is NAN @ !sumList=(), !intList=(), !anaList=(M_m0 = 5180.1), !jacList=(), !facList=(), !func=Exponential Background=inf/-nan, !sumCat=()\n",
            "RooAddPdf::Full Model[ combined_signal_norm * Combined Signal + exp_Norm * Exponential Background ]\n",
            "     p.d.f value is Not-a-Number (-nan), forcing value to zero @ !refCoefNorm=(), !pdfs=(Combined Signal = 0.00266245/1,Exponential Background = inf/-nan), !coefficients=(combined_signal_norm = 48988.4,exp_Norm = 43503.9)\n",
            "     getLogVal() top-level p.d.f evaluates to zero @ !refCoefNorm=(), !pdfs=(Combined Signal = 0.00266245/1,Exponential Background = inf/-nan), !coefficients=(combined_signal_norm = 48988.4,exp_Norm = 43503.9)\n",
            "     p.d.f value is Not-a-Number (-nan), forcing value to zero @ !refCoefNorm=(), !pdfs=(Combined Signal = 0.00133643/1,Exponential Background = inf/-nan), !coefficients=(combined_signal_norm = 48988.4,exp_Norm = 43503.9)\n",
            "     getLogVal() top-level p.d.f evaluates to zero @ !refCoefNorm=(), !pdfs=(Combined Signal = 0.00133643/1,Exponential Background = inf/-nan), !coefficients=(combined_signal_norm = 48988.4,exp_Norm = 43503.9)\n",
            "     p.d.f value is Not-a-Number (-nan), forcing value to zero @ !refCoefNorm=(), !pdfs=(Combined Signal = 0.00730419/1,Exponential Background = inf/-nan), !coefficients=(combined_signal_norm = 48988.4,exp_Norm = 43503.9)\n",
            "     getLogVal() top-level p.d.f evaluates to zero @ !refCoefNorm=(), !pdfs=(Combined Signal = 0.00730419/1,Exponential Background = inf/-nan), !coefficients=(combined_signal_norm = 48988.4,exp_Norm = 43503.9)\n",
            "     p.d.f value is Not-a-Number (-nan), forcing value to zero @ !refCoefNorm=(), !pdfs=(Combined Signal = 6.08072e-06/1,Exponential Background = inf/-nan), !coefficients=(combined_signal_norm = 48988.4,exp_Norm = 43503.9)\n",
            "     getLogVal() top-level p.d.f evaluates to zero @ !refCoefNorm=(), !pdfs=(Combined Signal = 6.08072e-06/1,Exponential Background = inf/-nan), !coefficients=(combined_signal_norm = 48988.4,exp_Norm = 43503.9)\n",
            "     p.d.f value is Not-a-Number (-nan), forcing value to zero @ !refCoefNorm=(), !pdfs=(Combined Signal = 0.00710272/1,Exponential Background = inf/-nan), !coefficients=(combined_signal_norm = 48988.4,exp_Norm = 43503.9)\n",
            "     getLogVal() top-level p.d.f evaluates to zero @ !refCoefNorm=(), !pdfs=(Combined Signal = 0.00710272/1,Exponential Background = inf/-nan), !coefficients=(combined_signal_norm = 48988.4,exp_Norm = 43503.9)\n",
            "     p.d.f value is Not-a-Number (-nan), forcing value to zero @ !refCoefNorm=(), !pdfs=(Combined Signal = 1.30451e-06/1,Exponential Background = inf/-nan), !coefficients=(combined_signal_norm = 48988.4,exp_Norm = 43503.9)\n",
            "     getLogVal() top-level p.d.f evaluates to zero @ !refCoefNorm=(), !pdfs=(Combined Signal = 1.30451e-06/1,Exponential Background = inf/-nan), !coefficients=(combined_signal_norm = 48988.4,exp_Norm = 43503.9)\n",
            "    ... (remaining 2038 messages suppressed)\n",
            "\n",
            "[#0] WARNING:Minization -- RooMinimizerFcn: Minimized function has error status.\n",
            "Returning maximum FCN so far (71533.4) to force MIGRAD to back out of this region. Error log follows\n",
            "Parameter values: Mean=5283.04, Width=25.8816, cbMean=5097.35, cbWidth=58.8845, cbn=5, cbo=10, combined norm=0.533807, combined_signal_norm=78140.9, exp_Norm=74636, exponent=0.906061\n",
            "RooNLLVar::nll_Full Model_Data Set[ paramSet=(Mean,Width,cbMean,cbWidth,cbn,cbo,combined norm,combined_signal_norm,exp_Norm,exponent) ]\n",
            "     function value is NAN @ paramSet=(Mean = 5283.04,Width = 25.8816,cbMean = 5097.35,cbWidth = 58.8845,cbn = 5,cbo = 10,combined norm = 0.533807,combined_signal_norm = 78140.9,exp_Norm = 74636,exponent = 0.906061)\n",
            "RooRealIntegral::Exponential Background_Int[M_m0][ Int Exponential Backgroundd[Ana](M_m0) ]\n",
            "     function value is NAN @ !sumList=(), !intList=(), !anaList=(M_m0 = 5180.1), !jacList=(), !facList=(), !func=Exponential Background=inf/-nan, !sumCat=()\n",
            "RooAddPdf::Full Model[ combined_signal_norm * Combined Signal + exp_Norm * Exponential Background ]\n",
            "     p.d.f value is Not-a-Number (-nan), forcing value to zero @ !refCoefNorm=(), !pdfs=(Combined Signal = 0.00320176/1,Exponential Background = inf/-nan), !coefficients=(combined_signal_norm = 78140.9,exp_Norm = 74636)\n",
            "     getLogVal() top-level p.d.f evaluates to zero @ !refCoefNorm=(), !pdfs=(Combined Signal = 0.00320176/1,Exponential Background = inf/-nan), !coefficients=(combined_signal_norm = 78140.9,exp_Norm = 74636)\n",
            "     p.d.f value is Not-a-Number (-nan), forcing value to zero @ !refCoefNorm=(), !pdfs=(Combined Signal = 0.00133196/1,Exponential Background = inf/-nan), !coefficients=(combined_signal_norm = 78140.9,exp_Norm = 74636)\n",
            "     getLogVal() top-level p.d.f evaluates to zero @ !refCoefNorm=(), !pdfs=(Combined Signal = 0.00133196/1,Exponential Background = inf/-nan), !coefficients=(combined_signal_norm = 78140.9,exp_Norm = 74636)\n",
            "     p.d.f value is Not-a-Number (-nan), forcing value to zero @ !refCoefNorm=(), !pdfs=(Combined Signal = 0.00818316/1,Exponential Background = inf/-nan), !coefficients=(combined_signal_norm = 78140.9,exp_Norm = 74636)\n",
            "     getLogVal() top-level p.d.f evaluates to zero @ !refCoefNorm=(), !pdfs=(Combined Signal = 0.00818316/1,Exponential Background = inf/-nan), !coefficients=(combined_signal_norm = 78140.9,exp_Norm = 74636)\n",
            "     p.d.f value is Not-a-Number (-nan), forcing value to zero @ !refCoefNorm=(), !pdfs=(Combined Signal = 1.54436e-07/1,Exponential Background = inf/-nan), !coefficients=(combined_signal_norm = 78140.9,exp_Norm = 74636)\n",
            "     getLogVal() top-level p.d.f evaluates to zero @ !refCoefNorm=(), !pdfs=(Combined Signal = 1.54436e-07/1,Exponential Background = inf/-nan), !coefficients=(combined_signal_norm = 78140.9,exp_Norm = 74636)\n",
            "     p.d.f value is Not-a-Number (-nan), forcing value to zero @ !refCoefNorm=(), !pdfs=(Combined Signal = 0.00812638/1,Exponential Background = inf/-nan), !coefficients=(combined_signal_norm = 78140.9,exp_Norm = 74636)\n",
            "     getLogVal() top-level p.d.f evaluates to zero @ !refCoefNorm=(), !pdfs=(Combined Signal = 0.00812638/1,Exponential Background = inf/-nan), !coefficients=(combined_signal_norm = 78140.9,exp_Norm = 74636)\n",
            "     p.d.f value is Not-a-Number (-nan), forcing value to zero @ !refCoefNorm=(), !pdfs=(Combined Signal = 1.60853e-08/1,Exponential Background = inf/-nan), !coefficients=(combined_signal_norm = 78140.9,exp_Norm = 74636)\n",
            "     getLogVal() top-level p.d.f evaluates to zero @ !refCoefNorm=(), !pdfs=(Combined Signal = 1.60853e-08/1,Exponential Background = inf/-nan), !coefficients=(combined_signal_norm = 78140.9,exp_Norm = 74636)\n",
            "    ... (remaining 2038 messages suppressed)\n",
            "\n",
            "[#0] WARNING:Minization -- RooMinimizerFcn: Minimized function has error status.\n",
            "Returning maximum FCN so far (71533.4) to force MIGRAD to back out of this region. Error log follows\n",
            "Parameter values: Mean=5281.5, Width=22.9738, cbMean=5096.34, cbWidth=54.46, cbn=5, cbo=10, combined norm=0.516913, combined_signal_norm=95237.1, exp_Norm=93296.9, exponent=0.44711\n",
            "RooNLLVar::nll_Full Model_Data Set[ paramSet=(Mean,Width,cbMean,cbWidth,cbn,cbo,combined norm,combined_signal_norm,exp_Norm,exponent) ]\n",
            "     function value is NAN @ paramSet=(Mean = 5281.5,Width = 22.9738,cbMean = 5096.34,cbWidth = 54.46,cbn = 5,cbo = 10,combined norm = 0.516913,combined_signal_norm = 95237.1,exp_Norm = 93296.9,exponent = 0.44711)\n",
            "RooRealIntegral::Exponential Background_Int[M_m0][ Int Exponential Backgroundd[Ana](M_m0) ]\n",
            "     function value is NAN @ !sumList=(), !intList=(), !anaList=(M_m0 = 5180.1), !jacList=(), !facList=(), !func=Exponential Background=inf/-nan, !sumCat=()\n",
            "RooAddPdf::Full Model[ combined_signal_norm * Combined Signal + exp_Norm * Exponential Background ]\n",
            "     p.d.f value is Not-a-Number (-nan), forcing value to zero @ !refCoefNorm=(), !pdfs=(Combined Signal = 0.00354407/1,Exponential Background = inf/-nan), !coefficients=(combined_signal_norm = 95237.1,exp_Norm = 93296.9)\n",
            "     getLogVal() top-level p.d.f evaluates to zero @ !refCoefNorm=(), !pdfs=(Combined Signal = 0.00354407/1,Exponential Background = inf/-nan), !coefficients=(combined_signal_norm = 95237.1,exp_Norm = 93296.9)\n",
            "     p.d.f value is Not-a-Number (-nan), forcing value to zero @ !refCoefNorm=(), !pdfs=(Combined Signal = 0.00129902/1,Exponential Background = inf/-nan), !coefficients=(combined_signal_norm = 95237.1,exp_Norm = 93296.9)\n",
            "     getLogVal() top-level p.d.f evaluates to zero @ !refCoefNorm=(), !pdfs=(Combined Signal = 0.00129902/1,Exponential Background = inf/-nan), !coefficients=(combined_signal_norm = 95237.1,exp_Norm = 93296.9)\n",
            "     p.d.f value is Not-a-Number (-nan), forcing value to zero @ !refCoefNorm=(), !pdfs=(Combined Signal = 0.00879239/1,Exponential Background = inf/-nan), !coefficients=(combined_signal_norm = 95237.1,exp_Norm = 93296.9)\n",
            "     getLogVal() top-level p.d.f evaluates to zero @ !refCoefNorm=(), !pdfs=(Combined Signal = 0.00879239/1,Exponential Background = inf/-nan), !coefficients=(combined_signal_norm = 95237.1,exp_Norm = 93296.9)\n",
            "     p.d.f value is Not-a-Number (-nan), forcing value to zero @ !refCoefNorm=(), !pdfs=(Combined Signal = 6.52782e-09/1,Exponential Background = inf/-nan), !coefficients=(combined_signal_norm = 95237.1,exp_Norm = 93296.9)\n",
            "     getLogVal() top-level p.d.f evaluates to zero @ !refCoefNorm=(), !pdfs=(Combined Signal = 6.52782e-09/1,Exponential Background = inf/-nan), !coefficients=(combined_signal_norm = 95237.1,exp_Norm = 93296.9)\n",
            "     p.d.f value is Not-a-Number (-nan), forcing value to zero @ !refCoefNorm=(), !pdfs=(Combined Signal = 0.00890849/1,Exponential Background = inf/-nan), !coefficients=(combined_signal_norm = 95237.1,exp_Norm = 93296.9)\n",
            "     getLogVal() top-level p.d.f evaluates to zero @ !refCoefNorm=(), !pdfs=(Combined Signal = 0.00890849/1,Exponential Background = inf/-nan), !coefficients=(combined_signal_norm = 95237.1,exp_Norm = 93296.9)\n",
            "     p.d.f value is Not-a-Number (-nan), forcing value to zero @ !refCoefNorm=(), !pdfs=(Combined Signal = 4.25719e-10/1,Exponential Background = inf/-nan), !coefficients=(combined_signal_norm = 95237.1,exp_Norm = 93296.9)\n",
            "     getLogVal() top-level p.d.f evaluates to zero @ !refCoefNorm=(), !pdfs=(Combined Signal = 4.25719e-10/1,Exponential Background = inf/-nan), !coefficients=(combined_signal_norm = 95237.1,exp_Norm = 93296.9)\n",
            "    ... (remaining 2038 messages suppressed)\n",
            "\n",
            "[#0] WARNING:Minization -- RooMinimizerFcn: Minimized function has error status.\n",
            "Returning maximum FCN so far (71533.4) to force MIGRAD to back out of this region. Error log follows\n",
            "Parameter values: Mean=5280.75, Width=21.4911, cbMean=5095.78, cbWidth=52.2322, cbn=5, cbo=10, combined norm=0.508458, combined_signal_norm=104413, exp_Norm=103396, exponent=0.205854\n",
            "RooNLLVar::nll_Full Model_Data Set[ paramSet=(Mean,Width,cbMean,cbWidth,cbn,cbo,combined norm,combined_signal_norm,exp_Norm,exponent) ]\n",
            "     function value is NAN @ paramSet=(Mean = 5280.75,Width = 21.4911,cbMean = 5095.78,cbWidth = 52.2322,cbn = 5,cbo = 10,combined norm = 0.508458,combined_signal_norm = 104413,exp_Norm = 103396,exponent = 0.205854)\n",
            "RooRealIntegral::Exponential Background_Int[M_m0][ Int Exponential Backgroundd[Ana](M_m0) ]\n",
            "     function value is NAN @ !sumList=(), !intList=(), !anaList=(M_m0 = 5180.1), !jacList=(), !facList=(), !func=Exponential Background=inf/-nan, !sumCat=()\n",
            "RooAddPdf::Full Model[ combined_signal_norm * Combined Signal + exp_Norm * Exponential Background ]\n",
            "     p.d.f value is Not-a-Number (-nan), forcing value to zero @ !refCoefNorm=(), !pdfs=(Combined Signal = 0.00373915/1,Exponential Background = inf/-nan), !coefficients=(combined_signal_norm = 104413,exp_Norm = 103396)\n",
            "     getLogVal() top-level p.d.f evaluates to zero @ !refCoefNorm=(), !pdfs=(Combined Signal = 0.00373915/1,Exponential Background = inf/-nan), !coefficients=(combined_signal_norm = 104413,exp_Norm = 103396)\n",
            "     p.d.f value is Not-a-Number (-nan), forcing value to zero @ !refCoefNorm=(), !pdfs=(Combined Signal = 0.0012724/1,Exponential Background = inf/-nan), !coefficients=(combined_signal_norm = 104413,exp_Norm = 103396)\n",
            "     getLogVal() top-level p.d.f evaluates to zero @ !refCoefNorm=(), !pdfs=(Combined Signal = 0.0012724/1,Exponential Background = inf/-nan), !coefficients=(combined_signal_norm = 104413,exp_Norm = 103396)\n",
            "     p.d.f value is Not-a-Number (-nan), forcing value to zero @ !refCoefNorm=(), !pdfs=(Combined Signal = 0.00913563/1,Exponential Background = inf/-nan), !coefficients=(combined_signal_norm = 104413,exp_Norm = 103396)\n",
            "     getLogVal() top-level p.d.f evaluates to zero @ !refCoefNorm=(), !pdfs=(Combined Signal = 0.00913563/1,Exponential Background = inf/-nan), !coefficients=(combined_signal_norm = 104413,exp_Norm = 103396)\n",
            "     p.d.f value is Not-a-Number (-nan), forcing value to zero @ !refCoefNorm=(), !pdfs=(Combined Signal = 7.97388e-10/1,Exponential Background = inf/-nan), !coefficients=(combined_signal_norm = 104413,exp_Norm = 103396)\n",
            "     getLogVal() top-level p.d.f evaluates to zero @ !refCoefNorm=(), !pdfs=(Combined Signal = 7.97388e-10/1,Exponential Background = inf/-nan), !coefficients=(combined_signal_norm = 104413,exp_Norm = 103396)\n",
            "     p.d.f value is Not-a-Number (-nan), forcing value to zero @ !refCoefNorm=(), !pdfs=(Combined Signal = 0.00939102/1,Exponential Background = inf/-nan), !coefficients=(combined_signal_norm = 104413,exp_Norm = 103396)\n",
            "     getLogVal() top-level p.d.f evaluates to zero @ !refCoefNorm=(), !pdfs=(Combined Signal = 0.00939102/1,Exponential Background = inf/-nan), !coefficients=(combined_signal_norm = 104413,exp_Norm = 103396)\n",
            "     p.d.f value is Not-a-Number (-nan), forcing value to zero @ !refCoefNorm=(), !pdfs=(Combined Signal = 4.83496e-11/1,Exponential Background = inf/-nan), !coefficients=(combined_signal_norm = 104413,exp_Norm = 103396)\n",
            "     getLogVal() top-level p.d.f evaluates to zero @ !refCoefNorm=(), !pdfs=(Combined Signal = 4.83496e-11/1,Exponential Background = inf/-nan), !coefficients=(combined_signal_norm = 104413,exp_Norm = 103396)\n",
            "    ... (remaining 2038 messages suppressed)\n",
            "\n",
            "[#0] WARNING:Minization -- RooMinimizerFcn: Minimized function has error status.\n",
            "Returning maximum FCN so far (108447) to force MIGRAD to back out of this region. Error log follows\n",
            "Parameter values: Mean=5280.19, Width=20.3731, cbMean=5095.33, cbWidth=50.5582, cbn=5, cbo=10, combined norm=0.502115, combined_signal_norm=111569, exp_Norm=111306, exponent=-1.99992\n",
            "RooExponential::Exponential Background[ x=M_m0 c=exponent ]\n",
            "     p.d.f normalization integral is zero or negative @ x=M_m0=5250.77, c=exponent=-1.99992\n",
            "     p.d.f normalization integral is zero or negative @ x=M_m0=5248.17, c=exponent=-1.99992\n",
            "     p.d.f normalization integral is zero or negative @ x=M_m0=5274.93, c=exponent=-1.99992\n",
            "     p.d.f normalization integral is zero or negative @ x=M_m0=5228.41, c=exponent=-1.99992\n",
            "     p.d.f normalization integral is zero or negative @ x=M_m0=5231.31, c=exponent=-1.99992\n",
            "     p.d.f normalization integral is zero or negative @ x=M_m0=5200.55, c=exponent=-1.99992\n",
            "     p.d.f normalization integral is zero or negative @ x=M_m0=5079.48, c=exponent=-1.99992\n",
            "     p.d.f normalization integral is zero or negative @ x=M_m0=5080.24, c=exponent=-1.99992\n",
            "     p.d.f normalization integral is zero or negative @ x=M_m0=5402.1, c=exponent=-1.99992\n",
            "     p.d.f normalization integral is zero or negative @ x=M_m0=5436.75, c=exponent=-1.99992\n",
            "     p.d.f normalization integral is zero or negative @ x=M_m0=5095.67, c=exponent=-1.99992\n",
            "     p.d.f normalization integral is zero or negative @ x=M_m0=5031.38, c=exponent=-1.99992\n",
            "    ... (remaining 2038 messages suppressed)\n",
            "\n",
            "[#0] WARNING:Minization -- RooMinimizerFcn: Minimized function has error status.\n",
            "Returning maximum FCN so far (108447) to force MIGRAD to back out of this region. Error log follows\n",
            "Parameter values: Mean=5280.09, Width=20.1866, cbMean=5095.25, cbWidth=50.2791, cbn=5, cbo=10, combined norm=0.501057, combined_signal_norm=112784, exp_Norm=112652, exponent=-1.42496\n",
            "RooExponential::Exponential Background[ x=M_m0 c=exponent ]\n",
            "     p.d.f normalization integral is zero or negative @ x=M_m0=5250.77, c=exponent=-1.42496\n",
            "     p.d.f normalization integral is zero or negative @ x=M_m0=5248.17, c=exponent=-1.42496\n",
            "     p.d.f normalization integral is zero or negative @ x=M_m0=5274.93, c=exponent=-1.42496\n",
            "     p.d.f normalization integral is zero or negative @ x=M_m0=5228.41, c=exponent=-1.42496\n",
            "     p.d.f normalization integral is zero or negative @ x=M_m0=5231.31, c=exponent=-1.42496\n",
            "     p.d.f normalization integral is zero or negative @ x=M_m0=5200.55, c=exponent=-1.42496\n",
            "     p.d.f normalization integral is zero or negative @ x=M_m0=5079.48, c=exponent=-1.42496\n",
            "     p.d.f normalization integral is zero or negative @ x=M_m0=5080.24, c=exponent=-1.42496\n",
            "     p.d.f normalization integral is zero or negative @ x=M_m0=5402.1, c=exponent=-1.42496\n",
            "     p.d.f normalization integral is zero or negative @ x=M_m0=5436.75, c=exponent=-1.42496\n",
            "     p.d.f normalization integral is zero or negative @ x=M_m0=5095.67, c=exponent=-1.42496\n",
            "     p.d.f normalization integral is zero or negative @ x=M_m0=5031.38, c=exponent=-1.42496\n",
            "    ... (remaining 2038 messages suppressed)\n",
            "\n",
            "[#0] WARNING:Minization -- RooMinimizerFcn: Minimized function has error status.\n",
            "Returning maximum FCN so far (108447) to force MIGRAD to back out of this region. Error log follows\n",
            "Parameter values: Mean=5280.05, Width=20.0933, cbMean=5095.21, cbWidth=50.1396, cbn=5, cbo=10, combined norm=0.500529, combined_signal_norm=113394, exp_Norm=113328, exponent=0.794625\n",
            "RooNLLVar::nll_Full Model_Data Set[ paramSet=(Mean,Width,cbMean,cbWidth,cbn,cbo,combined norm,combined_signal_norm,exp_Norm,exponent) ]\n",
            "     function value is NAN @ paramSet=(Mean = 5280.05,Width = 20.0933,cbMean = 5095.21,cbWidth = 50.1396,cbn = 5,cbo = 10,combined norm = 0.500529,combined_signal_norm = 113394,exp_Norm = 113328,exponent = 0.794625)\n",
            "RooRealIntegral::Exponential Background_Int[M_m0][ Int Exponential Backgroundd[Ana](M_m0) ]\n",
            "     function value is NAN @ !sumList=(), !intList=(), !anaList=(M_m0 = 5180.1), !jacList=(), !facList=(), !func=Exponential Background=inf/-0, !sumCat=()\n",
            "RooAddPdf::Full Model[ combined_signal_norm * Combined Signal + exp_Norm * Exponential Background ]\n",
            "     p.d.f value is Not-a-Number (-nan), forcing value to zero @ !refCoefNorm=(), !pdfs=(Combined Signal = 0.00393915/1,Exponential Background = inf/-nan), !coefficients=(combined_signal_norm = 113394,exp_Norm = 113328)\n",
            "     getLogVal() top-level p.d.f evaluates to zero @ !refCoefNorm=(), !pdfs=(Combined Signal = 0.00393915/1,Exponential Background = inf/-nan), !coefficients=(combined_signal_norm = 113394,exp_Norm = 113328)\n",
            "     p.d.f value is Not-a-Number (-nan), forcing value to zero @ !refCoefNorm=(), !pdfs=(Combined Signal = 0.00124039/1,Exponential Background = inf/-nan), !coefficients=(combined_signal_norm = 113394,exp_Norm = 113328)\n",
            "     getLogVal() top-level p.d.f evaluates to zero @ !refCoefNorm=(), !pdfs=(Combined Signal = 0.00124039/1,Exponential Background = inf/-nan), !coefficients=(combined_signal_norm = 113394,exp_Norm = 113328)\n",
            "     p.d.f value is Not-a-Number (-nan), forcing value to zero @ !refCoefNorm=(), !pdfs=(Combined Signal = 0.00947353/1,Exponential Background = inf/-nan), !coefficients=(combined_signal_norm = 113394,exp_Norm = 113328)\n",
            "     getLogVal() top-level p.d.f evaluates to zero @ !refCoefNorm=(), !pdfs=(Combined Signal = 0.00947353/1,Exponential Background = inf/-nan), !coefficients=(combined_signal_norm = 113394,exp_Norm = 113328)\n",
            "     p.d.f value is Not-a-Number (-nan), forcing value to zero @ !refCoefNorm=(), !pdfs=(Combined Signal = 7.90145e-11/1,Exponential Background = inf/-nan), !coefficients=(combined_signal_norm = 113394,exp_Norm = 113328)\n",
            "     getLogVal() top-level p.d.f evaluates to zero @ !refCoefNorm=(), !pdfs=(Combined Signal = 7.90145e-11/1,Exponential Background = inf/-nan), !coefficients=(combined_signal_norm = 113394,exp_Norm = 113328)\n",
            "     p.d.f value is Not-a-Number (-nan), forcing value to zero @ !refCoefNorm=(), !pdfs=(Combined Signal = 0.00990952/1,Exponential Background = inf/-nan), !coefficients=(combined_signal_norm = 113394,exp_Norm = 113328)\n",
            "     getLogVal() top-level p.d.f evaluates to zero @ !refCoefNorm=(), !pdfs=(Combined Signal = 0.00990952/1,Exponential Background = inf/-nan), !coefficients=(combined_signal_norm = 113394,exp_Norm = 113328)\n",
            "     p.d.f value is Not-a-Number (-nan), forcing value to zero @ !refCoefNorm=(), !pdfs=(Combined Signal = 6.20963e-12/1,Exponential Background = inf/-nan), !coefficients=(combined_signal_norm = 113394,exp_Norm = 113328)\n",
            "     getLogVal() top-level p.d.f evaluates to zero @ !refCoefNorm=(), !pdfs=(Combined Signal = 6.20963e-12/1,Exponential Background = inf/-nan), !coefficients=(combined_signal_norm = 113394,exp_Norm = 113328)\n",
            "    ... (remaining 2038 messages suppressed)\n",
            "\n",
            "[#0] WARNING:Minization -- RooMinimizerFcn: Minimized function has error status.\n",
            "Returning maximum FCN so far (108447) to force MIGRAD to back out of this region. Error log follows\n",
            "Parameter values: Mean=5280.02, Width=20.0466, cbMean=5095.19, cbWidth=50.0698, cbn=5, cbo=10, combined norm=0.500264, combined_signal_norm=113700, exp_Norm=113667, exponent=-1.95337\n",
            "RooExponential::Exponential Background[ x=M_m0 c=exponent ]\n",
            "     p.d.f normalization integral is zero or negative @ x=M_m0=5250.77, c=exponent=-1.95337\n",
            "     p.d.f normalization integral is zero or negative @ x=M_m0=5248.17, c=exponent=-1.95337\n",
            "     p.d.f normalization integral is zero or negative @ x=M_m0=5274.93, c=exponent=-1.95337\n",
            "     p.d.f normalization integral is zero or negative @ x=M_m0=5228.41, c=exponent=-1.95337\n",
            "     p.d.f normalization integral is zero or negative @ x=M_m0=5231.31, c=exponent=-1.95337\n",
            "     p.d.f normalization integral is zero or negative @ x=M_m0=5200.55, c=exponent=-1.95337\n",
            "     p.d.f normalization integral is zero or negative @ x=M_m0=5079.48, c=exponent=-1.95337\n",
            "     p.d.f normalization integral is zero or negative @ x=M_m0=5080.24, c=exponent=-1.95337\n",
            "     p.d.f normalization integral is zero or negative @ x=M_m0=5402.1, c=exponent=-1.95337\n",
            "     p.d.f normalization integral is zero or negative @ x=M_m0=5436.75, c=exponent=-1.95337\n",
            "     p.d.f normalization integral is zero or negative @ x=M_m0=5095.67, c=exponent=-1.95337\n",
            "     p.d.f normalization integral is zero or negative @ x=M_m0=5031.38, c=exponent=-1.95337\n",
            "    ... (remaining 2038 messages suppressed)\n",
            "\n",
            "[#0] WARNING:Minization -- RooMinimizerFcn: Minimized function has error status.\n",
            "Returning maximum FCN so far (108447) to force MIGRAD to back out of this region. Error log follows\n",
            "Parameter values: Mean=5280.01, Width=20.0233, cbMean=5095.18, cbWidth=50.0349, cbn=5, cbo=10, combined norm=0.500132, combined_signal_norm=113853, exp_Norm=113836, exponent=1.57366\n",
            "RooNLLVar::nll_Full Model_Data Set[ paramSet=(Mean,Width,cbMean,cbWidth,cbn,cbo,combined norm,combined_signal_norm,exp_Norm,exponent) ]\n",
            "     function value is NAN @ paramSet=(Mean = 5280.01,Width = 20.0233,cbMean = 5095.18,cbWidth = 50.0349,cbn = 5,cbo = 10,combined norm = 0.500132,combined_signal_norm = 113853,exp_Norm = 113836,exponent = 1.57366)\n",
            "RooRealIntegral::Exponential Background_Int[M_m0][ Int Exponential Backgroundd[Ana](M_m0) ]\n",
            "     function value is NAN @ !sumList=(), !intList=(), !anaList=(M_m0 = 5180.1), !jacList=(), !facList=(), !func=Exponential Background=inf/-0, !sumCat=()\n",
            "RooAddPdf::Full Model[ combined_signal_norm * Combined Signal + exp_Norm * Exponential Background ]\n",
            "     p.d.f value is Not-a-Number (-nan), forcing value to zero @ !refCoefNorm=(), !pdfs=(Combined Signal = 0.00394963/1,Exponential Background = inf/-nan), !coefficients=(combined_signal_norm = 113853,exp_Norm = 113836)\n",
            "     getLogVal() top-level p.d.f evaluates to zero @ !refCoefNorm=(), !pdfs=(Combined Signal = 0.00394963/1,Exponential Background = inf/-nan), !coefficients=(combined_signal_norm = 113853,exp_Norm = 113836)\n",
            "     p.d.f value is Not-a-Number (-nan), forcing value to zero @ !refCoefNorm=(), !pdfs=(Combined Signal = 0.0012386/1,Exponential Background = inf/-nan), !coefficients=(combined_signal_norm = 113853,exp_Norm = 113836)\n",
            "     getLogVal() top-level p.d.f evaluates to zero @ !refCoefNorm=(), !pdfs=(Combined Signal = 0.0012386/1,Exponential Background = inf/-nan), !coefficients=(combined_signal_norm = 113853,exp_Norm = 113836)\n",
            "     p.d.f value is Not-a-Number (-nan), forcing value to zero @ !refCoefNorm=(), !pdfs=(Combined Signal = 0.00949066/1,Exponential Background = inf/-nan), !coefficients=(combined_signal_norm = 113853,exp_Norm = 113836)\n",
            "     getLogVal() top-level p.d.f evaluates to zero @ !refCoefNorm=(), !pdfs=(Combined Signal = 0.00949066/1,Exponential Background = inf/-nan), !coefficients=(combined_signal_norm = 113853,exp_Norm = 113836)\n",
            "     p.d.f value is Not-a-Number (-nan), forcing value to zero @ !refCoefNorm=(), !pdfs=(Combined Signal = 6.99179e-11/1,Exponential Background = inf/-nan), !coefficients=(combined_signal_norm = 113853,exp_Norm = 113836)\n",
            "     getLogVal() top-level p.d.f evaluates to zero @ !refCoefNorm=(), !pdfs=(Combined Signal = 6.99179e-11/1,Exponential Background = inf/-nan), !coefficients=(combined_signal_norm = 113853,exp_Norm = 113836)\n",
            "     p.d.f value is Not-a-Number (-nan), forcing value to zero @ !refCoefNorm=(), !pdfs=(Combined Signal = 0.00993728/1,Exponential Background = inf/-nan), !coefficients=(combined_signal_norm = 113853,exp_Norm = 113836)\n",
            "     getLogVal() top-level p.d.f evaluates to zero @ !refCoefNorm=(), !pdfs=(Combined Signal = 0.00993728/1,Exponential Background = inf/-nan), !coefficients=(combined_signal_norm = 113853,exp_Norm = 113836)\n",
            "     p.d.f value is Not-a-Number (-nan), forcing value to zero @ !refCoefNorm=(), !pdfs=(Combined Signal = 5.61544e-12/1,Exponential Background = inf/-nan), !coefficients=(combined_signal_norm = 113853,exp_Norm = 113836)\n",
            "     getLogVal() top-level p.d.f evaluates to zero @ !refCoefNorm=(), !pdfs=(Combined Signal = 5.61544e-12/1,Exponential Background = inf/-nan), !coefficients=(combined_signal_norm = 113853,exp_Norm = 113836)\n",
            "    ... (remaining 2038 messages suppressed)\n",
            "\n",
            " MIGRAD FAILS TO FIND IMPROVEMENT\n",
            " MINUIT WARNING IN HESSE\n",
            " ============== Second derivative zero for parameter5\n",
            "  MNHESS FAILS AND WILL RETURN DIAGONAL MATRIX. \n",
            " FCN=2007.77 FROM HESSE     STATUS=FAILED         11 CALLS         656 TOTAL\n",
            "                     EDM=1.1321e+14    STRATEGY= 1  ERROR MATRIX UNCERTAINTY 100.0 per cent\n",
            "  EXT PARAMETER                APPROXIMATE        STEP         FIRST   \n",
            "  NO.   NAME      VALUE            ERROR          SIZE      DERIVATIVE \n",
            "   1  Mean         5.28000e+03   2.72056e-01   2.25006e-04  -5.99146e+03\n",
            "   2  Width        2.00000e+01   1.47389e-01   2.28052e-04  -2.19844e+04\n",
            "   3  cbMean       5.09518e+03   2.72928e-01   3.94141e-04  -2.86092e+03\n",
            "   4  cbWidth      5.00000e+01   4.82706e-01   2.98755e-04  -7.66644e+03\n",
            "   5  cbn          5.00000e+00   9.40793e+00  -0.00000e+00   0.00000e+00\n",
            "   6  cbo          1.00000e+01   8.41471e+00  -0.00000e+00   0.00000e+00\n",
            "   7  combined norm   5.00000e-01   3.56803e-03   0.00000e+00  -5.31502e+03\n",
            "   8  combined_signal_norm   1.14006e+05   4.50214e+02  -0.00000e+00   8.32149e+05\n",
            "   9  exp_Norm     1.14006e+05   4.60685e+02  -0.00000e+00   7.17264e+05\n",
            "  10  exponent    -2.00000e-02   1.68286e+00   0.00000e+00  -7.52364e+06\n",
            "                               ERR DEF= 0.5\n",
            "[#0] WARNING:Minization -- RooMinimizerFcn: Minimized function has error status.\n",
            "Returning maximum FCN so far (108447) to force MIGRAD to back out of this region. Error log follows\n",
            "Parameter values: Mean=5292.9, Width=38.5967, cbMean=5099.99, cbWidth=82.7639, cbn=5, cbo=10, combined norm=0.633685, combined_signal_norm=10967.3, exp_Norm=6239.5, exponent=1.8664\n",
            "RooNLLVar::nll_Full Model_Data Set[ paramSet=(Mean,Width,cbMean,cbWidth,cbn,cbo,combined norm,combined_signal_norm,exp_Norm,exponent) ]\n",
            "     function value is NAN @ paramSet=(Mean = 5292.9,Width = 38.5967,cbMean = 5099.99,cbWidth = 82.7639,cbn = 5,cbo = 10,combined norm = 0.633685,combined_signal_norm = 10967.3,exp_Norm = 6239.5,exponent = 1.8664)\n",
            "RooRealIntegral::Exponential Background_Int[M_m0][ Int Exponential Backgroundd[Ana](M_m0) ]\n",
            "     function value is NAN @ !sumList=(), !intList=(), !anaList=(M_m0 = 5180.1), !jacList=(), !facList=(), !func=Exponential Background=inf/1.85995e-42, !sumCat=()\n",
            "RooAddPdf::Full Model[ combined_signal_norm * Combined Signal + exp_Norm * Exponential Background ]\n",
            "     p.d.f value is Not-a-Number (-nan), forcing value to zero @ !refCoefNorm=(), !pdfs=(Combined Signal = 0.00194211/1,Exponential Background = inf/-nan), !coefficients=(combined_signal_norm = 10967.3,exp_Norm = 6239.5)\n",
            "     getLogVal() top-level p.d.f evaluates to zero @ !refCoefNorm=(), !pdfs=(Combined Signal = 0.00194211/1,Exponential Background = inf/-nan), !coefficients=(combined_signal_norm = 10967.3,exp_Norm = 6239.5)\n",
            "     p.d.f value is Not-a-Number (-nan), forcing value to zero @ !refCoefNorm=(), !pdfs=(Combined Signal = 0.0012157/1,Exponential Background = inf/-nan), !coefficients=(combined_signal_norm = 10967.3,exp_Norm = 6239.5)\n",
            "     getLogVal() top-level p.d.f evaluates to zero @ !refCoefNorm=(), !pdfs=(Combined Signal = 0.0012157/1,Exponential Background = inf/-nan), !coefficients=(combined_signal_norm = 10967.3,exp_Norm = 6239.5)\n",
            "     p.d.f value is Not-a-Number (-nan), forcing value to zero @ !refCoefNorm=(), !pdfs=(Combined Signal = 0.00661247/1,Exponential Background = inf/-nan), !coefficients=(combined_signal_norm = 10967.3,exp_Norm = 6239.5)\n",
            "     getLogVal() top-level p.d.f evaluates to zero @ !refCoefNorm=(), !pdfs=(Combined Signal = 0.00661247/1,Exponential Background = inf/-nan), !coefficients=(combined_signal_norm = 10967.3,exp_Norm = 6239.5)\n",
            "     p.d.f value is Not-a-Number (-nan), forcing value to zero @ !refCoefNorm=(), !pdfs=(Combined Signal = 0.000106762/1,Exponential Background = inf/-nan), !coefficients=(combined_signal_norm = 10967.3,exp_Norm = 6239.5)\n",
            "     getLogVal() top-level p.d.f evaluates to zero @ !refCoefNorm=(), !pdfs=(Combined Signal = 0.000106762/1,Exponential Background = inf/-nan), !coefficients=(combined_signal_norm = 10967.3,exp_Norm = 6239.5)\n",
            "     p.d.f value is Not-a-Number (-nan), forcing value to zero @ !refCoefNorm=(), !pdfs=(Combined Signal = 0.00629861/1,Exponential Background = inf/-nan), !coefficients=(combined_signal_norm = 10967.3,exp_Norm = 6239.5)\n",
            "     getLogVal() top-level p.d.f evaluates to zero @ !refCoefNorm=(), !pdfs=(Combined Signal = 0.00629861/1,Exponential Background = inf/-nan), !coefficients=(combined_signal_norm = 10967.3,exp_Norm = 6239.5)\n",
            "     p.d.f value is Not-a-Number (-nan), forcing value to zero @ !refCoefNorm=(), !pdfs=(Combined Signal = 4.11317e-05/1,Exponential Background = inf/-nan), !coefficients=(combined_signal_norm = 10967.3,exp_Norm = 6239.5)\n",
            "     getLogVal() top-level p.d.f evaluates to zero @ !refCoefNorm=(), !pdfs=(Combined Signal = 4.11317e-05/1,Exponential Background = inf/-nan), !coefficients=(combined_signal_norm = 10967.3,exp_Norm = 6239.5)\n",
            "    ... (remaining 2038 messages suppressed)\n",
            "\n",
            "[#0] WARNING:Minization -- RooMinimizerFcn: Minimized function has error status.\n",
            "Returning maximum FCN so far (108447) to force MIGRAD to back out of this region. Error log follows\n",
            "Parameter values: Mean=5286.21, Width=31.243, cbMean=5098.89, cbWidth=67.4862, cbn=5, cbo=10, combined norm=0.567459, combined_signal_norm=48988.4, exp_Norm=43503.9, exponent=1.63506\n",
            "RooNLLVar::nll_Full Model_Data Set[ paramSet=(Mean,Width,cbMean,cbWidth,cbn,cbo,combined norm,combined_signal_norm,exp_Norm,exponent) ]\n",
            "     function value is NAN @ paramSet=(Mean = 5286.21,Width = 31.243,cbMean = 5098.89,cbWidth = 67.4862,cbn = 5,cbo = 10,combined norm = 0.567459,combined_signal_norm = 48988.4,exp_Norm = 43503.9,exponent = 1.63506)\n",
            "RooRealIntegral::Exponential Background_Int[M_m0][ Int Exponential Backgroundd[Ana](M_m0) ]\n",
            "     function value is NAN @ !sumList=(), !intList=(), !anaList=(M_m0 = 5180.1), !jacList=(), !facList=(), !func=Exponential Background=inf/-nan, !sumCat=()\n",
            "RooAddPdf::Full Model[ combined_signal_norm * Combined Signal + exp_Norm * Exponential Background ]\n",
            "     p.d.f value is Not-a-Number (-nan), forcing value to zero @ !refCoefNorm=(), !pdfs=(Combined Signal = 0.00266245/1,Exponential Background = inf/-nan), !coefficients=(combined_signal_norm = 48988.4,exp_Norm = 43503.9)\n",
            "     getLogVal() top-level p.d.f evaluates to zero @ !refCoefNorm=(), !pdfs=(Combined Signal = 0.00266245/1,Exponential Background = inf/-nan), !coefficients=(combined_signal_norm = 48988.4,exp_Norm = 43503.9)\n",
            "     p.d.f value is Not-a-Number (-nan), forcing value to zero @ !refCoefNorm=(), !pdfs=(Combined Signal = 0.00133643/1,Exponential Background = inf/-nan), !coefficients=(combined_signal_norm = 48988.4,exp_Norm = 43503.9)\n",
            "     getLogVal() top-level p.d.f evaluates to zero @ !refCoefNorm=(), !pdfs=(Combined Signal = 0.00133643/1,Exponential Background = inf/-nan), !coefficients=(combined_signal_norm = 48988.4,exp_Norm = 43503.9)\n",
            "     p.d.f value is Not-a-Number (-nan), forcing value to zero @ !refCoefNorm=(), !pdfs=(Combined Signal = 0.00730419/1,Exponential Background = inf/-nan), !coefficients=(combined_signal_norm = 48988.4,exp_Norm = 43503.9)\n",
            "     getLogVal() top-level p.d.f evaluates to zero @ !refCoefNorm=(), !pdfs=(Combined Signal = 0.00730419/1,Exponential Background = inf/-nan), !coefficients=(combined_signal_norm = 48988.4,exp_Norm = 43503.9)\n",
            "     p.d.f value is Not-a-Number (-nan), forcing value to zero @ !refCoefNorm=(), !pdfs=(Combined Signal = 6.08072e-06/1,Exponential Background = inf/-nan), !coefficients=(combined_signal_norm = 48988.4,exp_Norm = 43503.9)\n",
            "     getLogVal() top-level p.d.f evaluates to zero @ !refCoefNorm=(), !pdfs=(Combined Signal = 6.08072e-06/1,Exponential Background = inf/-nan), !coefficients=(combined_signal_norm = 48988.4,exp_Norm = 43503.9)\n",
            "     p.d.f value is Not-a-Number (-nan), forcing value to zero @ !refCoefNorm=(), !pdfs=(Combined Signal = 0.00710272/1,Exponential Background = inf/-nan), !coefficients=(combined_signal_norm = 48988.4,exp_Norm = 43503.9)\n",
            "     getLogVal() top-level p.d.f evaluates to zero @ !refCoefNorm=(), !pdfs=(Combined Signal = 0.00710272/1,Exponential Background = inf/-nan), !coefficients=(combined_signal_norm = 48988.4,exp_Norm = 43503.9)\n",
            "     p.d.f value is Not-a-Number (-nan), forcing value to zero @ !refCoefNorm=(), !pdfs=(Combined Signal = 1.30451e-06/1,Exponential Background = inf/-nan), !coefficients=(combined_signal_norm = 48988.4,exp_Norm = 43503.9)\n",
            "     getLogVal() top-level p.d.f evaluates to zero @ !refCoefNorm=(), !pdfs=(Combined Signal = 1.30451e-06/1,Exponential Background = inf/-nan), !coefficients=(combined_signal_norm = 48988.4,exp_Norm = 43503.9)\n",
            "    ... (remaining 2038 messages suppressed)\n",
            "\n",
            "[#0] WARNING:Minization -- RooMinimizerFcn: Minimized function has error status.\n",
            "Returning maximum FCN so far (108447) to force MIGRAD to back out of this region. Error log follows\n",
            "Parameter values: Mean=5283.04, Width=25.8816, cbMean=5097.35, cbWidth=58.8845, cbn=5, cbo=10, combined norm=0.533807, combined_signal_norm=78140.9, exp_Norm=74636, exponent=0.899494\n",
            "RooNLLVar::nll_Full Model_Data Set[ paramSet=(Mean,Width,cbMean,cbWidth,cbn,cbo,combined norm,combined_signal_norm,exp_Norm,exponent) ]\n",
            "     function value is NAN @ paramSet=(Mean = 5283.04,Width = 25.8816,cbMean = 5097.35,cbWidth = 58.8845,cbn = 5,cbo = 10,combined norm = 0.533807,combined_signal_norm = 78140.9,exp_Norm = 74636,exponent = 0.899494)\n",
            "RooRealIntegral::Exponential Background_Int[M_m0][ Int Exponential Backgroundd[Ana](M_m0) ]\n",
            "     function value is NAN @ !sumList=(), !intList=(), !anaList=(M_m0 = 5180.1), !jacList=(), !facList=(), !func=Exponential Background=inf/-nan, !sumCat=()\n",
            "RooAddPdf::Full Model[ combined_signal_norm * Combined Signal + exp_Norm * Exponential Background ]\n",
            "     p.d.f value is Not-a-Number (-nan), forcing value to zero @ !refCoefNorm=(), !pdfs=(Combined Signal = 0.00320176/1,Exponential Background = inf/-nan), !coefficients=(combined_signal_norm = 78140.9,exp_Norm = 74636)\n",
            "     getLogVal() top-level p.d.f evaluates to zero @ !refCoefNorm=(), !pdfs=(Combined Signal = 0.00320176/1,Exponential Background = inf/-nan), !coefficients=(combined_signal_norm = 78140.9,exp_Norm = 74636)\n",
            "     p.d.f value is Not-a-Number (-nan), forcing value to zero @ !refCoefNorm=(), !pdfs=(Combined Signal = 0.00133196/1,Exponential Background = inf/-nan), !coefficients=(combined_signal_norm = 78140.9,exp_Norm = 74636)\n",
            "     getLogVal() top-level p.d.f evaluates to zero @ !refCoefNorm=(), !pdfs=(Combined Signal = 0.00133196/1,Exponential Background = inf/-nan), !coefficients=(combined_signal_norm = 78140.9,exp_Norm = 74636)\n",
            "     p.d.f value is Not-a-Number (-nan), forcing value to zero @ !refCoefNorm=(), !pdfs=(Combined Signal = 0.00818316/1,Exponential Background = inf/-nan), !coefficients=(combined_signal_norm = 78140.9,exp_Norm = 74636)\n",
            "     getLogVal() top-level p.d.f evaluates to zero @ !refCoefNorm=(), !pdfs=(Combined Signal = 0.00818316/1,Exponential Background = inf/-nan), !coefficients=(combined_signal_norm = 78140.9,exp_Norm = 74636)\n",
            "     p.d.f value is Not-a-Number (-nan), forcing value to zero @ !refCoefNorm=(), !pdfs=(Combined Signal = 1.54436e-07/1,Exponential Background = inf/-nan), !coefficients=(combined_signal_norm = 78140.9,exp_Norm = 74636)\n",
            "     getLogVal() top-level p.d.f evaluates to zero @ !refCoefNorm=(), !pdfs=(Combined Signal = 1.54436e-07/1,Exponential Background = inf/-nan), !coefficients=(combined_signal_norm = 78140.9,exp_Norm = 74636)\n",
            "     p.d.f value is Not-a-Number (-nan), forcing value to zero @ !refCoefNorm=(), !pdfs=(Combined Signal = 0.00812638/1,Exponential Background = inf/-nan), !coefficients=(combined_signal_norm = 78140.9,exp_Norm = 74636)\n",
            "     getLogVal() top-level p.d.f evaluates to zero @ !refCoefNorm=(), !pdfs=(Combined Signal = 0.00812638/1,Exponential Background = inf/-nan), !coefficients=(combined_signal_norm = 78140.9,exp_Norm = 74636)\n",
            "     p.d.f value is Not-a-Number (-nan), forcing value to zero @ !refCoefNorm=(), !pdfs=(Combined Signal = 1.60853e-08/1,Exponential Background = inf/-nan), !coefficients=(combined_signal_norm = 78140.9,exp_Norm = 74636)\n",
            "     getLogVal() top-level p.d.f evaluates to zero @ !refCoefNorm=(), !pdfs=(Combined Signal = 1.60853e-08/1,Exponential Background = inf/-nan), !coefficients=(combined_signal_norm = 78140.9,exp_Norm = 74636)\n",
            "    ... (remaining 2038 messages suppressed)\n",
            "\n",
            "[#0] WARNING:Minization -- RooMinimizerFcn: Minimized function has error status.\n",
            "Returning maximum FCN so far (108447) to force MIGRAD to back out of this region. Error log follows\n",
            "Parameter values: Mean=5281.5, Width=22.9738, cbMean=5096.34, cbWidth=54.46, cbn=5, cbo=10, combined norm=0.516913, combined_signal_norm=95237.1, exp_Norm=93296.9, exponent=0.438737\n",
            "RooNLLVar::nll_Full Model_Data Set[ paramSet=(Mean,Width,cbMean,cbWidth,cbn,cbo,combined norm,combined_signal_norm,exp_Norm,exponent) ]\n",
            "     function value is NAN @ paramSet=(Mean = 5281.5,Width = 22.9738,cbMean = 5096.34,cbWidth = 54.46,cbn = 5,cbo = 10,combined norm = 0.516913,combined_signal_norm = 95237.1,exp_Norm = 93296.9,exponent = 0.438737)\n",
            "RooRealIntegral::Exponential Background_Int[M_m0][ Int Exponential Backgroundd[Ana](M_m0) ]\n",
            "     function value is NAN @ !sumList=(), !intList=(), !anaList=(M_m0 = 5180.1), !jacList=(), !facList=(), !func=Exponential Background=inf/-nan, !sumCat=()\n",
            "RooAddPdf::Full Model[ combined_signal_norm * Combined Signal + exp_Norm * Exponential Background ]\n",
            "     p.d.f value is Not-a-Number (-nan), forcing value to zero @ !refCoefNorm=(), !pdfs=(Combined Signal = 0.00354407/1,Exponential Background = inf/-nan), !coefficients=(combined_signal_norm = 95237.1,exp_Norm = 93296.9)\n",
            "     getLogVal() top-level p.d.f evaluates to zero @ !refCoefNorm=(), !pdfs=(Combined Signal = 0.00354407/1,Exponential Background = inf/-nan), !coefficients=(combined_signal_norm = 95237.1,exp_Norm = 93296.9)\n",
            "     p.d.f value is Not-a-Number (-nan), forcing value to zero @ !refCoefNorm=(), !pdfs=(Combined Signal = 0.00129902/1,Exponential Background = inf/-nan), !coefficients=(combined_signal_norm = 95237.1,exp_Norm = 93296.9)\n",
            "     getLogVal() top-level p.d.f evaluates to zero @ !refCoefNorm=(), !pdfs=(Combined Signal = 0.00129902/1,Exponential Background = inf/-nan), !coefficients=(combined_signal_norm = 95237.1,exp_Norm = 93296.9)\n",
            "     p.d.f value is Not-a-Number (-nan), forcing value to zero @ !refCoefNorm=(), !pdfs=(Combined Signal = 0.00879239/1,Exponential Background = inf/-nan), !coefficients=(combined_signal_norm = 95237.1,exp_Norm = 93296.9)\n",
            "     getLogVal() top-level p.d.f evaluates to zero @ !refCoefNorm=(), !pdfs=(Combined Signal = 0.00879239/1,Exponential Background = inf/-nan), !coefficients=(combined_signal_norm = 95237.1,exp_Norm = 93296.9)\n",
            "     p.d.f value is Not-a-Number (-nan), forcing value to zero @ !refCoefNorm=(), !pdfs=(Combined Signal = 6.52782e-09/1,Exponential Background = inf/-nan), !coefficients=(combined_signal_norm = 95237.1,exp_Norm = 93296.9)\n",
            "     getLogVal() top-level p.d.f evaluates to zero @ !refCoefNorm=(), !pdfs=(Combined Signal = 6.52782e-09/1,Exponential Background = inf/-nan), !coefficients=(combined_signal_norm = 95237.1,exp_Norm = 93296.9)\n",
            "     p.d.f value is Not-a-Number (-nan), forcing value to zero @ !refCoefNorm=(), !pdfs=(Combined Signal = 0.00890849/1,Exponential Background = inf/-nan), !coefficients=(combined_signal_norm = 95237.1,exp_Norm = 93296.9)\n",
            "     getLogVal() top-level p.d.f evaluates to zero @ !refCoefNorm=(), !pdfs=(Combined Signal = 0.00890849/1,Exponential Background = inf/-nan), !coefficients=(combined_signal_norm = 95237.1,exp_Norm = 93296.9)\n",
            "     p.d.f value is Not-a-Number (-nan), forcing value to zero @ !refCoefNorm=(), !pdfs=(Combined Signal = 4.25719e-10/1,Exponential Background = inf/-nan), !coefficients=(combined_signal_norm = 95237.1,exp_Norm = 93296.9)\n",
            "     getLogVal() top-level p.d.f evaluates to zero @ !refCoefNorm=(), !pdfs=(Combined Signal = 4.25719e-10/1,Exponential Background = inf/-nan), !coefficients=(combined_signal_norm = 95237.1,exp_Norm = 93296.9)\n",
            "    ... (remaining 2038 messages suppressed)\n",
            "\n",
            "[#0] WARNING:Minization -- RooMinimizerFcn: Minimized function has error status.\n",
            "Returning maximum FCN so far (108447) to force MIGRAD to back out of this region. Error log follows\n",
            "Parameter values: Mean=5280.75, Width=21.4911, cbMean=5095.78, cbWidth=52.2322, cbn=5, cbo=10, combined norm=0.508458, combined_signal_norm=104413, exp_Norm=103396, exponent=0.196701\n",
            "RooNLLVar::nll_Full Model_Data Set[ paramSet=(Mean,Width,cbMean,cbWidth,cbn,cbo,combined norm,combined_signal_norm,exp_Norm,exponent) ]\n",
            "     function value is NAN @ paramSet=(Mean = 5280.75,Width = 21.4911,cbMean = 5095.78,cbWidth = 52.2322,cbn = 5,cbo = 10,combined norm = 0.508458,combined_signal_norm = 104413,exp_Norm = 103396,exponent = 0.196701)\n",
            "RooRealIntegral::Exponential Background_Int[M_m0][ Int Exponential Backgroundd[Ana](M_m0) ]\n",
            "     function value is NAN @ !sumList=(), !intList=(), !anaList=(M_m0 = 5180.1), !jacList=(), !facList=(), !func=Exponential Background=inf/-nan, !sumCat=()\n",
            "RooAddPdf::Full Model[ combined_signal_norm * Combined Signal + exp_Norm * Exponential Background ]\n",
            "     p.d.f value is Not-a-Number (-nan), forcing value to zero @ !refCoefNorm=(), !pdfs=(Combined Signal = 0.00373915/1,Exponential Background = inf/-nan), !coefficients=(combined_signal_norm = 104413,exp_Norm = 103396)\n",
            "     getLogVal() top-level p.d.f evaluates to zero @ !refCoefNorm=(), !pdfs=(Combined Signal = 0.00373915/1,Exponential Background = inf/-nan), !coefficients=(combined_signal_norm = 104413,exp_Norm = 103396)\n",
            "     p.d.f value is Not-a-Number (-nan), forcing value to zero @ !refCoefNorm=(), !pdfs=(Combined Signal = 0.0012724/1,Exponential Background = inf/-nan), !coefficients=(combined_signal_norm = 104413,exp_Norm = 103396)\n",
            "     getLogVal() top-level p.d.f evaluates to zero @ !refCoefNorm=(), !pdfs=(Combined Signal = 0.0012724/1,Exponential Background = inf/-nan), !coefficients=(combined_signal_norm = 104413,exp_Norm = 103396)\n",
            "     p.d.f value is Not-a-Number (-nan), forcing value to zero @ !refCoefNorm=(), !pdfs=(Combined Signal = 0.00913563/1,Exponential Background = inf/-nan), !coefficients=(combined_signal_norm = 104413,exp_Norm = 103396)\n",
            "     getLogVal() top-level p.d.f evaluates to zero @ !refCoefNorm=(), !pdfs=(Combined Signal = 0.00913563/1,Exponential Background = inf/-nan), !coefficients=(combined_signal_norm = 104413,exp_Norm = 103396)\n",
            "     p.d.f value is Not-a-Number (-nan), forcing value to zero @ !refCoefNorm=(), !pdfs=(Combined Signal = 7.97388e-10/1,Exponential Background = inf/-nan), !coefficients=(combined_signal_norm = 104413,exp_Norm = 103396)\n",
            "     getLogVal() top-level p.d.f evaluates to zero @ !refCoefNorm=(), !pdfs=(Combined Signal = 7.97388e-10/1,Exponential Background = inf/-nan), !coefficients=(combined_signal_norm = 104413,exp_Norm = 103396)\n",
            "     p.d.f value is Not-a-Number (-nan), forcing value to zero @ !refCoefNorm=(), !pdfs=(Combined Signal = 0.00939102/1,Exponential Background = inf/-nan), !coefficients=(combined_signal_norm = 104413,exp_Norm = 103396)\n",
            "     getLogVal() top-level p.d.f evaluates to zero @ !refCoefNorm=(), !pdfs=(Combined Signal = 0.00939102/1,Exponential Background = inf/-nan), !coefficients=(combined_signal_norm = 104413,exp_Norm = 103396)\n",
            "     p.d.f value is Not-a-Number (-nan), forcing value to zero @ !refCoefNorm=(), !pdfs=(Combined Signal = 4.83496e-11/1,Exponential Background = inf/-nan), !coefficients=(combined_signal_norm = 104413,exp_Norm = 103396)\n",
            "     getLogVal() top-level p.d.f evaluates to zero @ !refCoefNorm=(), !pdfs=(Combined Signal = 4.83496e-11/1,Exponential Background = inf/-nan), !coefficients=(combined_signal_norm = 104413,exp_Norm = 103396)\n",
            "    ... (remaining 2038 messages suppressed)\n",
            "\n",
            "[#0] WARNING:Minization -- RooMinimizerFcn: Minimized function has error status.\n",
            "Returning maximum FCN so far (108447) to force MIGRAD to back out of this region. Error log follows\n",
            "Parameter values: Mean=5280.19, Width=20.3731, cbMean=5095.33, cbWidth=50.5582, cbn=5, cbo=10, combined norm=0.502115, combined_signal_norm=111569, exp_Norm=111306, exponent=-1.99996\n",
            "RooExponential::Exponential Background[ x=M_m0 c=exponent ]\n",
            "     p.d.f normalization integral is zero or negative @ x=M_m0=5250.77, c=exponent=-1.99996\n",
            "     p.d.f normalization integral is zero or negative @ x=M_m0=5248.17, c=exponent=-1.99996\n",
            "     p.d.f normalization integral is zero or negative @ x=M_m0=5274.93, c=exponent=-1.99996\n",
            "     p.d.f normalization integral is zero or negative @ x=M_m0=5228.41, c=exponent=-1.99996\n",
            "     p.d.f normalization integral is zero or negative @ x=M_m0=5231.31, c=exponent=-1.99996\n",
            "     p.d.f normalization integral is zero or negative @ x=M_m0=5200.55, c=exponent=-1.99996\n",
            "     p.d.f normalization integral is zero or negative @ x=M_m0=5079.48, c=exponent=-1.99996\n",
            "     p.d.f normalization integral is zero or negative @ x=M_m0=5080.24, c=exponent=-1.99996\n",
            "     p.d.f normalization integral is zero or negative @ x=M_m0=5402.1, c=exponent=-1.99996\n",
            "     p.d.f normalization integral is zero or negative @ x=M_m0=5436.75, c=exponent=-1.99996\n",
            "     p.d.f normalization integral is zero or negative @ x=M_m0=5095.67, c=exponent=-1.99996\n",
            "     p.d.f normalization integral is zero or negative @ x=M_m0=5031.38, c=exponent=-1.99996\n",
            "    ... (remaining 2038 messages suppressed)\n",
            "\n",
            "[#0] WARNING:Minization -- RooMinimizerFcn: Minimized function has error status.\n",
            "Returning maximum FCN so far (108447) to force MIGRAD to back out of this region. Error log follows\n",
            "Parameter values: Mean=5280.09, Width=20.1866, cbMean=5095.25, cbWidth=50.2791, cbn=5, cbo=10, combined norm=0.501057, combined_signal_norm=112784, exp_Norm=112652, exponent=-1.42659\n",
            "RooExponential::Exponential Background[ x=M_m0 c=exponent ]\n",
            "     p.d.f normalization integral is zero or negative @ x=M_m0=5250.77, c=exponent=-1.42659\n",
            "     p.d.f normalization integral is zero or negative @ x=M_m0=5248.17, c=exponent=-1.42659\n",
            "     p.d.f normalization integral is zero or negative @ x=M_m0=5274.93, c=exponent=-1.42659\n",
            "     p.d.f normalization integral is zero or negative @ x=M_m0=5228.41, c=exponent=-1.42659\n",
            "     p.d.f normalization integral is zero or negative @ x=M_m0=5231.31, c=exponent=-1.42659\n",
            "     p.d.f normalization integral is zero or negative @ x=M_m0=5200.55, c=exponent=-1.42659\n",
            "     p.d.f normalization integral is zero or negative @ x=M_m0=5079.48, c=exponent=-1.42659\n",
            "     p.d.f normalization integral is zero or negative @ x=M_m0=5080.24, c=exponent=-1.42659\n",
            "     p.d.f normalization integral is zero or negative @ x=M_m0=5402.1, c=exponent=-1.42659\n",
            "     p.d.f normalization integral is zero or negative @ x=M_m0=5436.75, c=exponent=-1.42659\n",
            "     p.d.f normalization integral is zero or negative @ x=M_m0=5095.67, c=exponent=-1.42659\n",
            "     p.d.f normalization integral is zero or negative @ x=M_m0=5031.38, c=exponent=-1.42659\n",
            "    ... (remaining 2038 messages suppressed)\n",
            "\n",
            "[#0] WARNING:Minization -- RooMinimizerFcn: Minimized function has error status.\n",
            "Returning maximum FCN so far (108447) to force MIGRAD to back out of this region. Error log follows\n",
            "Parameter values: Mean=5280.05, Width=20.0933, cbMean=5095.21, cbWidth=50.1396, cbn=5, cbo=10, combined norm=0.500529, combined_signal_norm=113394, exp_Norm=113328, exponent=0.795695\n",
            "RooNLLVar::nll_Full Model_Data Set[ paramSet=(Mean,Width,cbMean,cbWidth,cbn,cbo,combined norm,combined_signal_norm,exp_Norm,exponent) ]\n",
            "     function value is NAN @ paramSet=(Mean = 5280.05,Width = 20.0933,cbMean = 5095.21,cbWidth = 50.1396,cbn = 5,cbo = 10,combined norm = 0.500529,combined_signal_norm = 113394,exp_Norm = 113328,exponent = 0.795695)\n",
            "RooRealIntegral::Exponential Background_Int[M_m0][ Int Exponential Backgroundd[Ana](M_m0) ]\n",
            "     function value is NAN @ !sumList=(), !intList=(), !anaList=(M_m0 = 5180.1), !jacList=(), !facList=(), !func=Exponential Background=inf/-0, !sumCat=()\n",
            "RooAddPdf::Full Model[ combined_signal_norm * Combined Signal + exp_Norm * Exponential Background ]\n",
            "     p.d.f value is Not-a-Number (-nan), forcing value to zero @ !refCoefNorm=(), !pdfs=(Combined Signal = 0.00393915/1,Exponential Background = inf/-nan), !coefficients=(combined_signal_norm = 113394,exp_Norm = 113328)\n",
            "     getLogVal() top-level p.d.f evaluates to zero @ !refCoefNorm=(), !pdfs=(Combined Signal = 0.00393915/1,Exponential Background = inf/-nan), !coefficients=(combined_signal_norm = 113394,exp_Norm = 113328)\n",
            "     p.d.f value is Not-a-Number (-nan), forcing value to zero @ !refCoefNorm=(), !pdfs=(Combined Signal = 0.00124039/1,Exponential Background = inf/-nan), !coefficients=(combined_signal_norm = 113394,exp_Norm = 113328)\n",
            "     getLogVal() top-level p.d.f evaluates to zero @ !refCoefNorm=(), !pdfs=(Combined Signal = 0.00124039/1,Exponential Background = inf/-nan), !coefficients=(combined_signal_norm = 113394,exp_Norm = 113328)\n",
            "     p.d.f value is Not-a-Number (-nan), forcing value to zero @ !refCoefNorm=(), !pdfs=(Combined Signal = 0.00947353/1,Exponential Background = inf/-nan), !coefficients=(combined_signal_norm = 113394,exp_Norm = 113328)\n",
            "     getLogVal() top-level p.d.f evaluates to zero @ !refCoefNorm=(), !pdfs=(Combined Signal = 0.00947353/1,Exponential Background = inf/-nan), !coefficients=(combined_signal_norm = 113394,exp_Norm = 113328)\n",
            "     p.d.f value is Not-a-Number (-nan), forcing value to zero @ !refCoefNorm=(), !pdfs=(Combined Signal = 7.90145e-11/1,Exponential Background = inf/-nan), !coefficients=(combined_signal_norm = 113394,exp_Norm = 113328)\n",
            "     getLogVal() top-level p.d.f evaluates to zero @ !refCoefNorm=(), !pdfs=(Combined Signal = 7.90145e-11/1,Exponential Background = inf/-nan), !coefficients=(combined_signal_norm = 113394,exp_Norm = 113328)\n",
            "     p.d.f value is Not-a-Number (-nan), forcing value to zero @ !refCoefNorm=(), !pdfs=(Combined Signal = 0.00990952/1,Exponential Background = inf/-nan), !coefficients=(combined_signal_norm = 113394,exp_Norm = 113328)\n",
            "     getLogVal() top-level p.d.f evaluates to zero @ !refCoefNorm=(), !pdfs=(Combined Signal = 0.00990952/1,Exponential Background = inf/-nan), !coefficients=(combined_signal_norm = 113394,exp_Norm = 113328)\n",
            "     p.d.f value is Not-a-Number (-nan), forcing value to zero @ !refCoefNorm=(), !pdfs=(Combined Signal = 6.20963e-12/1,Exponential Background = inf/-nan), !coefficients=(combined_signal_norm = 113394,exp_Norm = 113328)\n",
            "     getLogVal() top-level p.d.f evaluates to zero @ !refCoefNorm=(), !pdfs=(Combined Signal = 6.20963e-12/1,Exponential Background = inf/-nan), !coefficients=(combined_signal_norm = 113394,exp_Norm = 113328)\n",
            "    ... (remaining 2038 messages suppressed)\n",
            "\n",
            "[#0] WARNING:Minization -- RooMinimizerFcn: Minimized function has error status.\n",
            "Returning maximum FCN so far (108447) to force MIGRAD to back out of this region. Error log follows\n",
            "Parameter values: Mean=5280.02, Width=20.0466, cbMean=5095.19, cbWidth=50.0698, cbn=5, cbo=10, combined norm=0.500264, combined_signal_norm=113700, exp_Norm=113667, exponent=-1.95324\n",
            "RooExponential::Exponential Background[ x=M_m0 c=exponent ]\n",
            "     p.d.f normalization integral is zero or negative @ x=M_m0=5250.77, c=exponent=-1.95324\n",
            "     p.d.f normalization integral is zero or negative @ x=M_m0=5248.17, c=exponent=-1.95324\n",
            "     p.d.f normalization integral is zero or negative @ x=M_m0=5274.93, c=exponent=-1.95324\n",
            "     p.d.f normalization integral is zero or negative @ x=M_m0=5228.41, c=exponent=-1.95324\n",
            "     p.d.f normalization integral is zero or negative @ x=M_m0=5231.31, c=exponent=-1.95324\n",
            "     p.d.f normalization integral is zero or negative @ x=M_m0=5200.55, c=exponent=-1.95324\n",
            "     p.d.f normalization integral is zero or negative @ x=M_m0=5079.48, c=exponent=-1.95324\n",
            "     p.d.f normalization integral is zero or negative @ x=M_m0=5080.24, c=exponent=-1.95324\n",
            "     p.d.f normalization integral is zero or negative @ x=M_m0=5402.1, c=exponent=-1.95324\n",
            "     p.d.f normalization integral is zero or negative @ x=M_m0=5436.75, c=exponent=-1.95324\n",
            "     p.d.f normalization integral is zero or negative @ x=M_m0=5095.67, c=exponent=-1.95324\n",
            "     p.d.f normalization integral is zero or negative @ x=M_m0=5031.38, c=exponent=-1.95324\n",
            "    ... (remaining 2038 messages suppressed)\n",
            "\n",
            "[#0] WARNING:Minization -- RooMinimizerFcn: Minimized function has error status.\n",
            "Returning maximum FCN so far (108447) to force MIGRAD to back out of this region. Error log follows\n",
            "Parameter values: Mean=5280.01, Width=20.0233, cbMean=5095.18, cbWidth=50.0349, cbn=5, cbo=10, combined norm=0.500132, combined_signal_norm=113853, exp_Norm=113836, exponent=1.57384\n",
            "RooNLLVar::nll_Full Model_Data Set[ paramSet=(Mean,Width,cbMean,cbWidth,cbn,cbo,combined norm,combined_signal_norm,exp_Norm,exponent) ]\n",
            "     function value is NAN @ paramSet=(Mean = 5280.01,Width = 20.0233,cbMean = 5095.18,cbWidth = 50.0349,cbn = 5,cbo = 10,combined norm = 0.500132,combined_signal_norm = 113853,exp_Norm = 113836,exponent = 1.57384)\n",
            "RooRealIntegral::Exponential Background_Int[M_m0][ Int Exponential Backgroundd[Ana](M_m0) ]\n",
            "     function value is NAN @ !sumList=(), !intList=(), !anaList=(M_m0 = 5180.1), !jacList=(), !facList=(), !func=Exponential Background=inf/-0, !sumCat=()\n",
            "RooAddPdf::Full Model[ combined_signal_norm * Combined Signal + exp_Norm * Exponential Background ]\n",
            "     p.d.f value is Not-a-Number (-nan), forcing value to zero @ !refCoefNorm=(), !pdfs=(Combined Signal = 0.00394963/1,Exponential Background = inf/-nan), !coefficients=(combined_signal_norm = 113853,exp_Norm = 113836)\n",
            "     getLogVal() top-level p.d.f evaluates to zero @ !refCoefNorm=(), !pdfs=(Combined Signal = 0.00394963/1,Exponential Background = inf/-nan), !coefficients=(combined_signal_norm = 113853,exp_Norm = 113836)\n",
            "     p.d.f value is Not-a-Number (-nan), forcing value to zero @ !refCoefNorm=(), !pdfs=(Combined Signal = 0.0012386/1,Exponential Background = inf/-nan), !coefficients=(combined_signal_norm = 113853,exp_Norm = 113836)\n",
            "     getLogVal() top-level p.d.f evaluates to zero @ !refCoefNorm=(), !pdfs=(Combined Signal = 0.0012386/1,Exponential Background = inf/-nan), !coefficients=(combined_signal_norm = 113853,exp_Norm = 113836)\n",
            "     p.d.f value is Not-a-Number (-nan), forcing value to zero @ !refCoefNorm=(), !pdfs=(Combined Signal = 0.00949066/1,Exponential Background = inf/-nan), !coefficients=(combined_signal_norm = 113853,exp_Norm = 113836)\n",
            "     getLogVal() top-level p.d.f evaluates to zero @ !refCoefNorm=(), !pdfs=(Combined Signal = 0.00949066/1,Exponential Background = inf/-nan), !coefficients=(combined_signal_norm = 113853,exp_Norm = 113836)\n",
            "     p.d.f value is Not-a-Number (-nan), forcing value to zero @ !refCoefNorm=(), !pdfs=(Combined Signal = 6.99179e-11/1,Exponential Background = inf/-nan), !coefficients=(combined_signal_norm = 113853,exp_Norm = 113836)\n",
            "     getLogVal() top-level p.d.f evaluates to zero @ !refCoefNorm=(), !pdfs=(Combined Signal = 6.99179e-11/1,Exponential Background = inf/-nan), !coefficients=(combined_signal_norm = 113853,exp_Norm = 113836)\n",
            "     p.d.f value is Not-a-Number (-nan), forcing value to zero @ !refCoefNorm=(), !pdfs=(Combined Signal = 0.00993728/1,Exponential Background = inf/-nan), !coefficients=(combined_signal_norm = 113853,exp_Norm = 113836)\n",
            "     getLogVal() top-level p.d.f evaluates to zero @ !refCoefNorm=(), !pdfs=(Combined Signal = 0.00993728/1,Exponential Background = inf/-nan), !coefficients=(combined_signal_norm = 113853,exp_Norm = 113836)\n",
            "     p.d.f value is Not-a-Number (-nan), forcing value to zero @ !refCoefNorm=(), !pdfs=(Combined Signal = 5.61544e-12/1,Exponential Background = inf/-nan), !coefficients=(combined_signal_norm = 113853,exp_Norm = 113836)\n",
            "     getLogVal() top-level p.d.f evaluates to zero @ !refCoefNorm=(), !pdfs=(Combined Signal = 5.61544e-12/1,Exponential Background = inf/-nan), !coefficients=(combined_signal_norm = 113853,exp_Norm = 113836)\n",
            "    ... (remaining 2038 messages suppressed)\n",
            "\n",
            " MIGRAD FAILS TO FIND IMPROVEMENT\n",
            " MIGRAD TERMINATED WITHOUT CONVERGENCE.\n",
            " FCN=2007.77 FROM MIGRAD    STATUS=FAILED        666 CALLS         667 TOTAL\n",
            "                     EDM=1.1321e+14    STRATEGY= 1  ERROR MATRIX UNCERTAINTY 100.0 per cent\n",
            "  EXT PARAMETER                APPROXIMATE        STEP         FIRST   \n",
            "  NO.   NAME      VALUE            ERROR          SIZE      DERIVATIVE \n",
            "   1  Mean         5.28000e+03   2.72056e-01   0.00000e+00  -5.99146e+03\n",
            "   2  Width        2.00000e+01   1.47389e-01   0.00000e+00  -2.19844e+04\n",
            "   3  cbMean       5.09518e+03   2.72928e-01   0.00000e+00  -2.86092e+03\n",
            "   4  cbWidth      5.00000e+01   4.82706e-01   0.00000e+00  -7.66644e+03\n",
            "   5  cbn          5.00000e+00   9.40793e+00  -0.00000e+00   0.00000e+00\n",
            "   6  cbo          1.00000e+01   8.41471e+00  -0.00000e+00   0.00000e+00\n",
            "   7  combined norm   5.00000e-01   3.56803e-03   0.00000e+00  -5.31502e+03\n",
            "   8  combined_signal_norm   1.14006e+05   4.50214e+02  -0.00000e+00   8.32149e+05\n",
            "   9  exp_Norm     1.14006e+05   4.60685e+02  -0.00000e+00   7.17264e+05\n",
            "  10  exponent    -2.00000e-02   1.68286e+00   0.00000e+00  -7.52364e+06\n",
            "                               ERR DEF= 0.5\n",
            " EXTERNAL ERROR MATRIX.    NDIM=  25    NPAR= 10    ERR DEF=0.5\n",
            "  7.402e-02  0.000e+00  0.000e+00  0.000e+00  0.000e+00  0.000e+00  0.000e+00  0.000e+00  0.000e+00  0.000e+00 \n",
            "  0.000e+00  2.172e-02  0.000e+00  0.000e+00  0.000e+00  0.000e+00  0.000e+00  0.000e+00  0.000e+00  0.000e+00 \n",
            "  0.000e+00  0.000e+00  7.449e-02  0.000e+00  0.000e+00  0.000e+00  0.000e+00  0.000e+00  0.000e+00  0.000e+00 \n",
            "  0.000e+00  0.000e+00  0.000e+00  2.330e-01  0.000e+00  0.000e+00  0.000e+00  0.000e+00  0.000e+00  0.000e+00 \n",
            "  0.000e+00  0.000e+00  0.000e+00  0.000e+00  1.250e+02  0.000e+00  0.000e+00  0.000e+00  0.000e+00  0.000e+00 \n",
            "  0.000e+00  0.000e+00  0.000e+00  0.000e+00  0.000e+00  1.000e+02  0.000e+00  0.000e+00  0.000e+00  0.000e+00 \n",
            "  0.000e+00  0.000e+00  0.000e+00  0.000e+00  0.000e+00  0.000e+00  1.273e-05  0.000e+00  0.000e+00  0.000e+00 \n",
            "  0.000e+00  0.000e+00  0.000e+00  0.000e+00  0.000e+00  0.000e+00  0.000e+00  2.027e+05  0.000e+00  0.000e+00 \n",
            "  0.000e+00  0.000e+00  0.000e+00  0.000e+00  0.000e+00  0.000e+00  0.000e+00  0.000e+00  2.122e+05  0.000e+00 \n",
            "  0.000e+00  0.000e+00  0.000e+00  0.000e+00  0.000e+00  0.000e+00  0.000e+00  0.000e+00  0.000e+00  4.000e+00 \n",
            "ERR MATRIX APPROXIMATE\n",
            " PARAMETER  CORRELATION COEFFICIENTS  \n",
            "       NO.  GLOBAL      1      2      3      4      5      6      7      8      9     10\n",
            "        1  0.00000   1.000  0.000  0.000  0.000  0.000  0.000  0.000  0.000  0.000  0.000\n",
            "        2  0.00000   0.000  1.000  0.000  0.000  0.000  0.000  0.000  0.000  0.000  0.000\n",
            "        3  0.00000   0.000  0.000  1.000  0.000  0.000  0.000  0.000  0.000  0.000  0.000\n",
            "        4  0.00000   0.000  0.000  0.000  1.000  0.000  0.000  0.000  0.000  0.000  0.000\n",
            "        5  0.00000   0.000  0.000  0.000  0.000  1.000  0.000  0.000  0.000  0.000  0.000\n",
            "        6  0.00000   0.000  0.000  0.000  0.000  0.000  1.000  0.000  0.000  0.000  0.000\n",
            "        7  0.00000   0.000  0.000  0.000  0.000  0.000  0.000  1.000  0.000  0.000  0.000\n",
            "        8  0.00000   0.000  0.000  0.000  0.000  0.000  0.000  0.000  1.000  0.000  0.000\n",
            "        9  0.00000   0.000  0.000  0.000  0.000  0.000  0.000  0.000  0.000  1.000  0.000\n",
            "       10  0.00000   0.000  0.000  0.000  0.000  0.000  0.000  0.000  0.000  0.000  1.000\n",
            " ERR MATRIX APPROXIMATE\n",
            " **********\n",
            " **    7 **SET ERR         0.5\n",
            " **********\n",
            " **********\n",
            " **    8 **SET PRINT           1\n",
            " **********\n",
            " **********\n",
            " **    9 **HESSE        5000\n",
            " **********\n",
            " MINUIT WARNING IN HESSE\n",
            " ============== Second derivative zero for parameter5\n",
            "  MNHESS FAILS AND WILL RETURN DIAGONAL MATRIX. \n",
            " FCN=2007.77 FROM HESSE     STATUS=FAILED         11 CALLS         678 TOTAL\n",
            "                     EDM=1.1321e+14    STRATEGY= 1  ERROR MATRIX UNCERTAINTY 100.0 per cent\n",
            "  EXT PARAMETER                APPROXIMATE     INTERNAL      INTERNAL  \n",
            "  NO.   NAME      VALUE            ERROR       STEP SIZE       VALUE   \n",
            "   1  Mean         5.28000e+03   2.72056e-01   2.25006e-04  -5.89031e-01\n",
            "   2  Width        2.00000e+01   1.47389e-01   2.28052e-04   0.00000e+00\n",
            "   3  cbMean       5.09518e+03   2.72928e-01   3.94141e-04   1.12787e+00\n",
            "   4  cbWidth      5.00000e+01   4.82706e-01   2.98755e-04   0.00000e+00\n",
            "   5  cbn          8.64034e-01   9.40793e+00  -0.00000e+00  -7.29728e-01\n",
            "   6  cbo          1.00000e+01   8.41471e+00  -0.00000e+00  -6.43501e-01\n",
            "   7  combined norm   5.00000e-01   3.56803e-03   0.00000e+00   0.00000e+00\n",
            "   8  combined_signal_norm   1.14006e+05   4.50214e+02  -0.00000e+00  -1.35959e+00\n",
            "   9  exp_Norm     1.14006e+05   4.60685e+02  -0.00000e+00  -1.31188e+00\n",
            "  10  exponent    -2.00000e-02   1.68286e+00   0.00000e+00  -1.00002e-02\n",
            "                               ERR DEF= 0.5\n",
            " EXTERNAL ERROR MATRIX.    NDIM=  25    NPAR= 10    ERR DEF=0.5\n",
            "  7.402e-02  0.000e+00  0.000e+00  0.000e+00  0.000e+00  0.000e+00  0.000e+00  0.000e+00  0.000e+00  0.000e+00 \n",
            "  0.000e+00  2.172e-02  0.000e+00  0.000e+00  0.000e+00  0.000e+00  0.000e+00  0.000e+00  0.000e+00  0.000e+00 \n",
            "  0.000e+00  0.000e+00  7.449e-02  0.000e+00  0.000e+00  0.000e+00  0.000e+00  0.000e+00  0.000e+00  0.000e+00 \n",
            "  0.000e+00  0.000e+00  0.000e+00  2.330e-01  0.000e+00  0.000e+00  0.000e+00  0.000e+00  0.000e+00  0.000e+00 \n",
            "  0.000e+00  0.000e+00  0.000e+00  0.000e+00  1.250e+02  0.000e+00  0.000e+00  0.000e+00  0.000e+00  0.000e+00 \n",
            "  0.000e+00  0.000e+00  0.000e+00  0.000e+00  0.000e+00  1.000e+02  0.000e+00  0.000e+00  0.000e+00  0.000e+00 \n",
            "  0.000e+00  0.000e+00  0.000e+00  0.000e+00  0.000e+00  0.000e+00  1.273e-05  0.000e+00  0.000e+00  0.000e+00 \n",
            "  0.000e+00  0.000e+00  0.000e+00  0.000e+00  0.000e+00  0.000e+00  0.000e+00  2.027e+05  0.000e+00  0.000e+00 \n",
            "  0.000e+00  0.000e+00  0.000e+00  0.000e+00  0.000e+00  0.000e+00  0.000e+00  0.000e+00  2.122e+05  0.000e+00 \n",
            "  0.000e+00  0.000e+00  0.000e+00  0.000e+00  0.000e+00  0.000e+00  0.000e+00  0.000e+00  0.000e+00  4.000e+00 \n",
            "ERR MATRIX APPROXIMATE\n",
            " PARAMETER  CORRELATION COEFFICIENTS  \n",
            "       NO.  GLOBAL      1      2      3      4      5      6      7      8      9     10\n",
            "        1  0.00000   1.000  0.000  0.000  0.000  0.000  0.000  0.000  0.000  0.000  0.000\n",
            "        2  0.00000   0.000  1.000  0.000  0.000  0.000  0.000  0.000  0.000  0.000  0.000\n",
            "        3  0.00000   0.000  0.000  1.000  0.000  0.000  0.000  0.000  0.000  0.000  0.000\n",
            "        4  0.00000   0.000  0.000  0.000  1.000  0.000  0.000  0.000  0.000  0.000  0.000\n",
            "        5  0.00000   0.000  0.000  0.000  0.000  1.000  0.000  0.000  0.000  0.000  0.000\n",
            "        6  0.00000   0.000  0.000  0.000  0.000  0.000  1.000  0.000  0.000  0.000  0.000\n",
            "        7  0.00000   0.000  0.000  0.000  0.000  0.000  0.000  1.000  0.000  0.000  0.000\n",
            "        8  0.00000   0.000  0.000  0.000  0.000  0.000  0.000  0.000  1.000  0.000  0.000\n",
            "        9  0.00000   0.000  0.000  0.000  0.000  0.000  0.000  0.000  0.000  1.000  0.000\n",
            "       10  0.00000   0.000  0.000  0.000  0.000  0.000  0.000  0.000  0.000  0.000  1.000\n",
            " ERR MATRIX APPROXIMATE\n",
            "[#1] INFO:Minization -- RooMinimizer::optimizeConst: deactivating const optimization\n"
          ],
          "name": "stdout"
        }
      ]
    },
    {
      "cell_type": "code",
      "metadata": {
        "colab": {
          "base_uri": "https://localhost:8080/",
          "height": 616
        },
        "id": "ou40rou7nIsP",
        "outputId": "962568b7-4945-4cec-b659-e38d8a5996b0"
      },
      "source": [
        "#Now to plot it all\r\n",
        "c1=ROOT.TCanvas(\"c1\",\"c1\")\r\n",
        "c1.Draw()\r\n",
        "frame=mass.frame()\r\n",
        "data_to_fit.plotOn(frame)\r\n",
        "model.plotOn(frame, ROOT.RooFit.Components(\"Gaussian Signal\"),ROOT.RooFit.LineColor(8),ROOT.RooFit.LineStyle(2))\r\n",
        "model.plotOn(frame, ROOT.RooFit.Components(\"Exponential Background\"),ROOT.RooFit.LineColor(46),ROOT.RooFit.LineStyle(2))\r\n",
        "model.plotOn(frame, ROOT.RooFit.Components(\"Crystal Ball\"),ROOT.RooFit.LineColor(30),ROOT.RooFit.LineStyle(2))\r\n",
        "model.plotOn(frame)\r\n",
        "frame.Draw()\r\n",
        "c1.Update()"
      ],
      "execution_count": 67,
      "outputs": [
        {
          "output_type": "stream",
          "text": [
            "[#1] INFO:Plotting -- RooAbsPdf::plotOn(Full Model) directly selected PDF components: (Gaussian Signal)\n",
            "[#1] INFO:Plotting -- RooAbsPdf::plotOn(Full Model) indirectly selected PDF components: (Combined Signal)\n",
            "[#1] INFO:Plotting -- RooAbsPdf::plotOn(Full Model) directly selected PDF components: (Exponential Background)\n",
            "[#1] INFO:Plotting -- RooAbsPdf::plotOn(Full Model) indirectly selected PDF components: ()\n",
            "[#1] INFO:Plotting -- RooAbsPdf::plotOn(Full Model) directly selected PDF components: (Crystal Ball)\n",
            "[#1] INFO:Plotting -- RooAbsPdf::plotOn(Full Model) indirectly selected PDF components: (Combined Signal)\n"
          ],
          "name": "stdout"
        },
        {
          "output_type": "stream",
          "text": [
            "Warning in <TCanvas::Constructor>: Deleting canvas with same name: c1\n"
          ],
          "name": "stderr"
        },
        {
          "output_type": "display_data",
          "data": {
            "image/png": "[encoded data removed]",
            "text/plain": [
              "<IPython.core.display.Image object>"
            ]
          },
          "metadata": {
            "tags": []
          }
        }
      ]
    },
    {
      "cell_type": "markdown",
      "metadata": {
        "id": "oB0yng-23qvs"
      },
      "source": [
        "**see optimized version below (by taking out exponential). The goal was to try and model the second signal on the left too.**"
      ]
    },
    {
      "cell_type": "markdown",
      "metadata": {
        "id": "3TH6Cv9vwlGc"
      },
      "source": [
        "**Gaussian Signal over Background from Crystal Ball Signal**"
      ]
    },
    {
      "cell_type": "code",
      "metadata": {
        "id": "x1j1aMEq3QUK"
      },
      "source": [
        "#mean, width, 3 more between minus one and one\r\n",
        "#define physical measurment that we want to fit using RooRealVar\r\n",
        "# var = ROOT.RooRealVar =(\"Variable from Python\", \"Nickname\",Min, Max, Units)\r\n",
        "mass = ROOT.RooRealVar(\"M_m0\",\"Mass\",5000,5500,\"MeV/C^{2}\")\r\n",
        "\r\n",
        "#passing the rest of the variables into the model\r\n",
        "#For the RooRealVar the last three parameters are given, \"starting value\" and min/max values\r\n",
        "gaussMean = ROOT.RooRealVar(\"Mean\",\"Mean\",5250,5200,5300) #adjust where peak is\r\n",
        "gaussWidth = ROOT.RooRealVar(\"Width\",\"Width\",20,0,40) #adjust how narrow peal is\r\n",
        "\r\n",
        "#Now we have enough to make our Model for the signal:\r\n",
        "\r\n",
        "Gauss=ROOT.RooGaussian(\"Gaussian Signal\",\"Gauss\",mass,gaussMean,gaussWidth)\r\n",
        "Gauss_Norm= ROOT.RooRealVar(\"Gauss_Norm\",\"Signal Yield\", tree.GetEntries()/30, 0, tree.GetEntries() * 3)\r\n",
        "#We also need a background, so let's use a (simple) exponential:\r\n",
        "\r\n",
        "exponent=ROOT.RooRealVar(\"exponent\", \"C\", -0.02, -2, +2)\r\n",
        "exp_Norm= ROOT.RooRealVar(\"exp_Norm\",\"Background Yield\", tree.GetEntries()/30, 0, tree.GetEntries() * 2)\r\n",
        "\r\n",
        "#Define the  model for the background:\r\n",
        "\r\n",
        "Bkgnd=ROOT.RooExponential(\"Exponential Background\",\"Bkgnd\",mass,exponent)\r\n",
        "\r\n",
        "#Crystal Ball Model\r\n",
        "cbMean=ROOT.RooRealVar(\"cbMean\",\"cbMean\",5080,5000,5100)\r\n",
        "cbWidth=ROOT.RooRealVar(\"cbWidth\",\"cbWidth\",100,0,200)\r\n",
        "cbo=ROOT.RooRealVar(\"cbo\",\"cbo\", 10, 5, 30)\r\n",
        "cbn=ROOT.RooRealVar(\"cbn\",\"cbn\", 5, 0, 30)\r\n",
        "cba=ROOT.RooRealVar(\"cba\",\"cba\", 2, 0, 10)\r\n",
        "CB=ROOT.RooCBShape(\"Crystal Ball\", \"CB\", mass, cbMean, cbWidth, cbo, cbn)\r\n",
        "CB_Norm=ROOT.RooRealVar(\"CB_Norm\",\"Crystal Ball Norm\", tree.GetEntries()/30, 0, tree.GetEntries() * 3)\r\n",
        "\r\n",
        "#making signal function from gauss and CB\r\n",
        "combine_norm=ROOT.RooRealVar(\"combined norm\", \"combined_norm\", 0.5, 0, 1)\r\n",
        "combined_signal=ROOT.RooAddPdf(\"Combined Signal\", \"combined_signal\", Gauss, CB, combine_norm)\r\n",
        "combined_signal_norm=ROOT.RooRealVar(\"combined_signal_norm\",\"combined signal norm\", tree.GetEntries()/30, 0, tree.GetEntries() * 3)\r\n",
        "\r\n",
        "#Now we need to combine these two functions into a single PDF (probability density function)\r\n",
        "#and we need to add the normalisation factors at the end as scaling factors\r\n",
        "\r\n",
        "model=ROOT.RooAddPdf(\"Full Model\",\"model\",ROOT.RooArgList(Gauss, CB),ROOT.RooArgList(Gauss_Norm, CB_Norm) )"
      ],
      "execution_count": 70,
      "outputs": []
    },
    {
      "cell_type": "code",
      "metadata": {
        "colab": {
          "base_uri": "https://localhost:8080/"
        },
        "id": "G3Uj9AZV3QeU",
        "outputId": "cdf2d1dc-6f3d-4307-83b3-4d0b923a8992"
      },
      "source": [
        "#Put our data set into a RooDataSet structure\r\n",
        "\r\n",
        "data_to_fit=ROOT.RooDataSet(\"Data Set\",\"data_to_fit\", CutTree, ROOT.RooArgSet(mass))\r\n",
        "\r\n",
        "#Then we can do the fitting:\r\n",
        "\r\n",
        "model.fitTo(data_to_fit)\r\n",
        "\r\n",
        "#if everything went well, you will see the outputs of RooFit below"
      ],
      "execution_count": 71,
      "outputs": [
        {
          "output_type": "execute_result",
          "data": {
            "text/plain": [
              "<ROOT.RooFitResult object at 0x(nil)>"
            ]
          },
          "metadata": {
            "tags": []
          },
          "execution_count": 71
        },
        {
          "output_type": "stream",
          "text": [
            "[#1] INFO:Eval -- RooAbsReal::attachToTree(M_m0) TTree Float_t branch M_m0 will be converted to double precision\n",
            "[#1] INFO:Eval -- RooTreeDataStore::loadValues(Data Set) Ignored 52072 out of range events\n",
            "[#1] INFO:Minization -- p.d.f. provides expected number of events, including extended term in likelihood.\n",
            "[#1] INFO:Minization -- RooMinimizer::optimizeConst: activating const optimization\n",
            "[#1] INFO:Minization --  The following expressions will be evaluated in cache-and-track mode: (Gaussian Signal,Crystal Ball)\n",
            " **********\n",
            " **    1 **SET PRINT           1\n",
            " **********\n",
            " **********\n",
            " **    2 **SET NOGRAD\n",
            " **********\n",
            " PARAMETER DEFINITIONS:\n",
            "    NO.   NAME         VALUE      STEP SIZE      LIMITS\n",
            "     1 CB_Norm      1.14006e+05  5.70030e+04    0.00000e+00  1.02606e+07\n",
            " MINUIT WARNING IN PARAM DEF\n",
            " ============== LIMITS ON PARAM1 TOO FAR APART.\n",
            " PARAMETER DEFINITIONS:\n",
            "    NO.   NAME         VALUE      STEP SIZE      LIMITS\n",
            "     2 Gauss_Norm   1.14006e+05  5.70030e+04    0.00000e+00  1.02606e+07\n",
            " MINUIT WARNING IN PARAM DEF\n",
            " ============== LIMITS ON PARAM2 TOO FAR APART.\n",
            " PARAMETER DEFINITIONS:\n",
            "    NO.   NAME         VALUE      STEP SIZE      LIMITS\n",
            "     3 Mean         5.25000e+03  1.00000e+01    5.20000e+03  5.30000e+03\n",
            "     4 Width        2.00000e+01  4.00000e+00    0.00000e+00  4.00000e+01\n",
            "     5 cbMean       5.08000e+03  1.00000e+01    5.00000e+03  5.10000e+03\n",
            "     6 cbWidth      1.00000e+02  2.00000e+01    0.00000e+00  2.00000e+02\n",
            "     7 cbn          5.00000e+00  2.50000e+00    0.00000e+00  3.00000e+01\n",
            "     8 cbo          1.00000e+01  2.50000e+00    5.00000e+00  3.00000e+01\n",
            " **********\n",
            " **    3 **SET ERR         0.5\n",
            " **********\n",
            " **********\n",
            " **    4 **SET PRINT           1\n",
            " **********\n",
            " **********\n",
            " **    5 **SET STR           1\n",
            " **********\n",
            " NOW USING STRATEGY  1: TRY TO BALANCE SPEED AGAINST RELIABILITY\n",
            " **********\n",
            " **    6 **MIGRAD        4000           1\n",
            " **********\n",
            " FIRST CALL TO USER FUNCTION AT NEW START POINT, WITH IFLAG=4.\n",
            " START MIGRAD MINIMIZATION.  STRATEGY  1.  CONVERGENCE WHEN EDM .LT. 1.00e-03\n",
            " FCN=-7259.08 FROM MIGRAD    STATUS=INITIATE      436 CALLS         437 TOTAL\n",
            "                     EDM= unknown      STRATEGY= 1      NO ERROR MATRIX       \n",
            "  EXT PARAMETER               CURRENT GUESS       STEP         FIRST   \n",
            "  NO.   NAME      VALUE            ERROR          SIZE      DERIVATIVE \n",
            "   1  CB_Norm      1.14006e+05   5.70030e+04   0.00000e+00   7.58779e+05\n",
            "   2  Gauss_Norm   1.14006e+05   5.70030e+04   0.00000e+00   9.54313e+05\n",
            "   3  Mean         5.25000e+03   1.00000e+01   0.00000e+00  -2.26573e+04\n",
            "   4  Width        2.00000e+01   4.00000e+00   0.00000e+00  -1.97107e+04\n",
            "   5  cbMean       5.08000e+03   1.00000e+01   0.00000e+00  -1.29687e+04\n",
            "   6  cbWidth      1.00000e+02   2.00000e+01   0.00000e+00  -1.13602e+05\n",
            "   7  cbn          6.11773e+00   2.50000e+00   0.00000e+00   0.00000e+00\n",
            "   8  cbo          1.00000e+01   2.50000e+00   0.00000e+00   0.00000e+00\n",
            "                               ERR DEF= 0.5\n",
            " MIGRAD MINIMIZATION HAS CONVERGED.\n",
            " FCN=-165226 FROM MIGRAD    STATUS=CONVERGED     847 CALLS         848 TOTAL\n",
            "                     EDM=1.40079e-06    STRATEGY= 1  ERROR MATRIX UNCERTAINTY   0.0 per cent\n",
            "  EXT PARAMETER                                   STEP         FIRST   \n",
            "  NO.   NAME      VALUE            ERROR          SIZE      DERIVATIVE \n",
            "   1  CB_Norm      4.00743e+04   2.30649e+02  -4.19992e-06  -5.33463e-01\n",
            "   2  Gauss_Norm   6.35066e+03   1.30708e+02  -2.63529e-06  -2.16978e+00\n",
            "   3  Mean         5.28385e+03   4.12364e-01   1.53754e-04   1.07584e-02\n",
            "   4  Width        1.90170e+01   4.25560e-01   6.41293e-05  -2.26065e-02\n",
            "   5  cbMean       5.10000e+03   1.81034e-02   1.42683e-04** at limit **\n",
            "   6  cbWidth      2.00000e+02   9.61643e-03  -1.02300e-04** at limit **\n",
            "   7  cbn          6.11773e+00   1.01712e+01  -0.00000e+00   0.00000e+00\n",
            "   8  cbo          1.00000e+01   8.41471e+00  -0.00000e+00   0.00000e+00\n",
            "                               ERR DEF= 0.5\n",
            " EXTERNAL ERROR MATRIX.    NDIM=  25    NPAR=  8    ERR DEF=0.5\n",
            "  5.320e+04 -1.207e+04 -4.541e+00  2.630e+01  3.440e-04 -9.818e-05  0.000e+00  0.000e+00 \n",
            " -1.207e+04  1.708e+04  1.827e+00 -2.659e+01 -7.391e-05  6.302e-05  0.000e+00  0.000e+00 \n",
            " -4.541e+00  1.827e+00  1.701e-01 -7.786e-03 -4.849e-08  5.843e-08  0.000e+00  0.000e+00 \n",
            "  2.630e+01 -2.659e+01 -7.786e-03  1.811e-01 -4.570e-08  1.268e-08  0.000e+00  0.000e+00 \n",
            "  3.440e-04 -7.391e-05 -4.849e-08 -4.570e-08  1.440e-09 -1.383e-11  0.000e+00  0.000e+00 \n",
            " -9.818e-05  6.302e-05  5.843e-08  1.268e-08 -1.383e-11  1.621e-10  0.000e+00  0.000e+00 \n",
            "  0.000e+00  0.000e+00  0.000e+00  0.000e+00  0.000e+00  0.000e+00  1.461e+02  0.000e+00 \n",
            "  0.000e+00  0.000e+00  0.000e+00  0.000e+00  0.000e+00  0.000e+00  0.000e+00  1.000e+02 \n",
            " PARAMETER  CORRELATION COEFFICIENTS  \n",
            "       NO.  GLOBAL      1      2      3      4      5      6      7      8\n",
            "        1  0.41277   1.000 -0.400 -0.048  0.268  0.039 -0.033  0.000  0.000\n",
            "        2  0.55611  -0.400  1.000  0.034 -0.478 -0.015  0.038  0.000  0.000\n",
            "        3  0.05882  -0.048  0.034  1.000 -0.044 -0.003  0.011  0.000  0.000\n",
            "        4  0.48663   0.268 -0.478 -0.044  1.000 -0.003  0.002  0.000  0.000\n",
            "        5  0.04997   0.039 -0.015 -0.003 -0.003  1.000 -0.029  0.000  0.000\n",
            "        6  0.05740  -0.033  0.038  0.011  0.002 -0.029  1.000  0.000  0.000\n",
            "        7  0.00000   0.000  0.000  0.000  0.000  0.000  0.000  1.000  0.000\n",
            "        8  0.00000   0.000  0.000  0.000  0.000  0.000  0.000  0.000  1.000\n",
            " **********\n",
            " **    7 **SET ERR         0.5\n",
            " **********\n",
            " **********\n",
            " **    8 **SET PRINT           1\n",
            " **********\n",
            " **********\n",
            " **    9 **HESSE        4000\n",
            " **********\n",
            " MINUIT WARNING IN HESSE\n",
            " ============== Second derivative enters zero, param 7\n",
            " MINUIT WARNING IN HESSE\n",
            " ============== Second derivative zero for parameter7\n",
            "  MNHESS FAILS AND WILL RETURN DIAGONAL MATRIX. \n",
            " FCN=-165226 FROM HESSE     STATUS=FAILED         15 CALLS         863 TOTAL\n",
            "                     EDM=1.40079e-06    STRATEGY= 1  ERROR MATRIX UNCERTAINTY 100.0 per cent\n",
            "  EXT PARAMETER                APPROXIMATE     INTERNAL      INTERNAL  \n",
            "  NO.   NAME      VALUE            ERROR       STEP SIZE       VALUE   \n",
            "   1  CB_Norm      4.00743e+04   2.08290e+02   9.13551e-05  -1.44572e+00\n",
            "   2  Gauss_Norm   6.35066e+03   1.10674e+02   1.21733e-04  -1.52103e+00\n",
            "   3  Mean         5.28385e+03   4.17363e-01   3.18463e-03   2.39781e+00\n",
            "   4  Width        1.90170e+01   3.71398e-01   5.21962e-03   3.19076e+00\n",
            "   5  cbMean       5.10000e+03   1.70489e-02   7.33032e-03   1.57082e+00\n",
            "                                 WARNING -   - ABOVE PARAMETER IS AT LIMIT.\n",
            "   6  cbWidth      2.00000e+02   9.41794e-03   3.85236e-03   1.57079e+00\n",
            "                                 WARNING -   - ABOVE PARAMETER IS AT LIMIT.\n",
            "   7  cbn          1.41007e+00   1.54664e+01  -0.00000e+00  -6.33726e-01\n",
            "   8  cbo          1.00000e+01   8.41471e+00  -0.00000e+00  -6.43501e-01\n",
            "                               ERR DEF= 0.5\n",
            " EXTERNAL ERROR MATRIX.    NDIM=  25    NPAR=  8    ERR DEF=0.5\n",
            "  4.338e+04  0.000e+00  0.000e+00  0.000e+00  0.000e+00  0.000e+00  0.000e+00  0.000e+00 \n",
            "  0.000e+00  1.225e+04  0.000e+00  0.000e+00  0.000e+00  0.000e+00  0.000e+00  0.000e+00 \n",
            "  0.000e+00  0.000e+00  1.742e-01  0.000e+00  0.000e+00  0.000e+00  0.000e+00  0.000e+00 \n",
            "  0.000e+00  0.000e+00  0.000e+00  1.380e-01  0.000e+00  0.000e+00  0.000e+00  0.000e+00 \n",
            "  0.000e+00  0.000e+00  0.000e+00  0.000e+00  1.356e-09  0.000e+00  0.000e+00  0.000e+00 \n",
            "  0.000e+00  0.000e+00  0.000e+00  0.000e+00  0.000e+00  1.588e-10  0.000e+00  0.000e+00 \n",
            "  0.000e+00  0.000e+00  0.000e+00  0.000e+00  0.000e+00  0.000e+00  2.069e+02  0.000e+00 \n",
            "  0.000e+00  0.000e+00  0.000e+00  0.000e+00  0.000e+00  0.000e+00  0.000e+00  1.000e+02 \n",
            "ERR MATRIX APPROXIMATE\n",
            " PARAMETER  CORRELATION COEFFICIENTS  \n",
            "       NO.  GLOBAL      1      2      3      4      5      6      7      8\n",
            "        1  0.00000   1.000  0.000  0.000  0.000  0.000  0.000  0.000  0.000\n",
            "        2  0.00000   0.000  1.000  0.000  0.000  0.000  0.000  0.000  0.000\n",
            "        3  0.00000   0.000  0.000  1.000  0.000  0.000  0.000  0.000  0.000\n",
            "        4  0.00000   0.000  0.000  0.000  1.000  0.000  0.000  0.000  0.000\n",
            "        5  0.00000   0.000  0.000  0.000  0.000  1.000  0.000  0.000  0.000\n",
            "        6  0.00000   0.000  0.000  0.000  0.000  0.000  1.000  0.000  0.000\n",
            "        7  0.00000   0.000  0.000  0.000  0.000  0.000  0.000  1.000  0.000\n",
            "        8  0.00000   0.000  0.000  0.000  0.000  0.000  0.000  0.000  1.000\n",
            " ERR MATRIX APPROXIMATE\n",
            "[#1] INFO:Minization -- RooMinimizer::optimizeConst: deactivating const optimization\n"
          ],
          "name": "stdout"
        }
      ]
    },
    {
      "cell_type": "code",
      "metadata": {
        "colab": {
          "base_uri": "https://localhost:8080/",
          "height": 618
        },
        "id": "SWexjuYE3QmB",
        "outputId": "d45ae6d6-c304-4ec0-b761-10dec63a4b5c"
      },
      "source": [
        "#Now to plot it all\r\n",
        "c1=ROOT.TCanvas(\"c1\",\"c1\")\r\n",
        "c1.Draw()\r\n",
        "frame=mass.frame()\r\n",
        "data_to_fit.plotOn(frame)\r\n",
        "model.plotOn(frame, ROOT.RooFit.Components(\"Gaussian Signal\"),ROOT.RooFit.LineColor(8),ROOT.RooFit.LineStyle(2))\r\n",
        "model.plotOn(frame, ROOT.RooFit.Components(\"Exponential Background\"),ROOT.RooFit.LineColor(46),ROOT.RooFit.LineStyle(2))\r\n",
        "model.plotOn(frame, ROOT.RooFit.Components(\"Crystal Ball\"),ROOT.RooFit.LineColor(30),ROOT.RooFit.LineStyle(2))\r\n",
        "model.plotOn(frame)\r\n",
        "frame.Draw()\r\n",
        "c1.Update()"
      ],
      "execution_count": 72,
      "outputs": [
        {
          "output_type": "stream",
          "text": [
            "[#1] INFO:Plotting -- RooAbsPdf::plotOn(Full Model) directly selected PDF components: (Gaussian Signal)\n",
            "[#1] INFO:Plotting -- RooAbsPdf::plotOn(Full Model) indirectly selected PDF components: ()\n",
            "[#0] ERROR:Plotting -- RooAbsPdf::plotOn(Full Model) ERROR: component selection expression 'Exponential Background' does not select any components of p.d.f.\n",
            "[#1] INFO:Plotting -- RooAbsPdf::plotOn(Full Model) directly selected PDF components: (Crystal Ball)\n",
            "[#1] INFO:Plotting -- RooAbsPdf::plotOn(Full Model) indirectly selected PDF components: ()\n"
          ],
          "name": "stdout"
        },
        {
          "output_type": "stream",
          "text": [
            "Warning in <TCanvas::Constructor>: Deleting canvas with same name: c1\n"
          ],
          "name": "stderr"
        },
        {
          "output_type": "display_data",
          "data": {
            "image/png": "[encoded data removed]",
            "text/plain": [
              "<IPython.core.display.Image object>"
            ]
          },
          "metadata": {
            "tags": []
          }
        }
      ]
    },
    {
      "cell_type": "markdown",
      "metadata": {
        "id": "ob2HARgWoTGe"
      },
      "source": [
        "#Counting\r\n",
        "\r\n",
        "So we have now loaded our data; we have reconstructed information about the mother B meson and we have cut away any data which looks like it might not be what we are looking for. We have then plotted histograms of the mass of the B meson and used this to fit a model, a function to describe the events there. We now have to identify which of our events belong to the B<sup>+</sup> and how many of them belong to B<sup>-</sup>.\r\n",
        "\r\n",
        "To do this, should split out data into two groups (and throw away data which doesn't comply with either decay)\r\n",
        "\r\n",
        "We will be looking for the events which are\r\n",
        "\r\n",
        "\r\n",
        "B<sup>+</sup>->K<sup>+</sup> + K<sup>+</sup>  + K<sup>-</sup>\r\n",
        "\r\n",
        "or\r\n",
        "\r\n",
        "B<sup>-</sup>->K<sup>-</sup> + K<sup>-</sup>  + K<sup>+</sup>\r\n",
        "\r\n",
        "We can look for the number of positive and negative charges in H1, H2 and H3 (using the variable ```H1_Charge``` etc.). If we have 0 or 3 positive charges, we should throw the event away and if we have 1 it should be assigned be a B<sup>-</sup>, with 2 it should be a B<sup>+</sup>"
      ]
    },
    {
      "cell_type": "code",
      "metadata": {
        "id": "56fgPYvSWqJO"
      },
      "source": [
        "selection_Bp=(\"H1_Charge+H2_Charge+H3_Charge==1\") #setting criteria for which data to keep\r\n",
        "selection_Bm=(\"H1_Charge+H2_Charge+H3_Charge==-1\")\r\n",
        "CutTreeBp=CutTree.CopyTree(selection_Bp) #making new tree by copying only the data that meets the set criteria\r\n",
        "CutTreeBm=CutTree.CopyTree(selection_Bm)"
      ],
      "execution_count": 73,
      "outputs": []
    },
    {
      "cell_type": "markdown",
      "metadata": {
        "id": "9K--9pIWYSJp"
      },
      "source": [
        "**For B-Plus**"
      ]
    },
    {
      "cell_type": "code",
      "metadata": {
        "id": "Ys_4d5SbW_9Y"
      },
      "source": [
        "#define physical measurment that we want to fit using RooRealVar\r\n",
        "# var = ROOT.RooRealVar =(\"Variable from Python\", \"Nickname\",Min, Max, Units)\r\n",
        "mass = ROOT.RooRealVar(\"M_m0\",\"Mass\",5050,5500,\"MeV/C^{2}\")\r\n",
        "\r\n",
        "#passing the rest of the variables into the model\r\n",
        "#For the RooRealVar the last three parameters are given, \"starting value\" and min/max values\r\n",
        "gaussMean = ROOT.RooRealVar(\"Mean\",\"Mean\",5300,5250,5350)\r\n",
        "gaussWidth = ROOT.RooRealVar(\"Width\",\"Width\",20,0,40)\r\n",
        "\r\n",
        "#Now we have enough to make our Model for the signal:\r\n",
        "\r\n",
        "Gauss=ROOT.RooGaussian(\"Gaussian Signal\",\"Gauss\",mass,gaussMean,gaussWidth)\r\n",
        "Gauss_Norm_Bp= ROOT.RooRealVar(\"Gauss_Norm_Bp\",\"Signal Yield\", tree.GetEntries()/30, 0, tree.GetEntries() * 3)\r\n",
        "#We also need a background, so let's use a (simple) exponential:\r\n",
        "\r\n",
        "exponent=ROOT.RooRealVar(\"exponent\", \"C\", -0.02, -2, +2)\r\n",
        "exp_Norm_Bp= ROOT.RooRealVar(\"exp_Norm_Bp\",\"Background Yield\", tree.GetEntries()/30, 0, tree.GetEntries() * 2)\r\n",
        "\r\n",
        "#Define the  model for the background:\r\n",
        "\r\n",
        "Bkgnd=ROOT.RooExponential(\"Exponential Background\",\"Bkgnd\",mass,exponent)\r\n",
        "\r\n",
        "#Now we need to combine these two functions into a single PDF (probability density function)\r\n",
        "#and we need to add the normalisation factors at the end as scaling factors\r\n",
        "\r\n",
        "model=ROOT.RooAddPdf(\"Full Model\",\"model\",ROOT.RooArgList(Gauss,Bkgnd),ROOT.RooArgList(Gauss_Norm_Bp, exp_Norm_Bp) )"
      ],
      "execution_count": 74,
      "outputs": []
    },
    {
      "cell_type": "code",
      "metadata": {
        "colab": {
          "base_uri": "https://localhost:8080/"
        },
        "id": "w7GcjaMkXCnN",
        "outputId": "5698be04-5a46-4db2-e163-93dd3319a352"
      },
      "source": [
        "#Put our data set into a RooDataSet structure\r\n",
        "\r\n",
        "data_to_fit=ROOT.RooDataSet(\"Data Set\",\"data_to_fit\", CutTreeBp, ROOT.RooArgSet(mass))\r\n",
        "\r\n",
        "#Then we can do the fitting:\r\n",
        "\r\n",
        "model.fitTo(data_to_fit)\r\n",
        "\r\n",
        "#if everything went well, you will see the outputs of RooFit below"
      ],
      "execution_count": 75,
      "outputs": [
        {
          "output_type": "execute_result",
          "data": {
            "text/plain": [
              "<ROOT.RooFitResult object at 0x(nil)>"
            ]
          },
          "metadata": {
            "tags": []
          },
          "execution_count": 75
        },
        {
          "output_type": "stream",
          "text": [
            "[#1] INFO:Eval -- RooAbsReal::attachToTree(M_m0) TTree Float_t branch M_m0 will be converted to double precision\n",
            "[#1] INFO:Eval -- RooTreeDataStore::loadValues(Data Set) Ignored 29406 out of range events\n",
            "[#1] INFO:Minization -- p.d.f. provides expected number of events, including extended term in likelihood.\n",
            "[#1] INFO:Minization -- RooMinimizer::optimizeConst: activating const optimization\n",
            "[#1] INFO:Minization --  The following expressions will be evaluated in cache-and-track mode: (Gaussian Signal,Exponential Background)\n",
            " **********\n",
            " **    1 **SET PRINT           1\n",
            " **********\n",
            " **********\n",
            " **    2 **SET NOGRAD\n",
            " **********\n",
            " PARAMETER DEFINITIONS:\n",
            "    NO.   NAME         VALUE      STEP SIZE      LIMITS\n",
            "     1 Gauss_Norm_Bp   1.14006e+05  5.70030e+04    0.00000e+00  1.02606e+07\n",
            " MINUIT WARNING IN PARAM DEF\n",
            " ============== LIMITS ON PARAM1 TOO FAR APART.\n",
            " PARAMETER DEFINITIONS:\n",
            "    NO.   NAME         VALUE      STEP SIZE      LIMITS\n",
            "     2 Mean         5.30000e+03  1.00000e+01    5.25000e+03  5.35000e+03\n",
            "     3 Width        2.00000e+01  4.00000e+00    0.00000e+00  4.00000e+01\n",
            "     4 exp_Norm_Bp   1.14006e+05  5.70030e+04    0.00000e+00  6.84039e+06\n",
            "     5 exponent    -2.00000e-02  4.00000e-01   -2.00000e+00  2.00000e+00\n",
            " **********\n",
            " **    3 **SET ERR         0.5\n",
            " **********\n",
            " **********\n",
            " **    4 **SET PRINT           1\n",
            " **********\n",
            " **********\n",
            " **    5 **SET STR           1\n",
            " **********\n",
            " NOW USING STRATEGY  1: TRY TO BALANCE SPEED AGAINST RELIABILITY\n",
            " **********\n",
            " **    6 **MIGRAD        2500           1\n",
            " **********\n",
            " FIRST CALL TO USER FUNCTION AT NEW START POINT, WITH IFLAG=4.\n",
            " START MIGRAD MINIMIZATION.  STRATEGY  1.  CONVERGENCE WHEN EDM .LT. 1.00e-03\n",
            " FCN=117881 FROM MIGRAD    STATUS=INITIATE       22 CALLS          23 TOTAL\n",
            "                     EDM= unknown      STRATEGY= 1      NO ERROR MATRIX       \n",
            "  EXT PARAMETER               CURRENT GUESS       STEP         FIRST   \n",
            "  NO.   NAME      VALUE            ERROR          SIZE      DERIVATIVE \n",
            "   1  Gauss_Norm_Bp   1.14006e+05   5.70030e+04   5.48559e-02   1.00014e+06\n",
            "   2  Mean         5.30000e+03   1.00000e+01   2.01358e-01   4.24472e+03\n",
            "   3  Width        2.00000e+01   4.00000e+00   2.01358e-01  -1.36300e+04\n",
            "   4  exp_Norm_Bp   1.14006e+05   5.70030e+04   6.73657e-02   7.71009e+05\n",
            "   5  exponent    -2.00000e-02   4.00000e-01   2.01369e-01  -3.47978e+06\n",
            "                               ERR DEF= 0.5\n",
            "[#0] WARNING:Minization -- RooMinimizerFcn: Minimized function has error status.\n",
            "Returning maximum FCN so far (223322) to force MIGRAD to back out of this region. Error log follows\n",
            "Parameter values: Gauss_Norm_Bp=1377.3, Mean=5287.62, Width=39.1948, exp_Norm_Bp=4146.9, exponent=0.183366\n",
            "RooAddPdf::Full Model[ Gauss_Norm_Bp * Gaussian Signal + exp_Norm_Bp * Exponential Background ]\n",
            "     p.d.f value is Not-a-Number (-nan), forcing value to zero @ !refCoefNorm=(), !pdfs=(Gaussian Signal = 6.0773e-08/98.2468,Exponential Background = inf/-nan), !coefficients=(Gauss_Norm_Bp = 1377.3,exp_Norm_Bp = 4146.9)\n",
            "     getLogVal() top-level p.d.f evaluates to zero @ !refCoefNorm=(), !pdfs=(Gaussian Signal = 6.0773e-08/98.2468,Exponential Background = inf/-nan), !coefficients=(Gauss_Norm_Bp = 1377.3,exp_Norm_Bp = 4146.9)\n",
            "     p.d.f value is Not-a-Number (-nan), forcing value to zero @ !refCoefNorm=(), !pdfs=(Gaussian Signal = 0.641238/98.2468,Exponential Background = inf/-nan), !coefficients=(Gauss_Norm_Bp = 1377.3,exp_Norm_Bp = 4146.9)\n",
            "     getLogVal() top-level p.d.f evaluates to zero @ !refCoefNorm=(), !pdfs=(Gaussian Signal = 0.641238/98.2468,Exponential Background = inf/-nan), !coefficients=(Gauss_Norm_Bp = 1377.3,exp_Norm_Bp = 4146.9)\n",
            "     p.d.f value is Not-a-Number (-nan), forcing value to zero @ !refCoefNorm=(), !pdfs=(Gaussian Signal = 0.0335511/98.2468,Exponential Background = inf/-nan), !coefficients=(Gauss_Norm_Bp = 1377.3,exp_Norm_Bp = 4146.9)\n",
            "     getLogVal() top-level p.d.f evaluates to zero @ !refCoefNorm=(), !pdfs=(Gaussian Signal = 0.0335511/98.2468,Exponential Background = inf/-nan), !coefficients=(Gauss_Norm_Bp = 1377.3,exp_Norm_Bp = 4146.9)\n",
            "     p.d.f value is Not-a-Number (-nan), forcing value to zero @ !refCoefNorm=(), !pdfs=(Gaussian Signal = 0.259608/98.2468,Exponential Background = inf/-nan), !coefficients=(Gauss_Norm_Bp = 1377.3,exp_Norm_Bp = 4146.9)\n",
            "     getLogVal() top-level p.d.f evaluates to zero @ !refCoefNorm=(), !pdfs=(Gaussian Signal = 0.259608/98.2468,Exponential Background = inf/-nan), !coefficients=(Gauss_Norm_Bp = 1377.3,exp_Norm_Bp = 4146.9)\n",
            "     p.d.f value is Not-a-Number (-nan), forcing value to zero @ !refCoefNorm=(), !pdfs=(Gaussian Signal = 0.785138/98.2468,Exponential Background = inf/-nan), !coefficients=(Gauss_Norm_Bp = 1377.3,exp_Norm_Bp = 4146.9)\n",
            "     getLogVal() top-level p.d.f evaluates to zero @ !refCoefNorm=(), !pdfs=(Gaussian Signal = 0.785138/98.2468,Exponential Background = inf/-nan), !coefficients=(Gauss_Norm_Bp = 1377.3,exp_Norm_Bp = 4146.9)\n",
            "     p.d.f value is Not-a-Number (-nan), forcing value to zero @ !refCoefNorm=(), !pdfs=(Gaussian Signal = 0.0637389/98.2468,Exponential Background = inf/-nan), !coefficients=(Gauss_Norm_Bp = 1377.3,exp_Norm_Bp = 4146.9)\n",
            "     getLogVal() top-level p.d.f evaluates to zero @ !refCoefNorm=(), !pdfs=(Gaussian Signal = 0.0637389/98.2468,Exponential Background = inf/-nan), !coefficients=(Gauss_Norm_Bp = 1377.3,exp_Norm_Bp = 4146.9)\n",
            "    ... (remaining 2038 messages suppressed)\n",
            "RooNLLVar::nll_Full Model_Data Set[ paramSet=(Gauss_Norm_Bp,Mean,Width,exp_Norm_Bp,exponent) ]\n",
            "     function value is NAN @ paramSet=(Gauss_Norm_Bp = 1377.3,Mean = 5287.62,Width = 39.1948,exp_Norm_Bp = 4146.9,exponent = 0.183366)\n",
            "RooRealIntegral::Exponential Background_Int[M_m0][ Int Exponential Backgroundd[Ana](M_m0) ]\n",
            "     function value is NAN @ !sumList=(), !intList=(), !anaList=(M_m0 = 5180.1), !jacList=(), !facList=(), !func=Exponential Background=inf/2.18809e-44, !sumCat=()\n",
            "\n",
            "[#0] WARNING:Minization -- RooMinimizerFcn: Minimized function has error status.\n",
            "Returning maximum FCN so far (223322) to force MIGRAD to back out of this region. Error log follows\n",
            "Parameter values: Gauss_Norm_Bp=14407.7, Mean=5252.41, Width=0.146282, exp_Norm_Bp=9646.31, exponent=0.256038\n",
            "RooAddPdf::Full Model[ Gauss_Norm_Bp * Gaussian Signal + exp_Norm_Bp * Exponential Background ]\n",
            "     p.d.f value is Not-a-Number (-nan), forcing value to zero @ !refCoefNorm=(), !pdfs=(Gaussian Signal = 0/0.366674,Exponential Background = inf/-nan), !coefficients=(Gauss_Norm_Bp = 14407.7,exp_Norm_Bp = 9646.31)\n",
            "     getLogVal() top-level p.d.f evaluates to zero @ !refCoefNorm=(), !pdfs=(Gaussian Signal = 0/0.366674,Exponential Background = inf/-nan), !coefficients=(Gauss_Norm_Bp = 14407.7,exp_Norm_Bp = 9646.31)\n",
            "     p.d.f value is Not-a-Number (-nan), forcing value to zero @ !refCoefNorm=(), !pdfs=(Gaussian Signal = 3.17749e-31/0.366674,Exponential Background = inf/-nan), !coefficients=(Gauss_Norm_Bp = 14407.7,exp_Norm_Bp = 9646.31)\n",
            "     getLogVal() top-level p.d.f evaluates to zero @ !refCoefNorm=(), !pdfs=(Gaussian Signal = 3.17749e-31/0.366674,Exponential Background = inf/-nan), !coefficients=(Gauss_Norm_Bp = 14407.7,exp_Norm_Bp = 9646.31)\n",
            "     p.d.f value is Not-a-Number (-nan), forcing value to zero @ !refCoefNorm=(), !pdfs=(Gaussian Signal = 0/0.366674,Exponential Background = inf/-nan), !coefficients=(Gauss_Norm_Bp = 14407.7,exp_Norm_Bp = 9646.31)\n",
            "     getLogVal() top-level p.d.f evaluates to zero @ !refCoefNorm=(), !pdfs=(Gaussian Signal = 0/0.366674,Exponential Background = inf/-nan), !coefficients=(Gauss_Norm_Bp = 14407.7,exp_Norm_Bp = 9646.31)\n",
            "     p.d.f value is Not-a-Number (-nan), forcing value to zero @ !refCoefNorm=(), !pdfs=(Gaussian Signal = 0/0.366674,Exponential Background = inf/-nan), !coefficients=(Gauss_Norm_Bp = 14407.7,exp_Norm_Bp = 9646.31)\n",
            "     getLogVal() top-level p.d.f evaluates to zero @ !refCoefNorm=(), !pdfs=(Gaussian Signal = 0/0.366674,Exponential Background = inf/-nan), !coefficients=(Gauss_Norm_Bp = 14407.7,exp_Norm_Bp = 9646.31)\n",
            "     p.d.f value is Not-a-Number (-nan), forcing value to zero @ !refCoefNorm=(), !pdfs=(Gaussian Signal = 0/0.366674,Exponential Background = inf/-nan), !coefficients=(Gauss_Norm_Bp = 14407.7,exp_Norm_Bp = 9646.31)\n",
            "     getLogVal() top-level p.d.f evaluates to zero @ !refCoefNorm=(), !pdfs=(Gaussian Signal = 0/0.366674,Exponential Background = inf/-nan), !coefficients=(Gauss_Norm_Bp = 14407.7,exp_Norm_Bp = 9646.31)\n",
            "     p.d.f value is Not-a-Number (-nan), forcing value to zero @ !refCoefNorm=(), !pdfs=(Gaussian Signal = 0/0.366674,Exponential Background = inf/-nan), !coefficients=(Gauss_Norm_Bp = 14407.7,exp_Norm_Bp = 9646.31)\n",
            "     getLogVal() top-level p.d.f evaluates to zero @ !refCoefNorm=(), !pdfs=(Gaussian Signal = 0/0.366674,Exponential Background = inf/-nan), !coefficients=(Gauss_Norm_Bp = 14407.7,exp_Norm_Bp = 9646.31)\n",
            "    ... (remaining 2038 messages suppressed)\n",
            "RooNLLVar::nll_Full Model_Data Set[ paramSet=(Gauss_Norm_Bp,Mean,Width,exp_Norm_Bp,exponent) ]\n",
            "     function value is NAN @ paramSet=(Gauss_Norm_Bp = 14407.7,Mean = 5252.41,Width = 0.146282,exp_Norm_Bp = 9646.31,exponent = 0.256038)\n",
            "RooRealIntegral::Exponential Background_Int[M_m0][ Int Exponential Backgroundd[Ana](M_m0) ]\n",
            "     function value is NAN @ !sumList=(), !intList=(), !anaList=(M_m0 = 5180.1), !jacList=(), !facList=(), !func=Exponential Background=inf/3.22922e+165, !sumCat=()\n",
            "\n",
            "[#0] WARNING:Minization -- RooMinimizerFcn: Minimized function has error status.\n",
            "Returning maximum FCN so far (223322) to force MIGRAD to back out of this region. Error log follows\n",
            "Parameter values: Gauss_Norm_Bp=4774.99, Mean=5272.02, Width=35.4424, exp_Norm_Bp=7272.66, exponent=0.147888\n",
            "RooAddPdf::Full Model[ Gauss_Norm_Bp * Gaussian Signal + exp_Norm_Bp * Exponential Background ]\n",
            "     p.d.f value is Not-a-Number (-nan), forcing value to zero @ !refCoefNorm=(), !pdfs=(Gaussian Signal = 2.2451e-08/88.841,Exponential Background = inf/-nan), !coefficients=(Gauss_Norm_Bp = 4774.99,exp_Norm_Bp = 7272.66)\n",
            "     getLogVal() top-level p.d.f evaluates to zero @ !refCoefNorm=(), !pdfs=(Gaussian Signal = 2.2451e-08/88.841,Exponential Background = inf/-nan), !coefficients=(Gauss_Norm_Bp = 4774.99,exp_Norm_Bp = 7272.66)\n",
            "     p.d.f value is Not-a-Number (-nan), forcing value to zero @ !refCoefNorm=(), !pdfs=(Gaussian Signal = 0.834056/88.841,Exponential Background = inf/-nan), !coefficients=(Gauss_Norm_Bp = 4774.99,exp_Norm_Bp = 7272.66)\n",
            "     getLogVal() top-level p.d.f evaluates to zero @ !refCoefNorm=(), !pdfs=(Gaussian Signal = 0.834056/88.841,Exponential Background = inf/-nan), !coefficients=(Gauss_Norm_Bp = 4774.99,exp_Norm_Bp = 7272.66)\n",
            "     p.d.f value is Not-a-Number (-nan), forcing value to zero @ !refCoefNorm=(), !pdfs=(Gaussian Signal = 0.0507809/88.841,Exponential Background = inf/-nan), !coefficients=(Gauss_Norm_Bp = 4774.99,exp_Norm_Bp = 7272.66)\n",
            "     getLogVal() top-level p.d.f evaluates to zero @ !refCoefNorm=(), !pdfs=(Gaussian Signal = 0.0507809/88.841,Exponential Background = inf/-nan), !coefficients=(Gauss_Norm_Bp = 4774.99,exp_Norm_Bp = 7272.66)\n",
            "     p.d.f value is Not-a-Number (-nan), forcing value to zero @ !refCoefNorm=(), !pdfs=(Gaussian Signal = 0.0784412/88.841,Exponential Background = inf/-nan), !coefficients=(Gauss_Norm_Bp = 4774.99,exp_Norm_Bp = 7272.66)\n",
            "     getLogVal() top-level p.d.f evaluates to zero @ !refCoefNorm=(), !pdfs=(Gaussian Signal = 0.0784412/88.841,Exponential Background = inf/-nan), !coefficients=(Gauss_Norm_Bp = 4774.99,exp_Norm_Bp = 7272.66)\n",
            "     p.d.f value is Not-a-Number (-nan), forcing value to zero @ !refCoefNorm=(), !pdfs=(Gaussian Signal = 0.94729/88.841,Exponential Background = inf/-nan), !coefficients=(Gauss_Norm_Bp = 4774.99,exp_Norm_Bp = 7272.66)\n",
            "     getLogVal() top-level p.d.f evaluates to zero @ !refCoefNorm=(), !pdfs=(Gaussian Signal = 0.94729/88.841,Exponential Background = inf/-nan), !coefficients=(Gauss_Norm_Bp = 4774.99,exp_Norm_Bp = 7272.66)\n",
            "     p.d.f value is Not-a-Number (-nan), forcing value to zero @ !refCoefNorm=(), !pdfs=(Gaussian Signal = 0.0099956/88.841,Exponential Background = inf/-nan), !coefficients=(Gauss_Norm_Bp = 4774.99,exp_Norm_Bp = 7272.66)\n",
            "     getLogVal() top-level p.d.f evaluates to zero @ !refCoefNorm=(), !pdfs=(Gaussian Signal = 0.0099956/88.841,Exponential Background = inf/-nan), !coefficients=(Gauss_Norm_Bp = 4774.99,exp_Norm_Bp = 7272.66)\n",
            "    ... (remaining 2038 messages suppressed)\n",
            "RooNLLVar::nll_Full Model_Data Set[ paramSet=(Gauss_Norm_Bp,Mean,Width,exp_Norm_Bp,exponent) ]\n",
            "     function value is NAN @ paramSet=(Gauss_Norm_Bp = 4774.99,Mean = 5272.02,Width = 35.4424,exp_Norm_Bp = 7272.66,exponent = 0.147888)\n",
            "RooRealIntegral::Exponential Background_Int[M_m0][ Int Exponential Backgroundd[Ana](M_m0) ]\n",
            "     function value is NAN @ !sumList=(), !intList=(), !anaList=(M_m0 = 5180.1), !jacList=(), !facList=(), !func=Exponential Background=inf/-nan, !sumCat=()\n",
            "\n",
            "[#0] WARNING:Minization -- RooMinimizerFcn: Minimized function has error status.\n",
            "Returning maximum FCN so far (223322) to force MIGRAD to back out of this region. Error log follows\n",
            "Parameter values: Gauss_Norm_Bp=12042.6, Mean=5255.89, Width=37.3177, exp_Norm_Bp=58.9149, exponent=0.137203\n",
            "RooAddPdf::Full Model[ Gauss_Norm_Bp * Gaussian Signal + exp_Norm_Bp * Exponential Background ]\n",
            "     p.d.f value is Not-a-Number (-nan), forcing value to zero @ !refCoefNorm=(), !pdfs=(Gaussian Signal = 0.00910788/93.5416,Exponential Background = inf/inf), !coefficients=(Gauss_Norm_Bp = 12042.6,exp_Norm_Bp = 58.9149)\n",
            "     getLogVal() top-level p.d.f evaluates to zero @ !refCoefNorm=(), !pdfs=(Gaussian Signal = 0.00910788/93.5416,Exponential Background = inf/inf), !coefficients=(Gauss_Norm_Bp = 12042.6,exp_Norm_Bp = 58.9149)\n",
            "     p.d.f value is Not-a-Number (-nan), forcing value to zero @ !refCoefNorm=(), !pdfs=(Gaussian Signal = 0.601348/93.5416,Exponential Background = inf/inf), !coefficients=(Gauss_Norm_Bp = 12042.6,exp_Norm_Bp = 58.9149)\n",
            "     getLogVal() top-level p.d.f evaluates to zero @ !refCoefNorm=(), !pdfs=(Gaussian Signal = 0.601348/93.5416,Exponential Background = inf/inf), !coefficients=(Gauss_Norm_Bp = 12042.6,exp_Norm_Bp = 58.9149)\n",
            "     p.d.f value is Not-a-Number (-nan), forcing value to zero @ !refCoefNorm=(), !pdfs=(Gaussian Signal = 0.50162/93.5416,Exponential Background = inf/inf), !coefficients=(Gauss_Norm_Bp = 12042.6,exp_Norm_Bp = 58.9149)\n",
            "     getLogVal() top-level p.d.f evaluates to zero @ !refCoefNorm=(), !pdfs=(Gaussian Signal = 0.50162/93.5416,Exponential Background = inf/inf), !coefficients=(Gauss_Norm_Bp = 12042.6,exp_Norm_Bp = 58.9149)\n",
            "     p.d.f value is Not-a-Number (-nan), forcing value to zero @ !refCoefNorm=(), !pdfs=(Gaussian Signal = 0.740661/93.5416,Exponential Background = inf/inf), !coefficients=(Gauss_Norm_Bp = 12042.6,exp_Norm_Bp = 58.9149)\n",
            "     getLogVal() top-level p.d.f evaluates to zero @ !refCoefNorm=(), !pdfs=(Gaussian Signal = 0.740661/93.5416,Exponential Background = inf/inf), !coefficients=(Gauss_Norm_Bp = 12042.6,exp_Norm_Bp = 58.9149)\n",
            "     p.d.f value is Not-a-Number (-nan), forcing value to zero @ !refCoefNorm=(), !pdfs=(Gaussian Signal = 0.220136/93.5416,Exponential Background = inf/inf), !coefficients=(Gauss_Norm_Bp = 12042.6,exp_Norm_Bp = 58.9149)\n",
            "     getLogVal() top-level p.d.f evaluates to zero @ !refCoefNorm=(), !pdfs=(Gaussian Signal = 0.220136/93.5416,Exponential Background = inf/inf), !coefficients=(Gauss_Norm_Bp = 12042.6,exp_Norm_Bp = 58.9149)\n",
            "     p.d.f value is Not-a-Number (-nan), forcing value to zero @ !refCoefNorm=(), !pdfs=(Gaussian Signal = 0.638301/93.5416,Exponential Background = inf/inf), !coefficients=(Gauss_Norm_Bp = 12042.6,exp_Norm_Bp = 58.9149)\n",
            "     getLogVal() top-level p.d.f evaluates to zero @ !refCoefNorm=(), !pdfs=(Gaussian Signal = 0.638301/93.5416,Exponential Background = inf/inf), !coefficients=(Gauss_Norm_Bp = 12042.6,exp_Norm_Bp = 58.9149)\n",
            "    ... (remaining 2038 messages suppressed)\n",
            "RooNLLVar::nll_Full Model_Data Set[ paramSet=(Gauss_Norm_Bp,Mean,Width,exp_Norm_Bp,exponent) ]\n",
            "     function value is NAN @ paramSet=(Gauss_Norm_Bp = 12042.6,Mean = 5255.89,Width = 37.3177,exp_Norm_Bp = 58.9149,exponent = 0.137203)\n",
            "\n",
            "[#0] WARNING:Minization -- RooMinimizerFcn: Minimized function has error status.\n",
            "Returning maximum FCN so far (223322) to force MIGRAD to back out of this region. Error log follows\n",
            "Parameter values: Gauss_Norm_Bp=19327.1, Mean=5253.28, Width=39.7384, exp_Norm_Bp=2769.82, exponent=0.132637\n",
            "RooAddPdf::Full Model[ Gauss_Norm_Bp * Gaussian Signal + exp_Norm_Bp * Exponential Background ]\n",
            "     p.d.f value is Not-a-Number (-nan), forcing value to zero @ !refCoefNorm=(), !pdfs=(Gaussian Signal = 0.000275183/99.6094,Exponential Background = inf/inf), !coefficients=(Gauss_Norm_Bp = 19327.1,exp_Norm_Bp = 2769.82)\n",
            "     getLogVal() top-level p.d.f evaluates to zero @ !refCoefNorm=(), !pdfs=(Gaussian Signal = 0.000275183/99.6094,Exponential Background = inf/inf), !coefficients=(Gauss_Norm_Bp = 19327.1,exp_Norm_Bp = 2769.82)\n",
            "     p.d.f value is Not-a-Number (-nan), forcing value to zero @ !refCoefNorm=(), !pdfs=(Gaussian Signal = 1.43762e-08/99.6094,Exponential Background = inf/inf), !coefficients=(Gauss_Norm_Bp = 19327.1,exp_Norm_Bp = 2769.82)\n",
            "     getLogVal() top-level p.d.f evaluates to zero @ !refCoefNorm=(), !pdfs=(Gaussian Signal = 1.43762e-08/99.6094,Exponential Background = inf/inf), !coefficients=(Gauss_Norm_Bp = 19327.1,exp_Norm_Bp = 2769.82)\n",
            "     p.d.f value is Not-a-Number (-nan), forcing value to zero @ !refCoefNorm=(), !pdfs=(Gaussian Signal = 6.85375e-05/99.6094,Exponential Background = inf/inf), !coefficients=(Gauss_Norm_Bp = 19327.1,exp_Norm_Bp = 2769.82)\n",
            "     getLogVal() top-level p.d.f evaluates to zero @ !refCoefNorm=(), !pdfs=(Gaussian Signal = 6.85375e-05/99.6094,Exponential Background = inf/inf), !coefficients=(Gauss_Norm_Bp = 19327.1,exp_Norm_Bp = 2769.82)\n",
            "     p.d.f value is Not-a-Number (-nan), forcing value to zero @ !refCoefNorm=(), !pdfs=(Gaussian Signal = 8.41043e-09/99.6094,Exponential Background = inf/inf), !coefficients=(Gauss_Norm_Bp = 19327.1,exp_Norm_Bp = 2769.82)\n",
            "     getLogVal() top-level p.d.f evaluates to zero @ !refCoefNorm=(), !pdfs=(Gaussian Signal = 8.41043e-09/99.6094,Exponential Background = inf/inf), !coefficients=(Gauss_Norm_Bp = 19327.1,exp_Norm_Bp = 2769.82)\n",
            "     p.d.f value is Not-a-Number (-nan), forcing value to zero @ !refCoefNorm=(), !pdfs=(Gaussian Signal = 4.82024e-08/99.6094,Exponential Background = inf/inf), !coefficients=(Gauss_Norm_Bp = 19327.1,exp_Norm_Bp = 2769.82)\n",
            "     getLogVal() top-level p.d.f evaluates to zero @ !refCoefNorm=(), !pdfs=(Gaussian Signal = 4.82024e-08/99.6094,Exponential Background = inf/inf), !coefficients=(Gauss_Norm_Bp = 19327.1,exp_Norm_Bp = 2769.82)\n",
            "     p.d.f value is Not-a-Number (-nan), forcing value to zero @ !refCoefNorm=(), !pdfs=(Gaussian Signal = 0.00654574/99.6094,Exponential Background = inf/inf), !coefficients=(Gauss_Norm_Bp = 19327.1,exp_Norm_Bp = 2769.82)\n",
            "     getLogVal() top-level p.d.f evaluates to zero @ !refCoefNorm=(), !pdfs=(Gaussian Signal = 0.00654574/99.6094,Exponential Background = inf/inf), !coefficients=(Gauss_Norm_Bp = 19327.1,exp_Norm_Bp = 2769.82)\n",
            "    ... (remaining 2038 messages suppressed)\n",
            "RooNLLVar::nll_Full Model_Data Set[ paramSet=(Gauss_Norm_Bp,Mean,Width,exp_Norm_Bp,exponent) ]\n",
            "     function value is NAN @ paramSet=(Gauss_Norm_Bp = 19327.1,Mean = 5253.28,Width = 39.7384,exp_Norm_Bp = 2769.82,exponent = 0.132637)\n",
            "\n",
            "[#0] WARNING:Minization -- RooMinimizerFcn: Minimized function has error status.\n",
            "Returning maximum FCN so far (223322) to force MIGRAD to back out of this region. Error log follows\n",
            "Parameter values: Gauss_Norm_Bp=18788.9, Mean=5251.59, Width=39.8936, exp_Norm_Bp=1993, exponent=0.137079\n",
            "RooAddPdf::Full Model[ Gauss_Norm_Bp * Gaussian Signal + exp_Norm_Bp * Exponential Background ]\n",
            "     p.d.f value is Not-a-Number (-nan), forcing value to zero @ !refCoefNorm=(), !pdfs=(Gaussian Signal = 0.213063/99.9984,Exponential Background = inf/inf), !coefficients=(Gauss_Norm_Bp = 18788.9,exp_Norm_Bp = 1993)\n",
            "     getLogVal() top-level p.d.f evaluates to zero @ !refCoefNorm=(), !pdfs=(Gaussian Signal = 0.213063/99.9984,Exponential Background = inf/inf), !coefficients=(Gauss_Norm_Bp = 18788.9,exp_Norm_Bp = 1993)\n",
            "     p.d.f value is Not-a-Number (-nan), forcing value to zero @ !refCoefNorm=(), !pdfs=(Gaussian Signal = 0.225007/99.9984,Exponential Background = inf/inf), !coefficients=(Gauss_Norm_Bp = 18788.9,exp_Norm_Bp = 1993)\n",
            "     getLogVal() top-level p.d.f evaluates to zero @ !refCoefNorm=(), !pdfs=(Gaussian Signal = 0.225007/99.9984,Exponential Background = inf/inf), !coefficients=(Gauss_Norm_Bp = 18788.9,exp_Norm_Bp = 1993)\n",
            "     p.d.f value is Not-a-Number (-nan), forcing value to zero @ !refCoefNorm=(), !pdfs=(Gaussian Signal = 5.52505e-06/99.9984,Exponential Background = inf/inf), !coefficients=(Gauss_Norm_Bp = 18788.9,exp_Norm_Bp = 1993)\n",
            "     getLogVal() top-level p.d.f evaluates to zero @ !refCoefNorm=(), !pdfs=(Gaussian Signal = 5.52505e-06/99.9984,Exponential Background = inf/inf), !coefficients=(Gauss_Norm_Bp = 18788.9,exp_Norm_Bp = 1993)\n",
            "     p.d.f value is Not-a-Number (-nan), forcing value to zero @ !refCoefNorm=(), !pdfs=(Gaussian Signal = 0.0372127/99.9984,Exponential Background = inf/inf), !coefficients=(Gauss_Norm_Bp = 18788.9,exp_Norm_Bp = 1993)\n",
            "     getLogVal() top-level p.d.f evaluates to zero @ !refCoefNorm=(), !pdfs=(Gaussian Signal = 0.0372127/99.9984,Exponential Background = inf/inf), !coefficients=(Gauss_Norm_Bp = 18788.9,exp_Norm_Bp = 1993)\n",
            "     p.d.f value is Not-a-Number (-nan), forcing value to zero @ !refCoefNorm=(), !pdfs=(Gaussian Signal = 0.00416943/99.9984,Exponential Background = inf/inf), !coefficients=(Gauss_Norm_Bp = 18788.9,exp_Norm_Bp = 1993)\n",
            "     getLogVal() top-level p.d.f evaluates to zero @ !refCoefNorm=(), !pdfs=(Gaussian Signal = 0.00416943/99.9984,Exponential Background = inf/inf), !coefficients=(Gauss_Norm_Bp = 18788.9,exp_Norm_Bp = 1993)\n",
            "     p.d.f value is Not-a-Number (-nan), forcing value to zero @ !refCoefNorm=(), !pdfs=(Gaussian Signal = 0.985063/99.9984,Exponential Background = inf/inf), !coefficients=(Gauss_Norm_Bp = 18788.9,exp_Norm_Bp = 1993)\n",
            "     getLogVal() top-level p.d.f evaluates to zero @ !refCoefNorm=(), !pdfs=(Gaussian Signal = 0.985063/99.9984,Exponential Background = inf/inf), !coefficients=(Gauss_Norm_Bp = 18788.9,exp_Norm_Bp = 1993)\n",
            "    ... (remaining 2038 messages suppressed)\n",
            "RooNLLVar::nll_Full Model_Data Set[ paramSet=(Gauss_Norm_Bp,Mean,Width,exp_Norm_Bp,exponent) ]\n",
            "     function value is NAN @ paramSet=(Gauss_Norm_Bp = 18788.9,Mean = 5251.59,Width = 39.8936,exp_Norm_Bp = 1993,exponent = 0.137079)\n",
            "\n",
            "[#0] WARNING:Minization -- RooMinimizerFcn: Minimized function has error status.\n",
            "Returning maximum FCN so far (223322) to force MIGRAD to back out of this region. Error log follows\n",
            "Parameter values: Gauss_Norm_Bp=19274.5, Mean=5251.33, Width=39.9294, exp_Norm_Bp=2040.06, exponent=0.136787\n",
            "RooAddPdf::Full Model[ Gauss_Norm_Bp * Gaussian Signal + exp_Norm_Bp * Exponential Background ]\n",
            "     p.d.f value is Not-a-Number (-nan), forcing value to zero @ !refCoefNorm=(), !pdfs=(Gaussian Signal = 0.11989/100.088,Exponential Background = inf/inf), !coefficients=(Gauss_Norm_Bp = 19274.5,exp_Norm_Bp = 2040.06)\n",
            "     getLogVal() top-level p.d.f evaluates to zero @ !refCoefNorm=(), !pdfs=(Gaussian Signal = 0.11989/100.088,Exponential Background = inf/inf), !coefficients=(Gauss_Norm_Bp = 19274.5,exp_Norm_Bp = 2040.06)\n",
            "     p.d.f value is Not-a-Number (-nan), forcing value to zero @ !refCoefNorm=(), !pdfs=(Gaussian Signal = 0.681632/100.088,Exponential Background = inf/inf), !coefficients=(Gauss_Norm_Bp = 19274.5,exp_Norm_Bp = 2040.06)\n",
            "     getLogVal() top-level p.d.f evaluates to zero @ !refCoefNorm=(), !pdfs=(Gaussian Signal = 0.681632/100.088,Exponential Background = inf/inf), !coefficients=(Gauss_Norm_Bp = 19274.5,exp_Norm_Bp = 2040.06)\n",
            "     p.d.f value is Not-a-Number (-nan), forcing value to zero @ !refCoefNorm=(), !pdfs=(Gaussian Signal = 0.000208209/100.088,Exponential Background = inf/inf), !coefficients=(Gauss_Norm_Bp = 19274.5,exp_Norm_Bp = 2040.06)\n",
            "     getLogVal() top-level p.d.f evaluates to zero @ !refCoefNorm=(), !pdfs=(Gaussian Signal = 0.000208209/100.088,Exponential Background = inf/inf), !coefficients=(Gauss_Norm_Bp = 19274.5,exp_Norm_Bp = 2040.06)\n",
            "     p.d.f value is Not-a-Number (-nan), forcing value to zero @ !refCoefNorm=(), !pdfs=(Gaussian Signal = 0.778463/100.088,Exponential Background = inf/inf), !coefficients=(Gauss_Norm_Bp = 19274.5,exp_Norm_Bp = 2040.06)\n",
            "     getLogVal() top-level p.d.f evaluates to zero @ !refCoefNorm=(), !pdfs=(Gaussian Signal = 0.778463/100.088,Exponential Background = inf/inf), !coefficients=(Gauss_Norm_Bp = 19274.5,exp_Norm_Bp = 2040.06)\n",
            "     p.d.f value is Not-a-Number (-nan), forcing value to zero @ !refCoefNorm=(), !pdfs=(Gaussian Signal = 1.33518e-07/100.088,Exponential Background = inf/inf), !coefficients=(Gauss_Norm_Bp = 19274.5,exp_Norm_Bp = 2040.06)\n",
            "     getLogVal() top-level p.d.f evaluates to zero @ !refCoefNorm=(), !pdfs=(Gaussian Signal = 1.33518e-07/100.088,Exponential Background = inf/inf), !coefficients=(Gauss_Norm_Bp = 19274.5,exp_Norm_Bp = 2040.06)\n",
            "     p.d.f value is Not-a-Number (-nan), forcing value to zero @ !refCoefNorm=(), !pdfs=(Gaussian Signal = 0.0272913/100.088,Exponential Background = inf/inf), !coefficients=(Gauss_Norm_Bp = 19274.5,exp_Norm_Bp = 2040.06)\n",
            "     getLogVal() top-level p.d.f evaluates to zero @ !refCoefNorm=(), !pdfs=(Gaussian Signal = 0.0272913/100.088,Exponential Background = inf/inf), !coefficients=(Gauss_Norm_Bp = 19274.5,exp_Norm_Bp = 2040.06)\n",
            "    ... (remaining 2038 messages suppressed)\n",
            "RooNLLVar::nll_Full Model_Data Set[ paramSet=(Gauss_Norm_Bp,Mean,Width,exp_Norm_Bp,exponent) ]\n",
            "     function value is NAN @ paramSet=(Gauss_Norm_Bp = 19274.5,Mean = 5251.33,Width = 39.9294,exp_Norm_Bp = 2040.06,exponent = 0.136787)\n",
            "\n",
            "[#0] WARNING:Minization -- RooMinimizerFcn: Minimized function has error status.\n",
            "Returning maximum FCN so far (223322) to force MIGRAD to back out of this region. Error log follows\n",
            "Parameter values: Gauss_Norm_Bp=18878.6, Mean=5251.14, Width=39.9353, exp_Norm_Bp=2075.31, exponent=0.135209\n",
            "RooAddPdf::Full Model[ Gauss_Norm_Bp * Gaussian Signal + exp_Norm_Bp * Exponential Background ]\n",
            "     p.d.f value is Not-a-Number (-nan), forcing value to zero @ !refCoefNorm=(), !pdfs=(Gaussian Signal = 2.31734e-07/100.103,Exponential Background = inf/inf), !coefficients=(Gauss_Norm_Bp = 18878.6,exp_Norm_Bp = 2075.31)\n",
            "     getLogVal() top-level p.d.f evaluates to zero @ !refCoefNorm=(), !pdfs=(Gaussian Signal = 2.31734e-07/100.103,Exponential Background = inf/inf), !coefficients=(Gauss_Norm_Bp = 18878.6,exp_Norm_Bp = 2075.31)\n",
            "     p.d.f value is Not-a-Number (-nan), forcing value to zero @ !refCoefNorm=(), !pdfs=(Gaussian Signal = 0.600437/100.103,Exponential Background = inf/inf), !coefficients=(Gauss_Norm_Bp = 18878.6,exp_Norm_Bp = 2075.31)\n",
            "     getLogVal() top-level p.d.f evaluates to zero @ !refCoefNorm=(), !pdfs=(Gaussian Signal = 0.600437/100.103,Exponential Background = inf/inf), !coefficients=(Gauss_Norm_Bp = 18878.6,exp_Norm_Bp = 2075.31)\n",
            "     p.d.f value is Not-a-Number (-nan), forcing value to zero @ !refCoefNorm=(), !pdfs=(Gaussian Signal = 7.01899e-05/100.103,Exponential Background = inf/inf), !coefficients=(Gauss_Norm_Bp = 18878.6,exp_Norm_Bp = 2075.31)\n",
            "     getLogVal() top-level p.d.f evaluates to zero @ !refCoefNorm=(), !pdfs=(Gaussian Signal = 7.01899e-05/100.103,Exponential Background = inf/inf), !coefficients=(Gauss_Norm_Bp = 18878.6,exp_Norm_Bp = 2075.31)\n",
            "     p.d.f value is Not-a-Number (-nan), forcing value to zero @ !refCoefNorm=(), !pdfs=(Gaussian Signal = 0.0100316/100.103,Exponential Background = inf/inf), !coefficients=(Gauss_Norm_Bp = 18878.6,exp_Norm_Bp = 2075.31)\n",
            "     getLogVal() top-level p.d.f evaluates to zero @ !refCoefNorm=(), !pdfs=(Gaussian Signal = 0.0100316/100.103,Exponential Background = inf/inf), !coefficients=(Gauss_Norm_Bp = 18878.6,exp_Norm_Bp = 2075.31)\n",
            "     p.d.f value is Not-a-Number (-nan), forcing value to zero @ !refCoefNorm=(), !pdfs=(Gaussian Signal = 3.4828e-06/100.103,Exponential Background = inf/inf), !coefficients=(Gauss_Norm_Bp = 18878.6,exp_Norm_Bp = 2075.31)\n",
            "     getLogVal() top-level p.d.f evaluates to zero @ !refCoefNorm=(), !pdfs=(Gaussian Signal = 3.4828e-06/100.103,Exponential Background = inf/inf), !coefficients=(Gauss_Norm_Bp = 18878.6,exp_Norm_Bp = 2075.31)\n",
            "     p.d.f value is Not-a-Number (-nan), forcing value to zero @ !refCoefNorm=(), !pdfs=(Gaussian Signal = 4.29317e-08/100.103,Exponential Background = inf/inf), !coefficients=(Gauss_Norm_Bp = 18878.6,exp_Norm_Bp = 2075.31)\n",
            "     getLogVal() top-level p.d.f evaluates to zero @ !refCoefNorm=(), !pdfs=(Gaussian Signal = 4.29317e-08/100.103,Exponential Background = inf/inf), !coefficients=(Gauss_Norm_Bp = 18878.6,exp_Norm_Bp = 2075.31)\n",
            "    ... (remaining 2038 messages suppressed)\n",
            "RooNLLVar::nll_Full Model_Data Set[ paramSet=(Gauss_Norm_Bp,Mean,Width,exp_Norm_Bp,exponent) ]\n",
            "     function value is NAN @ paramSet=(Gauss_Norm_Bp = 18878.6,Mean = 5251.14,Width = 39.9353,exp_Norm_Bp = 2075.31,exponent = 0.135209)\n",
            "\n",
            "[#0] WARNING:Minization -- RooMinimizerFcn: Minimized function has error status.\n",
            "Returning maximum FCN so far (223322) to force MIGRAD to back out of this region. Error log follows\n",
            "Parameter values: Gauss_Norm_Bp=18984.3, Mean=5250.96, Width=39.9441, exp_Norm_Bp=2158.9, exponent=0.133692\n",
            "RooAddPdf::Full Model[ Gauss_Norm_Bp * Gaussian Signal + exp_Norm_Bp * Exponential Background ]\n",
            "     p.d.f value is Not-a-Number (-nan), forcing value to zero @ !refCoefNorm=(), !pdfs=(Gaussian Signal = 0.0293705/100.125,Exponential Background = inf/inf), !coefficients=(Gauss_Norm_Bp = 18984.3,exp_Norm_Bp = 2158.9)\n",
            "     getLogVal() top-level p.d.f evaluates to zero @ !refCoefNorm=(), !pdfs=(Gaussian Signal = 0.0293705/100.125,Exponential Background = inf/inf), !coefficients=(Gauss_Norm_Bp = 18984.3,exp_Norm_Bp = 2158.9)\n",
            "     p.d.f value is Not-a-Number (-nan), forcing value to zero @ !refCoefNorm=(), !pdfs=(Gaussian Signal = 0.000121843/100.125,Exponential Background = inf/inf), !coefficients=(Gauss_Norm_Bp = 18984.3,exp_Norm_Bp = 2158.9)\n",
            "     getLogVal() top-level p.d.f evaluates to zero @ !refCoefNorm=(), !pdfs=(Gaussian Signal = 0.000121843/100.125,Exponential Background = inf/inf), !coefficients=(Gauss_Norm_Bp = 18984.3,exp_Norm_Bp = 2158.9)\n",
            "     p.d.f value is Not-a-Number (-nan), forcing value to zero @ !refCoefNorm=(), !pdfs=(Gaussian Signal = 0.0540103/100.125,Exponential Background = inf/inf), !coefficients=(Gauss_Norm_Bp = 18984.3,exp_Norm_Bp = 2158.9)\n",
            "     getLogVal() top-level p.d.f evaluates to zero @ !refCoefNorm=(), !pdfs=(Gaussian Signal = 0.0540103/100.125,Exponential Background = inf/inf), !coefficients=(Gauss_Norm_Bp = 18984.3,exp_Norm_Bp = 2158.9)\n",
            "     p.d.f value is Not-a-Number (-nan), forcing value to zero @ !refCoefNorm=(), !pdfs=(Gaussian Signal = 0.0137752/100.125,Exponential Background = inf/inf), !coefficients=(Gauss_Norm_Bp = 18984.3,exp_Norm_Bp = 2158.9)\n",
            "     getLogVal() top-level p.d.f evaluates to zero @ !refCoefNorm=(), !pdfs=(Gaussian Signal = 0.0137752/100.125,Exponential Background = inf/inf), !coefficients=(Gauss_Norm_Bp = 18984.3,exp_Norm_Bp = 2158.9)\n",
            "     p.d.f value is Not-a-Number (-nan), forcing value to zero @ !refCoefNorm=(), !pdfs=(Gaussian Signal = 0.0165875/100.125,Exponential Background = inf/inf), !coefficients=(Gauss_Norm_Bp = 18984.3,exp_Norm_Bp = 2158.9)\n",
            "     getLogVal() top-level p.d.f evaluates to zero @ !refCoefNorm=(), !pdfs=(Gaussian Signal = 0.0165875/100.125,Exponential Background = inf/inf), !coefficients=(Gauss_Norm_Bp = 18984.3,exp_Norm_Bp = 2158.9)\n",
            "     p.d.f value is Not-a-Number (-nan), forcing value to zero @ !refCoefNorm=(), !pdfs=(Gaussian Signal = 9.90182e-09/100.125,Exponential Background = inf/inf), !coefficients=(Gauss_Norm_Bp = 18984.3,exp_Norm_Bp = 2158.9)\n",
            "     getLogVal() top-level p.d.f evaluates to zero @ !refCoefNorm=(), !pdfs=(Gaussian Signal = 9.90182e-09/100.125,Exponential Background = inf/inf), !coefficients=(Gauss_Norm_Bp = 18984.3,exp_Norm_Bp = 2158.9)\n",
            "    ... (remaining 2038 messages suppressed)\n",
            "RooNLLVar::nll_Full Model_Data Set[ paramSet=(Gauss_Norm_Bp,Mean,Width,exp_Norm_Bp,exponent) ]\n",
            "     function value is NAN @ paramSet=(Gauss_Norm_Bp = 18984.3,Mean = 5250.96,Width = 39.9441,exp_Norm_Bp = 2158.9,exponent = 0.133692)\n",
            "\n",
            "[#0] WARNING:Minization -- RooMinimizerFcn: Minimized function has error status.\n",
            "Returning maximum FCN so far (223322) to force MIGRAD to back out of this region. Error log follows\n",
            "Parameter values: Gauss_Norm_Bp=18800.9, Mean=5250.77, Width=39.9494, exp_Norm_Bp=2230.12, exponent=0.131845\n",
            "RooAddPdf::Full Model[ Gauss_Norm_Bp * Gaussian Signal + exp_Norm_Bp * Exponential Background ]\n",
            "     p.d.f value is Not-a-Number (-nan), forcing value to zero @ !refCoefNorm=(), !pdfs=(Gaussian Signal = 9.9948e-08/100.138,Exponential Background = inf/inf), !coefficients=(Gauss_Norm_Bp = 18800.9,exp_Norm_Bp = 2230.12)\n",
            "     getLogVal() top-level p.d.f evaluates to zero @ !refCoefNorm=(), !pdfs=(Gaussian Signal = 9.9948e-08/100.138,Exponential Background = inf/inf), !coefficients=(Gauss_Norm_Bp = 18800.9,exp_Norm_Bp = 2230.12)\n",
            "     p.d.f value is Not-a-Number (-nan), forcing value to zero @ !refCoefNorm=(), !pdfs=(Gaussian Signal = 3.19118e-08/100.138,Exponential Background = inf/inf), !coefficients=(Gauss_Norm_Bp = 18800.9,exp_Norm_Bp = 2230.12)\n",
            "     getLogVal() top-level p.d.f evaluates to zero @ !refCoefNorm=(), !pdfs=(Gaussian Signal = 3.19118e-08/100.138,Exponential Background = inf/inf), !coefficients=(Gauss_Norm_Bp = 18800.9,exp_Norm_Bp = 2230.12)\n",
            "     p.d.f value is Not-a-Number (-nan), forcing value to zero @ !refCoefNorm=(), !pdfs=(Gaussian Signal = 0.000253191/100.138,Exponential Background = inf/inf), !coefficients=(Gauss_Norm_Bp = 18800.9,exp_Norm_Bp = 2230.12)\n",
            "     getLogVal() top-level p.d.f evaluates to zero @ !refCoefNorm=(), !pdfs=(Gaussian Signal = 0.000253191/100.138,Exponential Background = inf/inf), !coefficients=(Gauss_Norm_Bp = 18800.9,exp_Norm_Bp = 2230.12)\n",
            "     p.d.f value is Not-a-Number (-nan), forcing value to zero @ !refCoefNorm=(), !pdfs=(Gaussian Signal = 0.00275/100.138,Exponential Background = inf/inf), !coefficients=(Gauss_Norm_Bp = 18800.9,exp_Norm_Bp = 2230.12)\n",
            "     getLogVal() top-level p.d.f evaluates to zero @ !refCoefNorm=(), !pdfs=(Gaussian Signal = 0.00275/100.138,Exponential Background = inf/inf), !coefficients=(Gauss_Norm_Bp = 18800.9,exp_Norm_Bp = 2230.12)\n",
            "     p.d.f value is Not-a-Number (-nan), forcing value to zero @ !refCoefNorm=(), !pdfs=(Gaussian Signal = 0.000321927/100.138,Exponential Background = inf/inf), !coefficients=(Gauss_Norm_Bp = 18800.9,exp_Norm_Bp = 2230.12)\n",
            "     getLogVal() top-level p.d.f evaluates to zero @ !refCoefNorm=(), !pdfs=(Gaussian Signal = 0.000321927/100.138,Exponential Background = inf/inf), !coefficients=(Gauss_Norm_Bp = 18800.9,exp_Norm_Bp = 2230.12)\n",
            "     p.d.f value is Not-a-Number (-nan), forcing value to zero @ !refCoefNorm=(), !pdfs=(Gaussian Signal = 1.61044e-06/100.138,Exponential Background = inf/inf), !coefficients=(Gauss_Norm_Bp = 18800.9,exp_Norm_Bp = 2230.12)\n",
            "     getLogVal() top-level p.d.f evaluates to zero @ !refCoefNorm=(), !pdfs=(Gaussian Signal = 1.61044e-06/100.138,Exponential Background = inf/inf), !coefficients=(Gauss_Norm_Bp = 18800.9,exp_Norm_Bp = 2230.12)\n",
            "    ... (remaining 2038 messages suppressed)\n",
            "RooNLLVar::nll_Full Model_Data Set[ paramSet=(Gauss_Norm_Bp,Mean,Width,exp_Norm_Bp,exponent) ]\n",
            "     function value is NAN @ paramSet=(Gauss_Norm_Bp = 18800.9,Mean = 5250.77,Width = 39.9494,exp_Norm_Bp = 2230.12,exponent = 0.131845)\n",
            "\n",
            "[#0] WARNING:Minization -- RooMinimizerFcn: Minimized function has error status.\n",
            "Returning maximum FCN so far (223322) to force MIGRAD to back out of this region. Error log follows\n",
            "Parameter values: Gauss_Norm_Bp=18770.6, Mean=5250.6, Width=39.956, exp_Norm_Bp=2318.66, exponent=0.129894\n",
            "RooAddPdf::Full Model[ Gauss_Norm_Bp * Gaussian Signal + exp_Norm_Bp * Exponential Background ]\n",
            "     p.d.f value is Not-a-Number (-nan), forcing value to zero @ !refCoefNorm=(), !pdfs=(Gaussian Signal = 7.16192e-08/100.155,Exponential Background = inf/inf), !coefficients=(Gauss_Norm_Bp = 18770.6,exp_Norm_Bp = 2318.66)\n",
            "     getLogVal() top-level p.d.f evaluates to zero @ !refCoefNorm=(), !pdfs=(Gaussian Signal = 7.16192e-08/100.155,Exponential Background = inf/inf), !coefficients=(Gauss_Norm_Bp = 18770.6,exp_Norm_Bp = 2318.66)\n",
            "     p.d.f value is Not-a-Number (-nan), forcing value to zero @ !refCoefNorm=(), !pdfs=(Gaussian Signal = 5.18725e-09/100.155,Exponential Background = inf/inf), !coefficients=(Gauss_Norm_Bp = 18770.6,exp_Norm_Bp = 2318.66)\n",
            "     getLogVal() top-level p.d.f evaluates to zero @ !refCoefNorm=(), !pdfs=(Gaussian Signal = 5.18725e-09/100.155,Exponential Background = inf/inf), !coefficients=(Gauss_Norm_Bp = 18770.6,exp_Norm_Bp = 2318.66)\n",
            "     p.d.f value is Not-a-Number (-nan), forcing value to zero @ !refCoefNorm=(), !pdfs=(Gaussian Signal = 2.24002e-07/100.155,Exponential Background = inf/inf), !coefficients=(Gauss_Norm_Bp = 18770.6,exp_Norm_Bp = 2318.66)\n",
            "     getLogVal() top-level p.d.f evaluates to zero @ !refCoefNorm=(), !pdfs=(Gaussian Signal = 2.24002e-07/100.155,Exponential Background = inf/inf), !coefficients=(Gauss_Norm_Bp = 18770.6,exp_Norm_Bp = 2318.66)\n",
            "     p.d.f value is Not-a-Number (-nan), forcing value to zero @ !refCoefNorm=(), !pdfs=(Gaussian Signal = 6.97428e-09/100.155,Exponential Background = inf/inf), !coefficients=(Gauss_Norm_Bp = 18770.6,exp_Norm_Bp = 2318.66)\n",
            "     getLogVal() top-level p.d.f evaluates to zero @ !refCoefNorm=(), !pdfs=(Gaussian Signal = 6.97428e-09/100.155,Exponential Background = inf/inf), !coefficients=(Gauss_Norm_Bp = 18770.6,exp_Norm_Bp = 2318.66)\n",
            "     p.d.f value is Not-a-Number (-nan), forcing value to zero @ !refCoefNorm=(), !pdfs=(Gaussian Signal = 2.20773e-08/100.155,Exponential Background = inf/inf), !coefficients=(Gauss_Norm_Bp = 18770.6,exp_Norm_Bp = 2318.66)\n",
            "     getLogVal() top-level p.d.f evaluates to zero @ !refCoefNorm=(), !pdfs=(Gaussian Signal = 2.20773e-08/100.155,Exponential Background = inf/inf), !coefficients=(Gauss_Norm_Bp = 18770.6,exp_Norm_Bp = 2318.66)\n",
            "     p.d.f value is Not-a-Number (-nan), forcing value to zero @ !refCoefNorm=(), !pdfs=(Gaussian Signal = 8.6688e-08/100.155,Exponential Background = inf/inf), !coefficients=(Gauss_Norm_Bp = 18770.6,exp_Norm_Bp = 2318.66)\n",
            "     getLogVal() top-level p.d.f evaluates to zero @ !refCoefNorm=(), !pdfs=(Gaussian Signal = 8.6688e-08/100.155,Exponential Background = inf/inf), !coefficients=(Gauss_Norm_Bp = 18770.6,exp_Norm_Bp = 2318.66)\n",
            "    ... (remaining 2038 messages suppressed)\n",
            "RooNLLVar::nll_Full Model_Data Set[ paramSet=(Gauss_Norm_Bp,Mean,Width,exp_Norm_Bp,exponent) ]\n",
            "     function value is NAN @ paramSet=(Gauss_Norm_Bp = 18770.6,Mean = 5250.6,Width = 39.956,exp_Norm_Bp = 2318.66,exponent = 0.129894)\n",
            "\n",
            "[#0] WARNING:Minization -- RooMinimizerFcn: Minimized function has error status.\n",
            "Returning maximum FCN so far (223322) to force MIGRAD to back out of this region. Error log follows\n",
            "Parameter values: Gauss_Norm_Bp=15559, Mean=5321.31, Width=34.0282, exp_Norm_Bp=3919.6, exponent=-0.237258\n",
            "RooExponential::Exponential Background[ x=M_m0 c=exponent ]\n",
            "     p.d.f normalization integral is zero or negative @ x=M_m0=5267.45, c=exponent=-0.237258\n",
            "     p.d.f normalization integral is zero or negative @ x=M_m0=5053.94, c=exponent=-0.237258\n",
            "     p.d.f normalization integral is zero or negative @ x=M_m0=5422.17, c=exponent=-0.237258\n",
            "     p.d.f normalization integral is zero or negative @ x=M_m0=5250.34, c=exponent=-0.237258\n",
            "     p.d.f normalization integral is zero or negative @ x=M_m0=5340.56, c=exponent=-0.237258\n",
            "     p.d.f normalization integral is zero or negative @ x=M_m0=5415.71, c=exponent=-0.237258\n",
            "     p.d.f normalization integral is zero or negative @ x=M_m0=5287.71, c=exponent=-0.237258\n",
            "     p.d.f normalization integral is zero or negative @ x=M_m0=5237.53, c=exponent=-0.237258\n",
            "     p.d.f normalization integral is zero or negative @ x=M_m0=5389.79, c=exponent=-0.237258\n",
            "     p.d.f normalization integral is zero or negative @ x=M_m0=5477.85, c=exponent=-0.237258\n",
            "     p.d.f normalization integral is zero or negative @ x=M_m0=5246.66, c=exponent=-0.237258\n",
            "     p.d.f normalization integral is zero or negative @ x=M_m0=5196.48, c=exponent=-0.237258\n",
            "    ... (remaining 2038 messages suppressed)\n",
            "\n",
            " MINUIT WARNING IN MIGRAD  \n",
            " ============== Negative diagonal element 2 in Error Matrix\n",
            " MINUIT WARNING IN MIGRAD  \n",
            " ============== Negative diagonal element 5 in Error Matrix\n",
            " MINUIT WARNING IN MIGRAD  \n",
            " ============== 1.00008 added to diagonal of error matrix\n",
            "[#0] WARNING:Minization -- RooMinimizerFcn: Minimized function has error status.\n",
            "Returning maximum FCN so far (223322) to force MIGRAD to back out of this region. Error log follows\n",
            "Parameter values: Gauss_Norm_Bp=8.72968e+06, Mean=5303.16, Width=39.494, exp_Norm_Bp=2.93972e+06, exponent=-1.70644\n",
            "RooExponential::Exponential Background[ x=M_m0 c=exponent ]\n",
            "     p.d.f normalization integral is zero or negative @ x=M_m0=5267.45, c=exponent=-1.70644\n",
            "     p.d.f normalization integral is zero or negative @ x=M_m0=5053.94, c=exponent=-1.70644\n",
            "     p.d.f normalization integral is zero or negative @ x=M_m0=5422.17, c=exponent=-1.70644\n",
            "     p.d.f normalization integral is zero or negative @ x=M_m0=5250.34, c=exponent=-1.70644\n",
            "     p.d.f normalization integral is zero or negative @ x=M_m0=5340.56, c=exponent=-1.70644\n",
            "     p.d.f normalization integral is zero or negative @ x=M_m0=5415.71, c=exponent=-1.70644\n",
            "     p.d.f normalization integral is zero or negative @ x=M_m0=5287.71, c=exponent=-1.70644\n",
            "     p.d.f normalization integral is zero or negative @ x=M_m0=5237.53, c=exponent=-1.70644\n",
            "     p.d.f normalization integral is zero or negative @ x=M_m0=5389.79, c=exponent=-1.70644\n",
            "     p.d.f normalization integral is zero or negative @ x=M_m0=5477.85, c=exponent=-1.70644\n",
            "     p.d.f normalization integral is zero or negative @ x=M_m0=5246.66, c=exponent=-1.70644\n",
            "     p.d.f normalization integral is zero or negative @ x=M_m0=5196.48, c=exponent=-1.70644\n",
            "    ... (remaining 2038 messages suppressed)\n",
            "\n",
            "[#0] WARNING:Minization -- RooMinimizerFcn: Minimized function has error status.\n",
            "Returning maximum FCN so far (223322) to force MIGRAD to back out of this region. Error log follows\n",
            "Parameter values: Gauss_Norm_Bp=6.13003e+06, Mean=5344.97, Width=0.685258, exp_Norm_Bp=6.45434e+06, exponent=-0.734859\n",
            "RooAddPdf::Full Model[ Gauss_Norm_Bp * Gaussian Signal + exp_Norm_Bp * Exponential Background ]\n",
            "     getLogVal() top-level p.d.f evaluates to zero @ !refCoefNorm=(), !pdfs=(Gaussian Signal = 0/1.71769,Exponential Background = 0/-0), !coefficients=(Gauss_Norm_Bp = 6.13003e+06,exp_Norm_Bp = 6.45434e+06)\n",
            "     getLogVal() top-level p.d.f evaluates to zero @ !refCoefNorm=(), !pdfs=(Gaussian Signal = 0/1.71769,Exponential Background = 0/-0), !coefficients=(Gauss_Norm_Bp = 6.13003e+06,exp_Norm_Bp = 6.45434e+06)\n",
            "     getLogVal() top-level p.d.f evaluates to zero @ !refCoefNorm=(), !pdfs=(Gaussian Signal = 0/1.71769,Exponential Background = 0/-0), !coefficients=(Gauss_Norm_Bp = 6.13003e+06,exp_Norm_Bp = 6.45434e+06)\n",
            "     getLogVal() top-level p.d.f evaluates to zero @ !refCoefNorm=(), !pdfs=(Gaussian Signal = 0/1.71769,Exponential Background = 0/-0), !coefficients=(Gauss_Norm_Bp = 6.13003e+06,exp_Norm_Bp = 6.45434e+06)\n",
            "     getLogVal() top-level p.d.f evaluates to zero @ !refCoefNorm=(), !pdfs=(Gaussian Signal = 0/1.71769,Exponential Background = 0/-0), !coefficients=(Gauss_Norm_Bp = 6.13003e+06,exp_Norm_Bp = 6.45434e+06)\n",
            "     getLogVal() top-level p.d.f evaluates to zero @ !refCoefNorm=(), !pdfs=(Gaussian Signal = 0/1.71769,Exponential Background = 0/-0), !coefficients=(Gauss_Norm_Bp = 6.13003e+06,exp_Norm_Bp = 6.45434e+06)\n",
            "     getLogVal() top-level p.d.f evaluates to zero @ !refCoefNorm=(), !pdfs=(Gaussian Signal = 0/1.71769,Exponential Background = 0/-0), !coefficients=(Gauss_Norm_Bp = 6.13003e+06,exp_Norm_Bp = 6.45434e+06)\n",
            "     getLogVal() top-level p.d.f evaluates to zero @ !refCoefNorm=(), !pdfs=(Gaussian Signal = 0/1.71769,Exponential Background = 0/-0), !coefficients=(Gauss_Norm_Bp = 6.13003e+06,exp_Norm_Bp = 6.45434e+06)\n",
            "     getLogVal() top-level p.d.f evaluates to zero @ !refCoefNorm=(), !pdfs=(Gaussian Signal = 0/1.71769,Exponential Background = 0/-0), !coefficients=(Gauss_Norm_Bp = 6.13003e+06,exp_Norm_Bp = 6.45434e+06)\n",
            "     getLogVal() top-level p.d.f evaluates to zero @ !refCoefNorm=(), !pdfs=(Gaussian Signal = 0/1.71769,Exponential Background = 0/-0), !coefficients=(Gauss_Norm_Bp = 6.13003e+06,exp_Norm_Bp = 6.45434e+06)\n",
            "     getLogVal() top-level p.d.f evaluates to zero @ !refCoefNorm=(), !pdfs=(Gaussian Signal = 0/1.71769,Exponential Background = 0/-0), !coefficients=(Gauss_Norm_Bp = 6.13003e+06,exp_Norm_Bp = 6.45434e+06)\n",
            "     getLogVal() top-level p.d.f evaluates to zero @ !refCoefNorm=(), !pdfs=(Gaussian Signal = 0/1.71769,Exponential Background = 0/-0), !coefficients=(Gauss_Norm_Bp = 6.13003e+06,exp_Norm_Bp = 6.45434e+06)\n",
            "    ... (remaining 2038 messages suppressed)\n",
            "RooNLLVar::nll_Full Model_Data Set[ paramSet=(Gauss_Norm_Bp,Mean,Width,exp_Norm_Bp,exponent) ]\n",
            "     function value is NAN @ paramSet=(Gauss_Norm_Bp = 6.13003e+06,Mean = 5344.97,Width = 0.685258,exp_Norm_Bp = 6.45434e+06,exponent = -0.734859)\n",
            "RooExponential::Exponential Background[ x=M_m0 c=exponent ]\n",
            "     p.d.f normalization integral is zero or negative @ x=M_m0=5267.45, c=exponent=-0.734859\n",
            "     p.d.f normalization integral is zero or negative @ x=M_m0=5053.94, c=exponent=-0.734859\n",
            "     p.d.f normalization integral is zero or negative @ x=M_m0=5422.17, c=exponent=-0.734859\n",
            "     p.d.f normalization integral is zero or negative @ x=M_m0=5250.34, c=exponent=-0.734859\n",
            "     p.d.f normalization integral is zero or negative @ x=M_m0=5340.56, c=exponent=-0.734859\n",
            "     p.d.f normalization integral is zero or negative @ x=M_m0=5415.71, c=exponent=-0.734859\n",
            "     p.d.f normalization integral is zero or negative @ x=M_m0=5287.71, c=exponent=-0.734859\n",
            "     p.d.f normalization integral is zero or negative @ x=M_m0=5237.53, c=exponent=-0.734859\n",
            "     p.d.f normalization integral is zero or negative @ x=M_m0=5389.79, c=exponent=-0.734859\n",
            "     p.d.f normalization integral is zero or negative @ x=M_m0=5477.85, c=exponent=-0.734859\n",
            "     p.d.f normalization integral is zero or negative @ x=M_m0=5246.66, c=exponent=-0.734859\n",
            "     p.d.f normalization integral is zero or negative @ x=M_m0=5196.48, c=exponent=-0.734859\n",
            "    ... (remaining 2038 messages suppressed)\n",
            "\n",
            "[#0] WARNING:Minization -- RooMinimizerFcn: Minimized function has error status.\n",
            "Returning maximum FCN so far (4.54742e+06) to force MIGRAD to back out of this region. Error log follows\n",
            "Parameter values: Gauss_Norm_Bp=8.61139e+06, Mean=5346.77, Width=10.8164, exp_Norm_Bp=4.58143e+06, exponent=-1.5778\n",
            "RooExponential::Exponential Background[ x=M_m0 c=exponent ]\n",
            "     p.d.f normalization integral is zero or negative @ x=M_m0=5267.45, c=exponent=-1.5778\n",
            "     p.d.f normalization integral is zero or negative @ x=M_m0=5053.94, c=exponent=-1.5778\n",
            "     p.d.f normalization integral is zero or negative @ x=M_m0=5422.17, c=exponent=-1.5778\n",
            "     p.d.f normalization integral is zero or negative @ x=M_m0=5250.34, c=exponent=-1.5778\n",
            "     p.d.f normalization integral is zero or negative @ x=M_m0=5340.56, c=exponent=-1.5778\n",
            "     p.d.f normalization integral is zero or negative @ x=M_m0=5415.71, c=exponent=-1.5778\n",
            "     p.d.f normalization integral is zero or negative @ x=M_m0=5287.71, c=exponent=-1.5778\n",
            "     p.d.f normalization integral is zero or negative @ x=M_m0=5237.53, c=exponent=-1.5778\n",
            "     p.d.f normalization integral is zero or negative @ x=M_m0=5389.79, c=exponent=-1.5778\n",
            "     p.d.f normalization integral is zero or negative @ x=M_m0=5477.85, c=exponent=-1.5778\n",
            "     p.d.f normalization integral is zero or negative @ x=M_m0=5246.66, c=exponent=-1.5778\n",
            "     p.d.f normalization integral is zero or negative @ x=M_m0=5196.48, c=exponent=-1.5778\n",
            "    ... (remaining 2038 messages suppressed)\n",
            "\n",
            "[#0] WARNING:Minization -- RooMinimizerFcn: Minimized function has error status.\n",
            "Returning maximum FCN so far (4.54742e+06) to force MIGRAD to back out of this region. Error log follows\n",
            "Parameter values: Gauss_Norm_Bp=9.13808e+06, Mean=5291.31, Width=33.107, exp_Norm_Bp=1.7177e+06, exponent=-1.94575\n",
            "RooExponential::Exponential Background[ x=M_m0 c=exponent ]\n",
            "     p.d.f normalization integral is zero or negative @ x=M_m0=5267.45, c=exponent=-1.94575\n",
            "     p.d.f normalization integral is zero or negative @ x=M_m0=5053.94, c=exponent=-1.94575\n",
            "     p.d.f normalization integral is zero or negative @ x=M_m0=5422.17, c=exponent=-1.94575\n",
            "     p.d.f normalization integral is zero or negative @ x=M_m0=5250.34, c=exponent=-1.94575\n",
            "     p.d.f normalization integral is zero or negative @ x=M_m0=5340.56, c=exponent=-1.94575\n",
            "     p.d.f normalization integral is zero or negative @ x=M_m0=5415.71, c=exponent=-1.94575\n",
            "     p.d.f normalization integral is zero or negative @ x=M_m0=5287.71, c=exponent=-1.94575\n",
            "     p.d.f normalization integral is zero or negative @ x=M_m0=5237.53, c=exponent=-1.94575\n",
            "     p.d.f normalization integral is zero or negative @ x=M_m0=5389.79, c=exponent=-1.94575\n",
            "     p.d.f normalization integral is zero or negative @ x=M_m0=5477.85, c=exponent=-1.94575\n",
            "     p.d.f normalization integral is zero or negative @ x=M_m0=5246.66, c=exponent=-1.94575\n",
            "     p.d.f normalization integral is zero or negative @ x=M_m0=5196.48, c=exponent=-1.94575\n",
            "    ... (remaining 2038 messages suppressed)\n",
            "\n",
            "[#0] WARNING:Minization -- RooMinimizerFcn: Minimized function has error status.\n",
            "Returning maximum FCN so far (4.54742e+06) to force MIGRAD to back out of this region. Error log follows\n",
            "Parameter values: Gauss_Norm_Bp=4.37338e+06, Mean=5252.91, Width=0.673754, exp_Norm_Bp=610053, exponent=-1.99966\n",
            "RooAddPdf::Full Model[ Gauss_Norm_Bp * Gaussian Signal + exp_Norm_Bp * Exponential Background ]\n",
            "     getLogVal() top-level p.d.f evaluates to zero @ !refCoefNorm=(), !pdfs=(Gaussian Signal = 0/1.68885,Exponential Background = 0/-0), !coefficients=(Gauss_Norm_Bp = 4.37338e+06,exp_Norm_Bp = 610053)\n",
            "     getLogVal() top-level p.d.f evaluates to zero @ !refCoefNorm=(), !pdfs=(Gaussian Signal = 0/1.68885,Exponential Background = 0/-0), !coefficients=(Gauss_Norm_Bp = 4.37338e+06,exp_Norm_Bp = 610053)\n",
            "     getLogVal() top-level p.d.f evaluates to zero @ !refCoefNorm=(), !pdfs=(Gaussian Signal = 0/1.68885,Exponential Background = 0/-0), !coefficients=(Gauss_Norm_Bp = 4.37338e+06,exp_Norm_Bp = 610053)\n",
            "     getLogVal() top-level p.d.f evaluates to zero @ !refCoefNorm=(), !pdfs=(Gaussian Signal = 0/1.68885,Exponential Background = 0/-0), !coefficients=(Gauss_Norm_Bp = 4.37338e+06,exp_Norm_Bp = 610053)\n",
            "     getLogVal() top-level p.d.f evaluates to zero @ !refCoefNorm=(), !pdfs=(Gaussian Signal = 0/1.68885,Exponential Background = 0/-0), !coefficients=(Gauss_Norm_Bp = 4.37338e+06,exp_Norm_Bp = 610053)\n",
            "     getLogVal() top-level p.d.f evaluates to zero @ !refCoefNorm=(), !pdfs=(Gaussian Signal = 0/1.68885,Exponential Background = 0/-0), !coefficients=(Gauss_Norm_Bp = 4.37338e+06,exp_Norm_Bp = 610053)\n",
            "     getLogVal() top-level p.d.f evaluates to zero @ !refCoefNorm=(), !pdfs=(Gaussian Signal = 0/1.68885,Exponential Background = 0/-0), !coefficients=(Gauss_Norm_Bp = 4.37338e+06,exp_Norm_Bp = 610053)\n",
            "     getLogVal() top-level p.d.f evaluates to zero @ !refCoefNorm=(), !pdfs=(Gaussian Signal = 0/1.68885,Exponential Background = 0/-0), !coefficients=(Gauss_Norm_Bp = 4.37338e+06,exp_Norm_Bp = 610053)\n",
            "     getLogVal() top-level p.d.f evaluates to zero @ !refCoefNorm=(), !pdfs=(Gaussian Signal = 0/1.68885,Exponential Background = 0/-0), !coefficients=(Gauss_Norm_Bp = 4.37338e+06,exp_Norm_Bp = 610053)\n",
            "     getLogVal() top-level p.d.f evaluates to zero @ !refCoefNorm=(), !pdfs=(Gaussian Signal = 0/1.68885,Exponential Background = 0/-0), !coefficients=(Gauss_Norm_Bp = 4.37338e+06,exp_Norm_Bp = 610053)\n",
            "     getLogVal() top-level p.d.f evaluates to zero @ !refCoefNorm=(), !pdfs=(Gaussian Signal = 0/1.68885,Exponential Background = 0/-0), !coefficients=(Gauss_Norm_Bp = 4.37338e+06,exp_Norm_Bp = 610053)\n",
            "     getLogVal() top-level p.d.f evaluates to zero @ !refCoefNorm=(), !pdfs=(Gaussian Signal = 0/1.68885,Exponential Background = 0/-0), !coefficients=(Gauss_Norm_Bp = 4.37338e+06,exp_Norm_Bp = 610053)\n",
            "    ... (remaining 2038 messages suppressed)\n",
            "RooNLLVar::nll_Full Model_Data Set[ paramSet=(Gauss_Norm_Bp,Mean,Width,exp_Norm_Bp,exponent) ]\n",
            "     function value is NAN @ paramSet=(Gauss_Norm_Bp = 4.37338e+06,Mean = 5252.91,Width = 0.673754,exp_Norm_Bp = 610053,exponent = -1.99966)\n",
            "RooExponential::Exponential Background[ x=M_m0 c=exponent ]\n",
            "     p.d.f normalization integral is zero or negative @ x=M_m0=5267.45, c=exponent=-1.99966\n",
            "     p.d.f normalization integral is zero or negative @ x=M_m0=5053.94, c=exponent=-1.99966\n",
            "     p.d.f normalization integral is zero or negative @ x=M_m0=5422.17, c=exponent=-1.99966\n",
            "     p.d.f normalization integral is zero or negative @ x=M_m0=5250.34, c=exponent=-1.99966\n",
            "     p.d.f normalization integral is zero or negative @ x=M_m0=5340.56, c=exponent=-1.99966\n",
            "     p.d.f normalization integral is zero or negative @ x=M_m0=5415.71, c=exponent=-1.99966\n",
            "     p.d.f normalization integral is zero or negative @ x=M_m0=5287.71, c=exponent=-1.99966\n",
            "     p.d.f normalization integral is zero or negative @ x=M_m0=5237.53, c=exponent=-1.99966\n",
            "     p.d.f normalization integral is zero or negative @ x=M_m0=5389.79, c=exponent=-1.99966\n",
            "     p.d.f normalization integral is zero or negative @ x=M_m0=5477.85, c=exponent=-1.99966\n",
            "     p.d.f normalization integral is zero or negative @ x=M_m0=5246.66, c=exponent=-1.99966\n",
            "     p.d.f normalization integral is zero or negative @ x=M_m0=5196.48, c=exponent=-1.99966\n",
            "    ... (remaining 2038 messages suppressed)\n",
            "\n",
            "[#0] WARNING:Minization -- RooMinimizerFcn: Minimized function has error status.\n",
            "Returning maximum FCN so far (4.54742e+06) to force MIGRAD to back out of this region. Error log follows\n",
            "Parameter values: Gauss_Norm_Bp=128130, Mean=5250.84, Width=19.248, exp_Norm_Bp=2.94374e+06, exponent=1.9917\n",
            "RooAddPdf::Full Model[ Gauss_Norm_Bp * Gaussian Signal + exp_Norm_Bp * Exponential Background ]\n",
            "     p.d.f value is Not-a-Number (-nan), forcing value to zero @ !refCoefNorm=(), !pdfs=(Gaussian Signal = 1.06197e-21/48.2477,Exponential Background = inf/-nan), !coefficients=(Gauss_Norm_Bp = 128130,exp_Norm_Bp = 2.94374e+06)\n",
            "     getLogVal() top-level p.d.f evaluates to zero @ !refCoefNorm=(), !pdfs=(Gaussian Signal = 1.06197e-21/48.2477,Exponential Background = inf/-nan), !coefficients=(Gauss_Norm_Bp = 128130,exp_Norm_Bp = 2.94374e+06)\n",
            "     p.d.f value is Not-a-Number (-nan), forcing value to zero @ !refCoefNorm=(), !pdfs=(Gaussian Signal = 0.999961/48.2477,Exponential Background = inf/-nan), !coefficients=(Gauss_Norm_Bp = 128130,exp_Norm_Bp = 2.94374e+06)\n",
            "     getLogVal() top-level p.d.f evaluates to zero @ !refCoefNorm=(), !pdfs=(Gaussian Signal = 0.999961/48.2477,Exponential Background = inf/-nan), !coefficients=(Gauss_Norm_Bp = 128130,exp_Norm_Bp = 2.94374e+06)\n",
            "     p.d.f value is Not-a-Number (-nan), forcing value to zero @ !refCoefNorm=(), !pdfs=(Gaussian Signal = 0.00314103/48.2477,Exponential Background = inf/-nan), !coefficients=(Gauss_Norm_Bp = 128130,exp_Norm_Bp = 2.94374e+06)\n",
            "     getLogVal() top-level p.d.f evaluates to zero @ !refCoefNorm=(), !pdfs=(Gaussian Signal = 0.00314103/48.2477,Exponential Background = inf/-nan), !coefficients=(Gauss_Norm_Bp = 128130,exp_Norm_Bp = 2.94374e+06)\n",
            "     p.d.f value is Not-a-Number (-nan), forcing value to zero @ !refCoefNorm=(), !pdfs=(Gaussian Signal = 1.00777e-06/48.2477,Exponential Background = inf/-nan), !coefficients=(Gauss_Norm_Bp = 128130,exp_Norm_Bp = 2.94374e+06)\n",
            "     getLogVal() top-level p.d.f evaluates to zero @ !refCoefNorm=(), !pdfs=(Gaussian Signal = 1.00777e-06/48.2477,Exponential Background = inf/-nan), !coefficients=(Gauss_Norm_Bp = 128130,exp_Norm_Bp = 2.94374e+06)\n",
            "     p.d.f value is Not-a-Number (-nan), forcing value to zero @ !refCoefNorm=(), !pdfs=(Gaussian Signal = 0.884928/48.2477,Exponential Background = inf/-nan), !coefficients=(Gauss_Norm_Bp = 128130,exp_Norm_Bp = 2.94374e+06)\n",
            "     getLogVal() top-level p.d.f evaluates to zero @ !refCoefNorm=(), !pdfs=(Gaussian Signal = 0.884928/48.2477,Exponential Background = inf/-nan), !coefficients=(Gauss_Norm_Bp = 128130,exp_Norm_Bp = 2.94374e+06)\n",
            "     p.d.f value is Not-a-Number (-nan), forcing value to zero @ !refCoefNorm=(), !pdfs=(Gaussian Signal = 1.92493e-10/48.2477,Exponential Background = inf/-nan), !coefficients=(Gauss_Norm_Bp = 128130,exp_Norm_Bp = 2.94374e+06)\n",
            "     getLogVal() top-level p.d.f evaluates to zero @ !refCoefNorm=(), !pdfs=(Gaussian Signal = 1.92493e-10/48.2477,Exponential Background = inf/-nan), !coefficients=(Gauss_Norm_Bp = 128130,exp_Norm_Bp = 2.94374e+06)\n",
            "    ... (remaining 2038 messages suppressed)\n",
            "RooNLLVar::nll_Full Model_Data Set[ paramSet=(Gauss_Norm_Bp,Mean,Width,exp_Norm_Bp,exponent) ]\n",
            "     function value is NAN @ paramSet=(Gauss_Norm_Bp = 128130,Mean = 5250.84,Width = 19.248,exp_Norm_Bp = 2.94374e+06,exponent = 1.9917)\n",
            "RooRealIntegral::Exponential Background_Int[M_m0][ Int Exponential Backgroundd[Ana](M_m0) ]\n",
            "     function value is NAN @ !sumList=(), !intList=(), !anaList=(M_m0 = 5180.1), !jacList=(), !facList=(), !func=Exponential Background=inf/-0, !sumCat=()\n",
            "\n",
            "[#0] WARNING:Minization -- RooMinimizerFcn: Minimized function has error status.\n",
            "Returning maximum FCN so far (4.54742e+06) to force MIGRAD to back out of this region. Error log follows\n",
            "Parameter values: Gauss_Norm_Bp=365666, Mean=5345.09, Width=31.2742, exp_Norm_Bp=4.31668e+06, exponent=0.298308\n",
            "RooAddPdf::Full Model[ Gauss_Norm_Bp * Gaussian Signal + exp_Norm_Bp * Exponential Background ]\n",
            "     p.d.f value is Not-a-Number (-nan), forcing value to zero @ !refCoefNorm=(), !pdfs=(Gaussian Signal = 1.46978e-18/78.3927,Exponential Background = inf/-nan), !coefficients=(Gauss_Norm_Bp = 365666,exp_Norm_Bp = 4.31668e+06)\n",
            "     getLogVal() top-level p.d.f evaluates to zero @ !refCoefNorm=(), !pdfs=(Gaussian Signal = 1.46978e-18/78.3927,Exponential Background = inf/-nan), !coefficients=(Gauss_Norm_Bp = 365666,exp_Norm_Bp = 4.31668e+06)\n",
            "     p.d.f value is Not-a-Number (-nan), forcing value to zero @ !refCoefNorm=(), !pdfs=(Gaussian Signal = 0.0104952/78.3927,Exponential Background = inf/-nan), !coefficients=(Gauss_Norm_Bp = 365666,exp_Norm_Bp = 4.31668e+06)\n",
            "     getLogVal() top-level p.d.f evaluates to zero @ !refCoefNorm=(), !pdfs=(Gaussian Signal = 0.0104952/78.3927,Exponential Background = inf/-nan), !coefficients=(Gauss_Norm_Bp = 365666,exp_Norm_Bp = 4.31668e+06)\n",
            "     p.d.f value is Not-a-Number (-nan), forcing value to zero @ !refCoefNorm=(), !pdfs=(Gaussian Signal = 2.21514e-06/78.3927,Exponential Background = inf/-nan), !coefficients=(Gauss_Norm_Bp = 365666,exp_Norm_Bp = 4.31668e+06)\n",
            "     getLogVal() top-level p.d.f evaluates to zero @ !refCoefNorm=(), !pdfs=(Gaussian Signal = 2.21514e-06/78.3927,Exponential Background = inf/-nan), !coefficients=(Gauss_Norm_Bp = 365666,exp_Norm_Bp = 4.31668e+06)\n",
            "     p.d.f value is Not-a-Number (-nan), forcing value to zero @ !refCoefNorm=(), !pdfs=(Gaussian Signal = 0.975913/78.3927,Exponential Background = inf/-nan), !coefficients=(Gauss_Norm_Bp = 365666,exp_Norm_Bp = 4.31668e+06)\n",
            "     getLogVal() top-level p.d.f evaluates to zero @ !refCoefNorm=(), !pdfs=(Gaussian Signal = 0.975913/78.3927,Exponential Background = inf/-nan), !coefficients=(Gauss_Norm_Bp = 365666,exp_Norm_Bp = 4.31668e+06)\n",
            "     p.d.f value is Not-a-Number (-nan), forcing value to zero @ !refCoefNorm=(), !pdfs=(Gaussian Signal = 0.0254845/78.3927,Exponential Background = inf/-nan), !coefficients=(Gauss_Norm_Bp = 365666,exp_Norm_Bp = 4.31668e+06)\n",
            "     getLogVal() top-level p.d.f evaluates to zero @ !refCoefNorm=(), !pdfs=(Gaussian Signal = 0.0254845/78.3927,Exponential Background = inf/-nan), !coefficients=(Gauss_Norm_Bp = 365666,exp_Norm_Bp = 4.31668e+06)\n",
            "     p.d.f value is Not-a-Number (-nan), forcing value to zero @ !refCoefNorm=(), !pdfs=(Gaussian Signal = 0.544075/78.3927,Exponential Background = inf/-nan), !coefficients=(Gauss_Norm_Bp = 365666,exp_Norm_Bp = 4.31668e+06)\n",
            "     getLogVal() top-level p.d.f evaluates to zero @ !refCoefNorm=(), !pdfs=(Gaussian Signal = 0.544075/78.3927,Exponential Background = inf/-nan), !coefficients=(Gauss_Norm_Bp = 365666,exp_Norm_Bp = 4.31668e+06)\n",
            "    ... (remaining 2038 messages suppressed)\n",
            "RooNLLVar::nll_Full Model_Data Set[ paramSet=(Gauss_Norm_Bp,Mean,Width,exp_Norm_Bp,exponent) ]\n",
            "     function value is NAN @ paramSet=(Gauss_Norm_Bp = 365666,Mean = 5345.09,Width = 31.2742,exp_Norm_Bp = 4.31668e+06,exponent = 0.298308)\n",
            "RooRealIntegral::Exponential Background_Int[M_m0][ Int Exponential Backgroundd[Ana](M_m0) ]\n",
            "     function value is NAN @ !sumList=(), !intList=(), !anaList=(M_m0 = 5180.1), !jacList=(), !facList=(), !func=Exponential Background=inf/-nan, !sumCat=()\n",
            "\n",
            "[#0] WARNING:Minization -- RooMinimizerFcn: Minimized function has error status.\n",
            "Returning maximum FCN so far (4.54742e+06) to force MIGRAD to back out of this region. Error log follows\n",
            "Parameter values: Gauss_Norm_Bp=9.08507e+06, Mean=5327.35, Width=4.1223, exp_Norm_Bp=4.91755e+06, exponent=-1.12722\n",
            "RooAddPdf::Full Model[ Gauss_Norm_Bp * Gaussian Signal + exp_Norm_Bp * Exponential Background ]\n",
            "     getLogVal() top-level p.d.f evaluates to zero @ !refCoefNorm=(), !pdfs=(Gaussian Signal = 0/10.3331,Exponential Background = 0/-0), !coefficients=(Gauss_Norm_Bp = 9.08507e+06,exp_Norm_Bp = 4.91755e+06)\n",
            "     getLogVal() top-level p.d.f evaluates to zero @ !refCoefNorm=(), !pdfs=(Gaussian Signal = 0/10.3331,Exponential Background = 0/-0), !coefficients=(Gauss_Norm_Bp = 9.08507e+06,exp_Norm_Bp = 4.91755e+06)\n",
            "     getLogVal() top-level p.d.f evaluates to zero @ !refCoefNorm=(), !pdfs=(Gaussian Signal = 0/10.3331,Exponential Background = 0/-0), !coefficients=(Gauss_Norm_Bp = 9.08507e+06,exp_Norm_Bp = 4.91755e+06)\n",
            "     getLogVal() top-level p.d.f evaluates to zero @ !refCoefNorm=(), !pdfs=(Gaussian Signal = 0/10.3331,Exponential Background = 0/-0), !coefficients=(Gauss_Norm_Bp = 9.08507e+06,exp_Norm_Bp = 4.91755e+06)\n",
            "     getLogVal() top-level p.d.f evaluates to zero @ !refCoefNorm=(), !pdfs=(Gaussian Signal = 0/10.3331,Exponential Background = 0/-0), !coefficients=(Gauss_Norm_Bp = 9.08507e+06,exp_Norm_Bp = 4.91755e+06)\n",
            "     getLogVal() top-level p.d.f evaluates to zero @ !refCoefNorm=(), !pdfs=(Gaussian Signal = 0/10.3331,Exponential Background = 0/-0), !coefficients=(Gauss_Norm_Bp = 9.08507e+06,exp_Norm_Bp = 4.91755e+06)\n",
            "     getLogVal() top-level p.d.f evaluates to zero @ !refCoefNorm=(), !pdfs=(Gaussian Signal = 0/10.3331,Exponential Background = 0/-0), !coefficients=(Gauss_Norm_Bp = 9.08507e+06,exp_Norm_Bp = 4.91755e+06)\n",
            "     getLogVal() top-level p.d.f evaluates to zero @ !refCoefNorm=(), !pdfs=(Gaussian Signal = 0/10.3331,Exponential Background = 0/-0), !coefficients=(Gauss_Norm_Bp = 9.08507e+06,exp_Norm_Bp = 4.91755e+06)\n",
            "     getLogVal() top-level p.d.f evaluates to zero @ !refCoefNorm=(), !pdfs=(Gaussian Signal = 0/10.3331,Exponential Background = 0/-0), !coefficients=(Gauss_Norm_Bp = 9.08507e+06,exp_Norm_Bp = 4.91755e+06)\n",
            "     getLogVal() top-level p.d.f evaluates to zero @ !refCoefNorm=(), !pdfs=(Gaussian Signal = 0/10.3331,Exponential Background = 0/-0), !coefficients=(Gauss_Norm_Bp = 9.08507e+06,exp_Norm_Bp = 4.91755e+06)\n",
            "     getLogVal() top-level p.d.f evaluates to zero @ !refCoefNorm=(), !pdfs=(Gaussian Signal = 0/10.3331,Exponential Background = 0/-0), !coefficients=(Gauss_Norm_Bp = 9.08507e+06,exp_Norm_Bp = 4.91755e+06)\n",
            "     getLogVal() top-level p.d.f evaluates to zero @ !refCoefNorm=(), !pdfs=(Gaussian Signal = 0/10.3331,Exponential Background = 0/-0), !coefficients=(Gauss_Norm_Bp = 9.08507e+06,exp_Norm_Bp = 4.91755e+06)\n",
            "    ... (remaining 2038 messages suppressed)\n",
            "RooNLLVar::nll_Full Model_Data Set[ paramSet=(Gauss_Norm_Bp,Mean,Width,exp_Norm_Bp,exponent) ]\n",
            "     function value is NAN @ paramSet=(Gauss_Norm_Bp = 9.08507e+06,Mean = 5327.35,Width = 4.1223,exp_Norm_Bp = 4.91755e+06,exponent = -1.12722)\n",
            "RooExponential::Exponential Background[ x=M_m0 c=exponent ]\n",
            "     p.d.f normalization integral is zero or negative @ x=M_m0=5267.45, c=exponent=-1.12722\n",
            "     p.d.f normalization integral is zero or negative @ x=M_m0=5053.94, c=exponent=-1.12722\n",
            "     p.d.f normalization integral is zero or negative @ x=M_m0=5422.17, c=exponent=-1.12722\n",
            "     p.d.f normalization integral is zero or negative @ x=M_m0=5250.34, c=exponent=-1.12722\n",
            "     p.d.f normalization integral is zero or negative @ x=M_m0=5340.56, c=exponent=-1.12722\n",
            "     p.d.f normalization integral is zero or negative @ x=M_m0=5415.71, c=exponent=-1.12722\n",
            "     p.d.f normalization integral is zero or negative @ x=M_m0=5287.71, c=exponent=-1.12722\n",
            "     p.d.f normalization integral is zero or negative @ x=M_m0=5237.53, c=exponent=-1.12722\n",
            "     p.d.f normalization integral is zero or negative @ x=M_m0=5389.79, c=exponent=-1.12722\n",
            "     p.d.f normalization integral is zero or negative @ x=M_m0=5477.85, c=exponent=-1.12722\n",
            "     p.d.f normalization integral is zero or negative @ x=M_m0=5246.66, c=exponent=-1.12722\n",
            "     p.d.f normalization integral is zero or negative @ x=M_m0=5196.48, c=exponent=-1.12722\n",
            "    ... (remaining 2038 messages suppressed)\n",
            "\n",
            "[#0] WARNING:Minization -- RooMinimizerFcn: Minimized function has error status.\n",
            "Returning maximum FCN so far (4.54742e+06) to force MIGRAD to back out of this region. Error log follows\n",
            "Parameter values: Gauss_Norm_Bp=1.23007e+06, Mean=5292.99, Width=29.4891, exp_Norm_Bp=1.72668e+06, exponent=1.63572\n",
            "RooAddPdf::Full Model[ Gauss_Norm_Bp * Gaussian Signal + exp_Norm_Bp * Exponential Background ]\n",
            "     p.d.f value is Not-a-Number (-nan), forcing value to zero @ !refCoefNorm=(), !pdfs=(Gaussian Signal = 4.35328e-14/73.9182,Exponential Background = inf/-nan), !coefficients=(Gauss_Norm_Bp = 1.23007e+06,exp_Norm_Bp = 1.72668e+06)\n",
            "     getLogVal() top-level p.d.f evaluates to zero @ !refCoefNorm=(), !pdfs=(Gaussian Signal = 4.35328e-14/73.9182,Exponential Background = inf/-nan), !coefficients=(Gauss_Norm_Bp = 1.23007e+06,exp_Norm_Bp = 1.72668e+06)\n",
            "     p.d.f value is Not-a-Number (-nan), forcing value to zero @ !refCoefNorm=(), !pdfs=(Gaussian Signal = 0.357127/73.9182,Exponential Background = inf/-nan), !coefficients=(Gauss_Norm_Bp = 1.23007e+06,exp_Norm_Bp = 1.72668e+06)\n",
            "     getLogVal() top-level p.d.f evaluates to zero @ !refCoefNorm=(), !pdfs=(Gaussian Signal = 0.357127/73.9182,Exponential Background = inf/-nan), !coefficients=(Gauss_Norm_Bp = 1.23007e+06,exp_Norm_Bp = 1.72668e+06)\n",
            "     p.d.f value is Not-a-Number (-nan), forcing value to zero @ !refCoefNorm=(), !pdfs=(Gaussian Signal = 0.00130174/73.9182,Exponential Background = inf/-nan), !coefficients=(Gauss_Norm_Bp = 1.23007e+06,exp_Norm_Bp = 1.72668e+06)\n",
            "     getLogVal() top-level p.d.f evaluates to zero @ !refCoefNorm=(), !pdfs=(Gaussian Signal = 0.00130174/73.9182,Exponential Background = inf/-nan), !coefficients=(Gauss_Norm_Bp = 1.23007e+06,exp_Norm_Bp = 1.72668e+06)\n",
            "     p.d.f value is Not-a-Number (-nan), forcing value to zero @ !refCoefNorm=(), !pdfs=(Gaussian Signal = 0.135122/73.9182,Exponential Background = inf/-nan), !coefficients=(Gauss_Norm_Bp = 1.23007e+06,exp_Norm_Bp = 1.72668e+06)\n",
            "     getLogVal() top-level p.d.f evaluates to zero @ !refCoefNorm=(), !pdfs=(Gaussian Signal = 0.135122/73.9182,Exponential Background = inf/-nan), !coefficients=(Gauss_Norm_Bp = 1.23007e+06,exp_Norm_Bp = 1.72668e+06)\n",
            "     p.d.f value is Not-a-Number (-nan), forcing value to zero @ !refCoefNorm=(), !pdfs=(Gaussian Signal = 0.542157/73.9182,Exponential Background = inf/-nan), !coefficients=(Gauss_Norm_Bp = 1.23007e+06,exp_Norm_Bp = 1.72668e+06)\n",
            "     getLogVal() top-level p.d.f evaluates to zero @ !refCoefNorm=(), !pdfs=(Gaussian Signal = 0.542157/73.9182,Exponential Background = inf/-nan), !coefficients=(Gauss_Norm_Bp = 1.23007e+06,exp_Norm_Bp = 1.72668e+06)\n",
            "     p.d.f value is Not-a-Number (-nan), forcing value to zero @ !refCoefNorm=(), !pdfs=(Gaussian Signal = 0.0134047/73.9182,Exponential Background = inf/-nan), !coefficients=(Gauss_Norm_Bp = 1.23007e+06,exp_Norm_Bp = 1.72668e+06)\n",
            "     getLogVal() top-level p.d.f evaluates to zero @ !refCoefNorm=(), !pdfs=(Gaussian Signal = 0.0134047/73.9182,Exponential Background = inf/-nan), !coefficients=(Gauss_Norm_Bp = 1.23007e+06,exp_Norm_Bp = 1.72668e+06)\n",
            "    ... (remaining 2038 messages suppressed)\n",
            "RooNLLVar::nll_Full Model_Data Set[ paramSet=(Gauss_Norm_Bp,Mean,Width,exp_Norm_Bp,exponent) ]\n",
            "     function value is NAN @ paramSet=(Gauss_Norm_Bp = 1.23007e+06,Mean = 5292.99,Width = 29.4891,exp_Norm_Bp = 1.72668e+06,exponent = 1.63572)\n",
            "RooRealIntegral::Exponential Background_Int[M_m0][ Int Exponential Backgroundd[Ana](M_m0) ]\n",
            "     function value is NAN @ !sumList=(), !intList=(), !anaList=(M_m0 = 5180.1), !jacList=(), !facList=(), !func=Exponential Background=inf/-0, !sumCat=()\n",
            "\n",
            "[#0] WARNING:Minization -- RooMinimizerFcn: Minimized function has error status.\n",
            "Returning maximum FCN so far (4.54742e+06) to force MIGRAD to back out of this region. Error log follows\n",
            "Parameter values: Gauss_Norm_Bp=1.01581e+07, Mean=5276.02, Width=38.6396, exp_Norm_Bp=406071, exponent=0.895499\n",
            "RooAddPdf::Full Model[ Gauss_Norm_Bp * Gaussian Signal + exp_Norm_Bp * Exponential Background ]\n",
            "     p.d.f value is Not-a-Number (-nan), forcing value to zero @ !refCoefNorm=(), !pdfs=(Gaussian Signal = 2.07959e-07/96.8552,Exponential Background = inf/-nan), !coefficients=(Gauss_Norm_Bp = 1.01581e+07,exp_Norm_Bp = 406071)\n",
            "     getLogVal() top-level p.d.f evaluates to zero @ !refCoefNorm=(), !pdfs=(Gaussian Signal = 2.07959e-07/96.8552,Exponential Background = inf/-nan), !coefficients=(Gauss_Norm_Bp = 1.01581e+07,exp_Norm_Bp = 406071)\n",
            "     p.d.f value is Not-a-Number (-nan), forcing value to zero @ !refCoefNorm=(), !pdfs=(Gaussian Signal = 0.806445/96.8552,Exponential Background = inf/-nan), !coefficients=(Gauss_Norm_Bp = 1.01581e+07,exp_Norm_Bp = 406071)\n",
            "     getLogVal() top-level p.d.f evaluates to zero @ !refCoefNorm=(), !pdfs=(Gaussian Signal = 0.806445/96.8552,Exponential Background = inf/-nan), !coefficients=(Gauss_Norm_Bp = 1.01581e+07,exp_Norm_Bp = 406071)\n",
            "     p.d.f value is Not-a-Number (-nan), forcing value to zero @ !refCoefNorm=(), !pdfs=(Gaussian Signal = 0.0642974/96.8552,Exponential Background = inf/-nan), !coefficients=(Gauss_Norm_Bp = 1.01581e+07,exp_Norm_Bp = 406071)\n",
            "     getLogVal() top-level p.d.f evaluates to zero @ !refCoefNorm=(), !pdfs=(Gaussian Signal = 0.0642974/96.8552,Exponential Background = inf/-nan), !coefficients=(Gauss_Norm_Bp = 1.01581e+07,exp_Norm_Bp = 406071)\n",
            "     p.d.f value is Not-a-Number (-nan), forcing value to zero @ !refCoefNorm=(), !pdfs=(Gaussian Signal = 0.144708/96.8552,Exponential Background = inf/-nan), !coefficients=(Gauss_Norm_Bp = 1.01581e+07,exp_Norm_Bp = 406071)\n",
            "     getLogVal() top-level p.d.f evaluates to zero @ !refCoefNorm=(), !pdfs=(Gaussian Signal = 0.144708/96.8552,Exponential Background = inf/-nan), !coefficients=(Gauss_Norm_Bp = 1.01581e+07,exp_Norm_Bp = 406071)\n",
            "     p.d.f value is Not-a-Number (-nan), forcing value to zero @ !refCoefNorm=(), !pdfs=(Gaussian Signal = 0.921181/96.8552,Exponential Background = inf/-nan), !coefficients=(Gauss_Norm_Bp = 1.01581e+07,exp_Norm_Bp = 406071)\n",
            "     getLogVal() top-level p.d.f evaluates to zero @ !refCoefNorm=(), !pdfs=(Gaussian Signal = 0.921181/96.8552,Exponential Background = inf/-nan), !coefficients=(Gauss_Norm_Bp = 1.01581e+07,exp_Norm_Bp = 406071)\n",
            "     p.d.f value is Not-a-Number (-nan), forcing value to zero @ !refCoefNorm=(), !pdfs=(Gaussian Signal = 0.0275271/96.8552,Exponential Background = inf/-nan), !coefficients=(Gauss_Norm_Bp = 1.01581e+07,exp_Norm_Bp = 406071)\n",
            "     getLogVal() top-level p.d.f evaluates to zero @ !refCoefNorm=(), !pdfs=(Gaussian Signal = 0.0275271/96.8552,Exponential Background = inf/-nan), !coefficients=(Gauss_Norm_Bp = 1.01581e+07,exp_Norm_Bp = 406071)\n",
            "    ... (remaining 2038 messages suppressed)\n",
            "RooNLLVar::nll_Full Model_Data Set[ paramSet=(Gauss_Norm_Bp,Mean,Width,exp_Norm_Bp,exponent) ]\n",
            "     function value is NAN @ paramSet=(Gauss_Norm_Bp = 1.01581e+07,Mean = 5276.02,Width = 38.6396,exp_Norm_Bp = 406071,exponent = 0.895499)\n",
            "RooRealIntegral::Exponential Background_Int[M_m0][ Int Exponential Backgroundd[Ana](M_m0) ]\n",
            "     function value is NAN @ !sumList=(), !intList=(), !anaList=(M_m0 = 5180.1), !jacList=(), !facList=(), !func=Exponential Background=inf/-nan, !sumCat=()\n",
            "\n",
            " MIGRAD FAILS TO FIND IMPROVEMENT\n",
            " COVARIANCE MATRIX CALCULATED SUCCESSFULLY\n",
            " FCN=-51879 FROM HESSE     STATUS=OK             31 CALLS         267 TOTAL\n",
            "                     EDM=9623.83    STRATEGY= 1      ERROR MATRIX ACCURATE \n",
            "  EXT PARAMETER                                   STEP         FIRST   \n",
            "  NO.   NAME      VALUE            ERROR          SIZE      DERIVATIVE \n",
            "   1  Gauss_Norm_Bp   1.98614e+04   1.72345e+02   5.10549e-05   1.97635e+05\n",
            "   2  Mean         5.26274e+03   8.82197e-01   3.63179e-03   7.40315e+02\n",
            "   3  Width        3.91224e+01   8.79079e-02   2.25332e-03  -1.44374e+03\n",
            "   4  exp_Norm_Bp   3.31188e+03   4.68078e+01   4.69064e-05  -3.24929e+05\n",
            "   5  exponent    -1.66667e-03   8.85212e-05   1.07277e-05   1.70840e+05\n",
            "                               ERR DEF= 0.5\n",
            " MIGRAD MINIMIZATION HAS CONVERGED.\n",
            " MIGRAD WILL VERIFY CONVERGENCE AND ERROR MATRIX.\n",
            " COVARIANCE MATRIX CALCULATED SUCCESSFULLY\n",
            " FCN=-63804.9 FROM MIGRAD    STATUS=CONVERGED     448 CALLS         449 TOTAL\n",
            "                     EDM=1.36647e-05    STRATEGY= 1      ERROR MATRIX ACCURATE \n",
            "  EXT PARAMETER                                   STEP         FIRST   \n",
            "  NO.   NAME      VALUE            ERROR          SIZE      DERIVATIVE \n",
            "   1  Gauss_Norm_Bp   3.74261e+03   9.95161e+01   7.37743e-05  -2.86938e+00\n",
            "   2  Mean         5.28227e+03   5.75830e-01   2.10222e-03   2.05706e-01\n",
            "   3  Width        2.03054e+01   5.82477e-01   4.34753e-03   5.52993e-02\n",
            "   4  exp_Norm_Bp   1.78785e+04   1.55009e+02   7.02092e-05   2.37105e+00\n",
            "   5  exponent    -1.69673e-03   5.93123e-05   5.12089e-06   5.17801e+01\n",
            "                               ERR DEF= 0.5\n",
            " EXTERNAL ERROR MATRIX.    NDIM=  25    NPAR=  5    ERR DEF=0.5\n",
            "  9.903e+03  6.621e+00  2.804e+01 -6.153e+03 -6.617e-04 \n",
            "  6.621e+00  3.316e-01  6.487e-02 -6.609e+00  2.025e-06 \n",
            "  2.804e+01  6.487e-02  3.394e-01 -2.799e+01 -2.569e-06 \n",
            " -6.153e+03 -6.609e+00 -2.799e+01  2.403e+04  6.613e-04 \n",
            " -6.617e-04  2.025e-06 -2.569e-06  6.613e-04  3.518e-09 \n",
            " PARAMETER  CORRELATION COEFFICIENTS  \n",
            "       NO.  GLOBAL      1      2      3      4      5\n",
            "        1  0.55405   1.000  0.116  0.484 -0.399 -0.112\n",
            "        2  0.20965   0.116  1.000  0.193 -0.074  0.059\n",
            "        3  0.51865   0.484  0.193  1.000 -0.310 -0.074\n",
            "        4  0.42148  -0.399 -0.074 -0.310  1.000  0.072\n",
            "        5  0.14077  -0.112  0.059 -0.074  0.072  1.000\n",
            " **********\n",
            " **    7 **SET ERR         0.5\n",
            " **********\n",
            " **********\n",
            " **    8 **SET PRINT           1\n",
            " **********\n",
            " **********\n",
            " **    9 **HESSE        2500\n",
            " **********\n",
            " COVARIANCE MATRIX CALCULATED SUCCESSFULLY\n",
            " FCN=-63804.9 FROM HESSE     STATUS=OK             31 CALLS         480 TOTAL\n",
            "                     EDM=1.36652e-05    STRATEGY= 1      ERROR MATRIX ACCURATE \n",
            "  EXT PARAMETER                                INTERNAL      INTERNAL  \n",
            "  NO.   NAME      VALUE            ERROR       STEP SIZE       VALUE   \n",
            "   1  Gauss_Norm_Bp   3.74261e+03   9.96610e+01   1.47549e-05  -1.53260e+00\n",
            "   2  Mean         5.28227e+03   5.75748e-01   4.20445e-04  -2.77906e+00\n",
            "   3  Width        2.03054e+01   5.83187e-01   1.73901e-04   1.52700e-02\n",
            "   4  exp_Norm_Bp   1.78785e+04   1.55132e+02   1.40418e-05  -1.46850e+00\n",
            "   5  exponent    -1.69673e-03   5.93171e-05   1.02418e-06  -8.48365e-04\n",
            "                               ERR DEF= 0.5\n",
            " EXTERNAL ERROR MATRIX.    NDIM=  25    NPAR=  5    ERR DEF=0.5\n",
            "  9.932e+03  6.675e+00  2.823e+01 -6.188e+03 -6.666e-04 \n",
            "  6.675e+00  3.315e-01  6.467e-02 -6.672e+00  2.015e-06 \n",
            "  2.823e+01  6.467e-02  3.402e-01 -2.822e+01 -2.604e-06 \n",
            " -6.188e+03 -6.672e+00 -2.822e+01  2.407e+04  6.666e-04 \n",
            " -6.666e-04  2.015e-06 -2.604e-06  6.666e-04  3.519e-09 \n",
            " PARAMETER  CORRELATION COEFFICIENTS  \n",
            "       NO.  GLOBAL      1      2      3      4      5\n",
            "        1  0.55586   1.000  0.116  0.486 -0.400 -0.113\n",
            "        2  0.20901   0.116  1.000  0.193 -0.075  0.059\n",
            "        3  0.52035   0.486  0.193  1.000 -0.312 -0.075\n",
            "        4  0.42303  -0.400 -0.075 -0.312  1.000  0.072\n",
            "        5  0.14134  -0.113  0.059 -0.075  0.072  1.000\n",
            "[#1] INFO:Minization -- RooMinimizer::optimizeConst: deactivating const optimization\n"
          ],
          "name": "stdout"
        }
      ]
    },
    {
      "cell_type": "code",
      "metadata": {
        "colab": {
          "base_uri": "https://localhost:8080/",
          "height": 580
        },
        "id": "I-ezTt0EXPJh",
        "outputId": "2105f5be-7f2a-4a86-cc15-fae1a9da3f2b"
      },
      "source": [
        "#Now to plot it all\r\n",
        "c1=ROOT.TCanvas(\"c1\",\"c1\")\r\n",
        "c1.Draw()\r\n",
        "frame=mass.frame()\r\n",
        "data_to_fit.plotOn(frame)\r\n",
        "model.plotOn(frame, ROOT.RooFit.Components(\"Gaussian Signal\"),ROOT.RooFit.LineColor(8),ROOT.RooFit.LineStyle(2))\r\n",
        "model.plotOn(frame, ROOT.RooFit.Components(\"Exponential Background\"),ROOT.RooFit.LineColor(46),ROOT.RooFit.LineStyle(2))\r\n",
        "model.plotOn(frame)\r\n",
        "frame.Draw()\r\n",
        "c1.Update()"
      ],
      "execution_count": 76,
      "outputs": [
        {
          "output_type": "stream",
          "text": [
            "[#1] INFO:Plotting -- RooAbsPdf::plotOn(Full Model) directly selected PDF components: (Gaussian Signal)\n",
            "[#1] INFO:Plotting -- RooAbsPdf::plotOn(Full Model) indirectly selected PDF components: ()\n",
            "[#1] INFO:Plotting -- RooAbsPdf::plotOn(Full Model) directly selected PDF components: (Exponential Background)\n",
            "[#1] INFO:Plotting -- RooAbsPdf::plotOn(Full Model) indirectly selected PDF components: ()\n"
          ],
          "name": "stdout"
        },
        {
          "output_type": "stream",
          "text": [
            "Warning in <TCanvas::Constructor>: Deleting canvas with same name: c1\n"
          ],
          "name": "stderr"
        },
        {
          "output_type": "display_data",
          "data": {
            "image/png": "[encoded data removed]",
            "text/plain": [
              "<IPython.core.display.Image object>"
            ]
          },
          "metadata": {
            "tags": []
          }
        }
      ]
    },
    {
      "cell_type": "code",
      "metadata": {
        "colab": {
          "base_uri": "https://localhost:8080/"
        },
        "id": "OjkA5QagZlAm",
        "outputId": "59edd4f6-2ded-4a8a-8d61-bceafd1400f0"
      },
      "source": [
        "#print signal yield with errors and report chi squared\r\n",
        "Signal_Yield_Bp=Gauss_Norm_Bp.getValV()\r\n",
        "Signal_Error_Bp=Gauss_Norm_Bp.getError()\r\n",
        "Signal_x2_Bp = frame.chiSquare()\r\n",
        "\r\n",
        "print(\"Signal Yield = \" + str(Signal_Yield))\r\n",
        "print(\"Signal Error = \" + str(Signal_Error))\r\n",
        "print(\"Signal Chi Squared = \" + str(Signal_x2))"
      ],
      "execution_count": 80,
      "outputs": [
        {
          "output_type": "stream",
          "text": [
            "Signal Yield = 6848.20756549\n",
            "Signal Error = 137.012356335\n",
            "Signal Chi Squared = 2.11536167361\n"
          ],
          "name": "stdout"
        }
      ]
    },
    {
      "cell_type": "markdown",
      "metadata": {
        "id": "T8VFWVUfZB6k"
      },
      "source": [
        "**For B-minus**"
      ]
    },
    {
      "cell_type": "code",
      "metadata": {
        "id": "egeDgAOLZF-r"
      },
      "source": [
        "#define physical measurment that we want to fit using RooRealVar\r\n",
        "# var = ROOT.RooRealVar =(\"Variable from Python\", \"Nickname\",Min, Max, Units)\r\n",
        "mass = ROOT.RooRealVar(\"M_m0\",\"Mass\",5050,5500,\"MeV/C^{2}\")\r\n",
        "\r\n",
        "#passing the rest of the variables into the model\r\n",
        "#For the RooRealVar the last three parameters are given, \"starting value\" and min/max values\r\n",
        "gaussMean = ROOT.RooRealVar(\"Mean\",\"Mean\",5300,5250,5350)\r\n",
        "gaussWidth = ROOT.RooRealVar(\"Width\",\"Width\",20,0,40)\r\n",
        "\r\n",
        "#Now we have enough to make our Model for the signal:\r\n",
        "\r\n",
        "Gauss=ROOT.RooGaussian(\"Gaussian Signal\",\"Gauss\",mass,gaussMean,gaussWidth)\r\n",
        "Gauss_Norm_Bm= ROOT.RooRealVar(\"Gauss_Norm_Bm\",\"Signal Yield\", tree.GetEntries()/30, 0, tree.GetEntries() * 3)\r\n",
        "#We also need a background, so let's use a (simple) exponential:\r\n",
        "\r\n",
        "exponent=ROOT.RooRealVar(\"exponent\", \"C\", -0.02, -2, +2)\r\n",
        "exp_Norm_Bm= ROOT.RooRealVar(\"exp_Norm_Bm\",\"Background Yield\", tree.GetEntries()/30, 0, tree.GetEntries() * 2)\r\n",
        "\r\n",
        "#Define the  model for the background:\r\n",
        "\r\n",
        "Bkgnd=ROOT.RooExponential(\"Exponential Background\",\"Bkgnd\",mass,exponent)\r\n",
        "\r\n",
        "#Now we need to combine these two functions into a single PDF (probability density function)\r\n",
        "#and we need to add the normalisation factors at the end as scaling factors\r\n",
        "\r\n",
        "model=ROOT.RooAddPdf(\"Full Model\",\"model\",ROOT.RooArgList(Gauss,Bkgnd),ROOT.RooArgList(Gauss_Norm_Bm, exp_Norm_Bm) )"
      ],
      "execution_count": 81,
      "outputs": []
    },
    {
      "cell_type": "code",
      "metadata": {
        "colab": {
          "base_uri": "https://localhost:8080/"
        },
        "id": "ydzYe8vHZMW4",
        "outputId": "b68bc58a-d2a5-497f-beff-a2e06da75e87"
      },
      "source": [
        "#Put our data set into a RooDataSet structure\r\n",
        "\r\n",
        "data_to_fit=ROOT.RooDataSet(\"Data Set\",\"data_to_fit\", CutTreeBm, ROOT.RooArgSet(mass))\r\n",
        "\r\n",
        "#Then we can do the fitting:\r\n",
        "\r\n",
        "model.fitTo(data_to_fit)\r\n",
        "\r\n",
        "#if everything went well, you will see the outputs of RooFit below"
      ],
      "execution_count": 82,
      "outputs": [
        {
          "output_type": "execute_result",
          "data": {
            "text/plain": [
              "<ROOT.RooFitResult object at 0x(nil)>"
            ]
          },
          "metadata": {
            "tags": []
          },
          "execution_count": 82
        },
        {
          "output_type": "stream",
          "text": [
            "[#1] INFO:Eval -- RooAbsReal::attachToTree(M_m0) TTree Float_t branch M_m0 will be converted to double precision\n",
            "[#1] INFO:Eval -- RooTreeDataStore::loadValues(Data Set) Ignored 27566 out of range events\n",
            "[#1] INFO:Minization -- p.d.f. provides expected number of events, including extended term in likelihood.\n",
            "[#1] INFO:Minization -- RooMinimizer::optimizeConst: activating const optimization\n",
            "[#1] INFO:Minization --  The following expressions will be evaluated in cache-and-track mode: (Gaussian Signal,Exponential Background)\n",
            " **********\n",
            " **   19 **SET PRINT           1\n",
            " **********\n",
            " **********\n",
            " **   20 **SET NOGRAD\n",
            " **********\n",
            " PARAMETER DEFINITIONS:\n",
            "    NO.   NAME         VALUE      STEP SIZE      LIMITS\n",
            "     1 Gauss_Norm_Bm   1.14006e+05  5.70030e+04    0.00000e+00  1.02606e+07\n",
            " MINUIT WARNING IN PARAM DEF\n",
            " ============== LIMITS ON PARAM1 TOO FAR APART.\n",
            " PARAMETER DEFINITIONS:\n",
            "    NO.   NAME         VALUE      STEP SIZE      LIMITS\n",
            "     2 Mean         5.30000e+03  1.00000e+01    5.25000e+03  5.35000e+03\n",
            "     3 Width        2.00000e+01  4.00000e+00    0.00000e+00  4.00000e+01\n",
            "     4 exp_Norm_Bm   1.14006e+05  5.70030e+04    0.00000e+00  6.84039e+06\n",
            "     5 exponent    -2.00000e-02  4.00000e-01   -2.00000e+00  2.00000e+00\n",
            " **********\n",
            " **   21 **SET ERR         0.5\n",
            " **********\n",
            " **********\n",
            " **   22 **SET PRINT           1\n",
            " **********\n",
            " **********\n",
            " **   23 **SET STR           1\n",
            " **********\n",
            " NOW USING STRATEGY  1: TRY TO BALANCE SPEED AGAINST RELIABILITY\n",
            " **********\n",
            " **   24 **MIGRAD        2500           1\n",
            " **********\n",
            " FIRST CALL TO USER FUNCTION AT NEW START POINT, WITH IFLAG=4.\n",
            " START MIGRAD MINIMIZATION.  STRATEGY  1.  CONVERGENCE WHEN EDM .LT. 1.00e-03\n",
            " FCN=126560 FROM MIGRAD    STATUS=INITIATE       22 CALLS          23 TOTAL\n",
            "                     EDM= unknown      STRATEGY= 1      NO ERROR MATRIX       \n",
            "  EXT PARAMETER               CURRENT GUESS       STEP         FIRST   \n",
            "  NO.   NAME      VALUE            ERROR          SIZE      DERIVATIVE \n",
            "   1  Gauss_Norm_Bm   1.14006e+05   5.70030e+04   5.48559e-02   1.00845e+06\n",
            "   2  Mean         5.30000e+03   1.00000e+01   2.01358e-01   3.60649e+03\n",
            "   3  Width        2.00000e+01   4.00000e+00   2.01358e-01  -1.30041e+04\n",
            "   4  exp_Norm_Bm   1.14006e+05   5.70030e+04   6.73657e-02   7.77426e+05\n",
            "   5  exponent    -2.00000e-02   4.00000e-01   2.01369e-01  -3.16193e+06\n",
            "                               ERR DEF= 0.5\n",
            "[#0] WARNING:Minization -- RooMinimizerFcn: Minimized function has error status.\n",
            "Returning maximum FCN so far (306933) to force MIGRAD to back out of this region. Error log follows\n",
            "Parameter values: Gauss_Norm_Bm=1060.26, Mean=5286.94, Width=39.1397, exp_Norm_Bm=3650.96, exponent=0.172275\n",
            "RooAddPdf::Full Model[ Gauss_Norm_Bm * Gaussian Signal + exp_Norm_Bm * Exponential Background ]\n",
            "     p.d.f value is Not-a-Number (-nan), forcing value to zero @ !refCoefNorm=(), !pdfs=(Gaussian Signal = 0.00270627/98.1087,Exponential Background = inf/-nan), !coefficients=(Gauss_Norm_Bm = 1060.26,exp_Norm_Bm = 3650.96)\n",
            "     getLogVal() top-level p.d.f evaluates to zero @ !refCoefNorm=(), !pdfs=(Gaussian Signal = 0.00270627/98.1087,Exponential Background = inf/-nan), !coefficients=(Gauss_Norm_Bm = 1060.26,exp_Norm_Bm = 3650.96)\n",
            "     p.d.f value is Not-a-Number (-nan), forcing value to zero @ !refCoefNorm=(), !pdfs=(Gaussian Signal = 0.0194508/98.1087,Exponential Background = inf/-nan), !coefficients=(Gauss_Norm_Bm = 1060.26,exp_Norm_Bm = 3650.96)\n",
            "     getLogVal() top-level p.d.f evaluates to zero @ !refCoefNorm=(), !pdfs=(Gaussian Signal = 0.0194508/98.1087,Exponential Background = inf/-nan), !coefficients=(Gauss_Norm_Bm = 1060.26,exp_Norm_Bm = 3650.96)\n",
            "     p.d.f value is Not-a-Number (-nan), forcing value to zero @ !refCoefNorm=(), !pdfs=(Gaussian Signal = 9.77984e-08/98.1087,Exponential Background = inf/-nan), !coefficients=(Gauss_Norm_Bm = 1060.26,exp_Norm_Bm = 3650.96)\n",
            "     getLogVal() top-level p.d.f evaluates to zero @ !refCoefNorm=(), !pdfs=(Gaussian Signal = 9.77984e-08/98.1087,Exponential Background = inf/-nan), !coefficients=(Gauss_Norm_Bm = 1060.26,exp_Norm_Bm = 3650.96)\n",
            "     p.d.f value is Not-a-Number (-nan), forcing value to zero @ !refCoefNorm=(), !pdfs=(Gaussian Signal = 0.793663/98.1087,Exponential Background = inf/-nan), !coefficients=(Gauss_Norm_Bm = 1060.26,exp_Norm_Bm = 3650.96)\n",
            "     getLogVal() top-level p.d.f evaluates to zero @ !refCoefNorm=(), !pdfs=(Gaussian Signal = 0.793663/98.1087,Exponential Background = inf/-nan), !coefficients=(Gauss_Norm_Bm = 1060.26,exp_Norm_Bm = 3650.96)\n",
            "     p.d.f value is Not-a-Number (-nan), forcing value to zero @ !refCoefNorm=(), !pdfs=(Gaussian Signal = 0.0968937/98.1087,Exponential Background = inf/-nan), !coefficients=(Gauss_Norm_Bm = 1060.26,exp_Norm_Bm = 3650.96)\n",
            "     getLogVal() top-level p.d.f evaluates to zero @ !refCoefNorm=(), !pdfs=(Gaussian Signal = 0.0968937/98.1087,Exponential Background = inf/-nan), !coefficients=(Gauss_Norm_Bm = 1060.26,exp_Norm_Bm = 3650.96)\n",
            "     p.d.f value is Not-a-Number (-nan), forcing value to zero @ !refCoefNorm=(), !pdfs=(Gaussian Signal = 0.998837/98.1087,Exponential Background = inf/-nan), !coefficients=(Gauss_Norm_Bm = 1060.26,exp_Norm_Bm = 3650.96)\n",
            "     getLogVal() top-level p.d.f evaluates to zero @ !refCoefNorm=(), !pdfs=(Gaussian Signal = 0.998837/98.1087,Exponential Background = inf/-nan), !coefficients=(Gauss_Norm_Bm = 1060.26,exp_Norm_Bm = 3650.96)\n",
            "    ... (remaining 2038 messages suppressed)\n",
            "RooNLLVar::nll_Full Model_Data Set[ paramSet=(Gauss_Norm_Bm,Mean,Width,exp_Norm_Bm,exponent) ]\n",
            "     function value is NAN @ paramSet=(Gauss_Norm_Bm = 1060.26,Mean = 5286.94,Width = 39.1397,exp_Norm_Bm = 3650.96,exponent = 0.172275)\n",
            "RooRealIntegral::Exponential Background_Int[M_m0][ Int Exponential Backgroundd[Ana](M_m0) ]\n",
            "     function value is NAN @ !sumList=(), !intList=(), !anaList=(M_m0 = 5174.11), !jacList=(), !facList=(), !func=Exponential Background=inf/4.41039e-45, !sumCat=()\n",
            "\n",
            " MINUIT WARNING IN MIGRAD  \n",
            " ============== Negative diagonal element 3 in Error Matrix\n",
            " MINUIT WARNING IN MIGRAD  \n",
            " ============== 1.05973 added to diagonal of error matrix\n",
            "[#0] WARNING:Minization -- RooMinimizerFcn: Minimized function has error status.\n",
            "Returning maximum FCN so far (306933) to force MIGRAD to back out of this region. Error log follows\n",
            "Parameter values: Gauss_Norm_Bm=8.67668e+06, Mean=5274.99, Width=7.41424, exp_Norm_Bm=1.13018e+06, exponent=1.91195\n",
            "RooAddPdf::Full Model[ Gauss_Norm_Bm * Gaussian Signal + exp_Norm_Bm * Exponential Background ]\n",
            "     p.d.f value is Not-a-Number (-nan), forcing value to zero @ !refCoefNorm=(), !pdfs=(Gaussian Signal = 3.9164e-60/18.5847,Exponential Background = inf/-nan), !coefficients=(Gauss_Norm_Bm = 8.67668e+06,exp_Norm_Bm = 1.13018e+06)\n",
            "     getLogVal() top-level p.d.f evaluates to zero @ !refCoefNorm=(), !pdfs=(Gaussian Signal = 3.9164e-60/18.5847,Exponential Background = inf/-nan), !coefficients=(Gauss_Norm_Bm = 8.67668e+06,exp_Norm_Bm = 1.13018e+06)\n",
            "     p.d.f value is Not-a-Number (-nan), forcing value to zero @ !refCoefNorm=(), !pdfs=(Gaussian Signal = 2.37245e-59/18.5847,Exponential Background = inf/-nan), !coefficients=(Gauss_Norm_Bm = 8.67668e+06,exp_Norm_Bm = 1.13018e+06)\n",
            "     getLogVal() top-level p.d.f evaluates to zero @ !refCoefNorm=(), !pdfs=(Gaussian Signal = 2.37245e-59/18.5847,Exponential Background = inf/-nan), !coefficients=(Gauss_Norm_Bm = 8.67668e+06,exp_Norm_Bm = 1.13018e+06)\n",
            "     p.d.f value is Not-a-Number (-nan), forcing value to zero @ !refCoefNorm=(), !pdfs=(Gaussian Signal = 1.24331e-175/18.5847,Exponential Background = inf/-nan), !coefficients=(Gauss_Norm_Bm = 8.67668e+06,exp_Norm_Bm = 1.13018e+06)\n",
            "     getLogVal() top-level p.d.f evaluates to zero @ !refCoefNorm=(), !pdfs=(Gaussian Signal = 1.24331e-175/18.5847,Exponential Background = inf/-nan), !coefficients=(Gauss_Norm_Bm = 8.67668e+06,exp_Norm_Bm = 1.13018e+06)\n",
            "     p.d.f value is Not-a-Number (-nan), forcing value to zero @ !refCoefNorm=(), !pdfs=(Gaussian Signal = 0.141805/18.5847,Exponential Background = inf/-nan), !coefficients=(Gauss_Norm_Bm = 8.67668e+06,exp_Norm_Bm = 1.13018e+06)\n",
            "     getLogVal() top-level p.d.f evaluates to zero @ !refCoefNorm=(), !pdfs=(Gaussian Signal = 0.141805/18.5847,Exponential Background = inf/-nan), !coefficients=(Gauss_Norm_Bm = 8.67668e+06,exp_Norm_Bm = 1.13018e+06)\n",
            "     p.d.f value is Not-a-Number (-nan), forcing value to zero @ !refCoefNorm=(), !pdfs=(Gaussian Signal = 1.48873e-21/18.5847,Exponential Background = inf/-nan), !coefficients=(Gauss_Norm_Bm = 8.67668e+06,exp_Norm_Bm = 1.13018e+06)\n",
            "     getLogVal() top-level p.d.f evaluates to zero @ !refCoefNorm=(), !pdfs=(Gaussian Signal = 1.48873e-21/18.5847,Exponential Background = inf/-nan), !coefficients=(Gauss_Norm_Bm = 8.67668e+06,exp_Norm_Bm = 1.13018e+06)\n",
            "     p.d.f value is Not-a-Number (-nan), forcing value to zero @ !refCoefNorm=(), !pdfs=(Gaussian Signal = 0.397812/18.5847,Exponential Background = inf/-nan), !coefficients=(Gauss_Norm_Bm = 8.67668e+06,exp_Norm_Bm = 1.13018e+06)\n",
            "     getLogVal() top-level p.d.f evaluates to zero @ !refCoefNorm=(), !pdfs=(Gaussian Signal = 0.397812/18.5847,Exponential Background = inf/-nan), !coefficients=(Gauss_Norm_Bm = 8.67668e+06,exp_Norm_Bm = 1.13018e+06)\n",
            "    ... (remaining 2038 messages suppressed)\n",
            "RooNLLVar::nll_Full Model_Data Set[ paramSet=(Gauss_Norm_Bm,Mean,Width,exp_Norm_Bm,exponent) ]\n",
            "     function value is NAN @ paramSet=(Gauss_Norm_Bm = 8.67668e+06,Mean = 5274.99,Width = 7.41424,exp_Norm_Bm = 1.13018e+06,exponent = 1.91195)\n",
            "RooRealIntegral::Exponential Background_Int[M_m0][ Int Exponential Backgroundd[Ana](M_m0) ]\n",
            "     function value is NAN @ !sumList=(), !intList=(), !anaList=(M_m0 = 5174.11), !jacList=(), !facList=(), !func=Exponential Background=inf/0.10105, !sumCat=()\n",
            "\n",
            "[#0] WARNING:Minization -- RooMinimizerFcn: Minimized function has error status.\n",
            "Returning maximum FCN so far (306933) to force MIGRAD to back out of this region. Error log follows\n",
            "Parameter values: Gauss_Norm_Bm=6.67935e+06, Mean=5349.93, Width=16.9485, exp_Norm_Bm=6.62026e+06, exponent=-1.92496\n",
            "RooExponential::Exponential Background[ x=M_m0 c=exponent ]\n",
            "     p.d.f normalization integral is zero or negative @ x=M_m0=5069.35, c=exponent=-1.92496\n",
            "     p.d.f normalization integral is zero or negative @ x=M_m0=5326.25, c=exponent=-1.92496\n",
            "     p.d.f normalization integral is zero or negative @ x=M_m0=5283.7, c=exponent=-1.92496\n",
            "     p.d.f normalization integral is zero or negative @ x=M_m0=5342.64, c=exponent=-1.92496\n",
            "     p.d.f normalization integral is zero or negative @ x=M_m0=5265.59, c=exponent=-1.92496\n",
            "     p.d.f normalization integral is zero or negative @ x=M_m0=5381.72, c=exponent=-1.92496\n",
            "     p.d.f normalization integral is zero or negative @ x=M_m0=5408.27, c=exponent=-1.92496\n",
            "     p.d.f normalization integral is zero or negative @ x=M_m0=5241.04, c=exponent=-1.92496\n",
            "     p.d.f normalization integral is zero or negative @ x=M_m0=5290.79, c=exponent=-1.92496\n",
            "     p.d.f normalization integral is zero or negative @ x=M_m0=5212.61, c=exponent=-1.92496\n",
            "     p.d.f normalization integral is zero or negative @ x=M_m0=5468.13, c=exponent=-1.92496\n",
            "     p.d.f normalization integral is zero or negative @ x=M_m0=5131.85, c=exponent=-1.92496\n",
            "    ... (remaining 2038 messages suppressed)\n",
            "\n",
            "[#0] WARNING:Minization -- RooMinimizerFcn: Minimized function has error status.\n",
            "Returning maximum FCN so far (306933) to force MIGRAD to back out of this region. Error log follows\n",
            "Parameter values: Gauss_Norm_Bm=1.71257e+06, Mean=5271.76, Width=17.7933, exp_Norm_Bm=3.83817e+06, exponent=-0.520471\n",
            "RooExponential::Exponential Background[ x=M_m0 c=exponent ]\n",
            "     p.d.f normalization integral is zero or negative @ x=M_m0=5069.35, c=exponent=-0.520471\n",
            "     p.d.f normalization integral is zero or negative @ x=M_m0=5326.25, c=exponent=-0.520471\n",
            "     p.d.f normalization integral is zero or negative @ x=M_m0=5283.7, c=exponent=-0.520471\n",
            "     p.d.f normalization integral is zero or negative @ x=M_m0=5342.64, c=exponent=-0.520471\n",
            "     p.d.f normalization integral is zero or negative @ x=M_m0=5265.59, c=exponent=-0.520471\n",
            "     p.d.f normalization integral is zero or negative @ x=M_m0=5381.72, c=exponent=-0.520471\n",
            "     p.d.f normalization integral is zero or negative @ x=M_m0=5408.27, c=exponent=-0.520471\n",
            "     p.d.f normalization integral is zero or negative @ x=M_m0=5241.04, c=exponent=-0.520471\n",
            "     p.d.f normalization integral is zero or negative @ x=M_m0=5290.79, c=exponent=-0.520471\n",
            "     p.d.f normalization integral is zero or negative @ x=M_m0=5212.61, c=exponent=-0.520471\n",
            "     p.d.f normalization integral is zero or negative @ x=M_m0=5468.13, c=exponent=-0.520471\n",
            "     p.d.f normalization integral is zero or negative @ x=M_m0=5131.85, c=exponent=-0.520471\n",
            "    ... (remaining 2038 messages suppressed)\n",
            "\n",
            "[#0] WARNING:Minization -- RooMinimizerFcn: Minimized function has error status.\n",
            "Returning maximum FCN so far (306933) to force MIGRAD to back out of this region. Error log follows\n",
            "Parameter values: Gauss_Norm_Bm=266625, Mean=5349.8, Width=0.584829, exp_Norm_Bm=1.00999e+06, exponent=-1.00749\n",
            "RooAddPdf::Full Model[ Gauss_Norm_Bm * Gaussian Signal + exp_Norm_Bm * Exponential Background ]\n",
            "     getLogVal() top-level p.d.f evaluates to zero @ !refCoefNorm=(), !pdfs=(Gaussian Signal = 0/1.46595,Exponential Background = 0/-0), !coefficients=(Gauss_Norm_Bm = 266625,exp_Norm_Bm = 1.00999e+06)\n",
            "     getLogVal() top-level p.d.f evaluates to zero @ !refCoefNorm=(), !pdfs=(Gaussian Signal = 0/1.46595,Exponential Background = 0/-0), !coefficients=(Gauss_Norm_Bm = 266625,exp_Norm_Bm = 1.00999e+06)\n",
            "     getLogVal() top-level p.d.f evaluates to zero @ !refCoefNorm=(), !pdfs=(Gaussian Signal = 0/1.46595,Exponential Background = 0/-0), !coefficients=(Gauss_Norm_Bm = 266625,exp_Norm_Bm = 1.00999e+06)\n",
            "     getLogVal() top-level p.d.f evaluates to zero @ !refCoefNorm=(), !pdfs=(Gaussian Signal = 0/1.46595,Exponential Background = 0/-0), !coefficients=(Gauss_Norm_Bm = 266625,exp_Norm_Bm = 1.00999e+06)\n",
            "     getLogVal() top-level p.d.f evaluates to zero @ !refCoefNorm=(), !pdfs=(Gaussian Signal = 0/1.46595,Exponential Background = 0/-0), !coefficients=(Gauss_Norm_Bm = 266625,exp_Norm_Bm = 1.00999e+06)\n",
            "     getLogVal() top-level p.d.f evaluates to zero @ !refCoefNorm=(), !pdfs=(Gaussian Signal = 0/1.46595,Exponential Background = 0/-0), !coefficients=(Gauss_Norm_Bm = 266625,exp_Norm_Bm = 1.00999e+06)\n",
            "     getLogVal() top-level p.d.f evaluates to zero @ !refCoefNorm=(), !pdfs=(Gaussian Signal = 0/1.46595,Exponential Background = 0/-0), !coefficients=(Gauss_Norm_Bm = 266625,exp_Norm_Bm = 1.00999e+06)\n",
            "     getLogVal() top-level p.d.f evaluates to zero @ !refCoefNorm=(), !pdfs=(Gaussian Signal = 0/1.46595,Exponential Background = 0/-0), !coefficients=(Gauss_Norm_Bm = 266625,exp_Norm_Bm = 1.00999e+06)\n",
            "     getLogVal() top-level p.d.f evaluates to zero @ !refCoefNorm=(), !pdfs=(Gaussian Signal = 0/1.46595,Exponential Background = 0/-0), !coefficients=(Gauss_Norm_Bm = 266625,exp_Norm_Bm = 1.00999e+06)\n",
            "     getLogVal() top-level p.d.f evaluates to zero @ !refCoefNorm=(), !pdfs=(Gaussian Signal = 0/1.46595,Exponential Background = 0/-0), !coefficients=(Gauss_Norm_Bm = 266625,exp_Norm_Bm = 1.00999e+06)\n",
            "     getLogVal() top-level p.d.f evaluates to zero @ !refCoefNorm=(), !pdfs=(Gaussian Signal = 0/1.46595,Exponential Background = 0/-0), !coefficients=(Gauss_Norm_Bm = 266625,exp_Norm_Bm = 1.00999e+06)\n",
            "     getLogVal() top-level p.d.f evaluates to zero @ !refCoefNorm=(), !pdfs=(Gaussian Signal = 0/1.46595,Exponential Background = 0/-0), !coefficients=(Gauss_Norm_Bm = 266625,exp_Norm_Bm = 1.00999e+06)\n",
            "    ... (remaining 2038 messages suppressed)\n",
            "RooNLLVar::nll_Full Model_Data Set[ paramSet=(Gauss_Norm_Bm,Mean,Width,exp_Norm_Bm,exponent) ]\n",
            "     function value is NAN @ paramSet=(Gauss_Norm_Bm = 266625,Mean = 5349.8,Width = 0.584829,exp_Norm_Bm = 1.00999e+06,exponent = -1.00749)\n",
            "RooExponential::Exponential Background[ x=M_m0 c=exponent ]\n",
            "     p.d.f normalization integral is zero or negative @ x=M_m0=5069.35, c=exponent=-1.00749\n",
            "     p.d.f normalization integral is zero or negative @ x=M_m0=5326.25, c=exponent=-1.00749\n",
            "     p.d.f normalization integral is zero or negative @ x=M_m0=5283.7, c=exponent=-1.00749\n",
            "     p.d.f normalization integral is zero or negative @ x=M_m0=5342.64, c=exponent=-1.00749\n",
            "     p.d.f normalization integral is zero or negative @ x=M_m0=5265.59, c=exponent=-1.00749\n",
            "     p.d.f normalization integral is zero or negative @ x=M_m0=5381.72, c=exponent=-1.00749\n",
            "     p.d.f normalization integral is zero or negative @ x=M_m0=5408.27, c=exponent=-1.00749\n",
            "     p.d.f normalization integral is zero or negative @ x=M_m0=5241.04, c=exponent=-1.00749\n",
            "     p.d.f normalization integral is zero or negative @ x=M_m0=5290.79, c=exponent=-1.00749\n",
            "     p.d.f normalization integral is zero or negative @ x=M_m0=5212.61, c=exponent=-1.00749\n",
            "     p.d.f normalization integral is zero or negative @ x=M_m0=5468.13, c=exponent=-1.00749\n",
            "     p.d.f normalization integral is zero or negative @ x=M_m0=5131.85, c=exponent=-1.00749\n",
            "    ... (remaining 2038 messages suppressed)\n",
            "\n",
            "[#0] WARNING:Minization -- RooMinimizerFcn: Minimized function has error status.\n",
            "Returning maximum FCN so far (306933) to force MIGRAD to back out of this region. Error log follows\n",
            "Parameter values: Gauss_Norm_Bm=10789.4, Mean=5270.98, Width=29.183, exp_Norm_Bm=6.64852e+06, exponent=1.20592\n",
            "RooAddPdf::Full Model[ Gauss_Norm_Bm * Gaussian Signal + exp_Norm_Bm * Exponential Background ]\n",
            "     p.d.f value is Not-a-Number (-nan), forcing value to zero @ !refCoefNorm=(), !pdfs=(Gaussian Signal = 0.000258207/73.151,Exponential Background = inf/-nan), !coefficients=(Gauss_Norm_Bm = 10789.4,exp_Norm_Bm = 6.64852e+06)\n",
            "     getLogVal() top-level p.d.f evaluates to zero @ !refCoefNorm=(), !pdfs=(Gaussian Signal = 0.000258207/73.151,Exponential Background = inf/-nan), !coefficients=(Gauss_Norm_Bm = 10789.4,exp_Norm_Bm = 6.64852e+06)\n",
            "     p.d.f value is Not-a-Number (-nan), forcing value to zero @ !refCoefNorm=(), !pdfs=(Gaussian Signal = 9.18246e-05/73.151,Exponential Background = inf/-nan), !coefficients=(Gauss_Norm_Bm = 10789.4,exp_Norm_Bm = 6.64852e+06)\n",
            "     getLogVal() top-level p.d.f evaluates to zero @ !refCoefNorm=(), !pdfs=(Gaussian Signal = 9.18246e-05/73.151,Exponential Background = inf/-nan), !coefficients=(Gauss_Norm_Bm = 10789.4,exp_Norm_Bm = 6.64852e+06)\n",
            "     p.d.f value is Not-a-Number (-nan), forcing value to zero @ !refCoefNorm=(), !pdfs=(Gaussian Signal = 1.36881e-11/73.151,Exponential Background = inf/-nan), !coefficients=(Gauss_Norm_Bm = 10789.4,exp_Norm_Bm = 6.64852e+06)\n",
            "     getLogVal() top-level p.d.f evaluates to zero @ !refCoefNorm=(), !pdfs=(Gaussian Signal = 1.36881e-11/73.151,Exponential Background = inf/-nan), !coefficients=(Gauss_Norm_Bm = 10789.4,exp_Norm_Bm = 6.64852e+06)\n",
            "     p.d.f value is Not-a-Number (-nan), forcing value to zero @ !refCoefNorm=(), !pdfs=(Gaussian Signal = 0.935609/73.151,Exponential Background = inf/-nan), !coefficients=(Gauss_Norm_Bm = 10789.4,exp_Norm_Bm = 6.64852e+06)\n",
            "     getLogVal() top-level p.d.f evaluates to zero @ !refCoefNorm=(), !pdfs=(Gaussian Signal = 0.935609/73.151,Exponential Background = inf/-nan), !coefficients=(Gauss_Norm_Bm = 10789.4,exp_Norm_Bm = 6.64852e+06)\n",
            "     p.d.f value is Not-a-Number (-nan), forcing value to zero @ !refCoefNorm=(), !pdfs=(Gaussian Signal = 0.0630891/73.151,Exponential Background = inf/-nan), !coefficients=(Gauss_Norm_Bm = 10789.4,exp_Norm_Bm = 6.64852e+06)\n",
            "     getLogVal() top-level p.d.f evaluates to zero @ !refCoefNorm=(), !pdfs=(Gaussian Signal = 0.0630891/73.151,Exponential Background = inf/-nan), !coefficients=(Gauss_Norm_Bm = 10789.4,exp_Norm_Bm = 6.64852e+06)\n",
            "     p.d.f value is Not-a-Number (-nan), forcing value to zero @ !refCoefNorm=(), !pdfs=(Gaussian Signal = 0.890219/73.151,Exponential Background = inf/-nan), !coefficients=(Gauss_Norm_Bm = 10789.4,exp_Norm_Bm = 6.64852e+06)\n",
            "     getLogVal() top-level p.d.f evaluates to zero @ !refCoefNorm=(), !pdfs=(Gaussian Signal = 0.890219/73.151,Exponential Background = inf/-nan), !coefficients=(Gauss_Norm_Bm = 10789.4,exp_Norm_Bm = 6.64852e+06)\n",
            "    ... (remaining 2038 messages suppressed)\n",
            "RooNLLVar::nll_Full Model_Data Set[ paramSet=(Gauss_Norm_Bm,Mean,Width,exp_Norm_Bm,exponent) ]\n",
            "     function value is NAN @ paramSet=(Gauss_Norm_Bm = 10789.4,Mean = 5270.98,Width = 29.183,exp_Norm_Bm = 6.64852e+06,exponent = 1.20592)\n",
            "RooRealIntegral::Exponential Background_Int[M_m0][ Int Exponential Backgroundd[Ana](M_m0) ]\n",
            "     function value is NAN @ !sumList=(), !intList=(), !anaList=(M_m0 = 5174.11), !jacList=(), !facList=(), !func=Exponential Background=inf/-0, !sumCat=()\n",
            "\n",
            "[#0] WARNING:Minization -- RooMinimizerFcn: Minimized function has error status.\n",
            "Returning maximum FCN so far (306933) to force MIGRAD to back out of this region. Error log follows\n",
            "Parameter values: Gauss_Norm_Bm=10699.8, Mean=5250.24, Width=0.0263872, exp_Norm_Bm=3.79709e+06, exponent=1.88806\n",
            "RooAddPdf::Full Model[ Gauss_Norm_Bm * Gaussian Signal + exp_Norm_Bm * Exponential Background ]\n",
            "     p.d.f value is Not-a-Number (-nan), forcing value to zero @ !refCoefNorm=(), !pdfs=(Gaussian Signal = 0/0.0661429,Exponential Background = inf/-nan), !coefficients=(Gauss_Norm_Bm = 10699.8,exp_Norm_Bm = 3.79709e+06)\n",
            "     getLogVal() top-level p.d.f evaluates to zero @ !refCoefNorm=(), !pdfs=(Gaussian Signal = 0/0.0661429,Exponential Background = inf/-nan), !coefficients=(Gauss_Norm_Bm = 10699.8,exp_Norm_Bm = 3.79709e+06)\n",
            "     p.d.f value is Not-a-Number (-nan), forcing value to zero @ !refCoefNorm=(), !pdfs=(Gaussian Signal = 0/0.0661429,Exponential Background = inf/-nan), !coefficients=(Gauss_Norm_Bm = 10699.8,exp_Norm_Bm = 3.79709e+06)\n",
            "     getLogVal() top-level p.d.f evaluates to zero @ !refCoefNorm=(), !pdfs=(Gaussian Signal = 0/0.0661429,Exponential Background = inf/-nan), !coefficients=(Gauss_Norm_Bm = 10699.8,exp_Norm_Bm = 3.79709e+06)\n",
            "     p.d.f value is Not-a-Number (-nan), forcing value to zero @ !refCoefNorm=(), !pdfs=(Gaussian Signal = 0/0.0661429,Exponential Background = inf/-nan), !coefficients=(Gauss_Norm_Bm = 10699.8,exp_Norm_Bm = 3.79709e+06)\n",
            "     getLogVal() top-level p.d.f evaluates to zero @ !refCoefNorm=(), !pdfs=(Gaussian Signal = 0/0.0661429,Exponential Background = inf/-nan), !coefficients=(Gauss_Norm_Bm = 10699.8,exp_Norm_Bm = 3.79709e+06)\n",
            "     p.d.f value is Not-a-Number (-nan), forcing value to zero @ !refCoefNorm=(), !pdfs=(Gaussian Signal = 0/0.0661429,Exponential Background = inf/-nan), !coefficients=(Gauss_Norm_Bm = 10699.8,exp_Norm_Bm = 3.79709e+06)\n",
            "     getLogVal() top-level p.d.f evaluates to zero @ !refCoefNorm=(), !pdfs=(Gaussian Signal = 0/0.0661429,Exponential Background = inf/-nan), !coefficients=(Gauss_Norm_Bm = 10699.8,exp_Norm_Bm = 3.79709e+06)\n",
            "     p.d.f value is Not-a-Number (-nan), forcing value to zero @ !refCoefNorm=(), !pdfs=(Gaussian Signal = 0/0.0661429,Exponential Background = inf/-nan), !coefficients=(Gauss_Norm_Bm = 10699.8,exp_Norm_Bm = 3.79709e+06)\n",
            "     getLogVal() top-level p.d.f evaluates to zero @ !refCoefNorm=(), !pdfs=(Gaussian Signal = 0/0.0661429,Exponential Background = inf/-nan), !coefficients=(Gauss_Norm_Bm = 10699.8,exp_Norm_Bm = 3.79709e+06)\n",
            "     p.d.f value is Not-a-Number (-nan), forcing value to zero @ !refCoefNorm=(), !pdfs=(Gaussian Signal = 0/0.0661429,Exponential Background = inf/-nan), !coefficients=(Gauss_Norm_Bm = 10699.8,exp_Norm_Bm = 3.79709e+06)\n",
            "     getLogVal() top-level p.d.f evaluates to zero @ !refCoefNorm=(), !pdfs=(Gaussian Signal = 0/0.0661429,Exponential Background = inf/-nan), !coefficients=(Gauss_Norm_Bm = 10699.8,exp_Norm_Bm = 3.79709e+06)\n",
            "    ... (remaining 2038 messages suppressed)\n",
            "RooNLLVar::nll_Full Model_Data Set[ paramSet=(Gauss_Norm_Bm,Mean,Width,exp_Norm_Bm,exponent) ]\n",
            "     function value is NAN @ paramSet=(Gauss_Norm_Bm = 10699.8,Mean = 5250.24,Width = 0.0263872,exp_Norm_Bm = 3.79709e+06,exponent = 1.88806)\n",
            "RooRealIntegral::Exponential Background_Int[M_m0][ Int Exponential Backgroundd[Ana](M_m0) ]\n",
            "     function value is NAN @ !sumList=(), !intList=(), !anaList=(M_m0 = 5174.11), !jacList=(), !facList=(), !func=Exponential Background=inf/-nan, !sumCat=()\n",
            "\n",
            "[#0] WARNING:Minization -- RooMinimizerFcn: Minimized function has error status.\n",
            "Returning maximum FCN so far (306933) to force MIGRAD to back out of this region. Error log follows\n",
            "Parameter values: Gauss_Norm_Bm=42829.6, Mean=5259.42, Width=8.31526, exp_Norm_Bm=5.84502e+06, exponent=1.99818\n",
            "RooAddPdf::Full Model[ Gauss_Norm_Bm * Gaussian Signal + exp_Norm_Bm * Exponential Background ]\n",
            "     p.d.f value is Not-a-Number (-nan), forcing value to zero @ !refCoefNorm=(), !pdfs=(Gaussian Signal = 1.0042e-36/20.8433,Exponential Background = inf/-nan), !coefficients=(Gauss_Norm_Bm = 42829.6,exp_Norm_Bm = 5.84502e+06)\n",
            "     getLogVal() top-level p.d.f evaluates to zero @ !refCoefNorm=(), !pdfs=(Gaussian Signal = 1.0042e-36/20.8433,Exponential Background = inf/-nan), !coefficients=(Gauss_Norm_Bm = 42829.6,exp_Norm_Bm = 5.84502e+06)\n",
            "     p.d.f value is Not-a-Number (-nan), forcing value to zero @ !refCoefNorm=(), !pdfs=(Gaussian Signal = 5.20195e-60/20.8433,Exponential Background = inf/-nan), !coefficients=(Gauss_Norm_Bm = 42829.6,exp_Norm_Bm = 5.84502e+06)\n",
            "     getLogVal() top-level p.d.f evaluates to zero @ !refCoefNorm=(), !pdfs=(Gaussian Signal = 5.20195e-60/20.8433,Exponential Background = inf/-nan), !coefficients=(Gauss_Norm_Bm = 42829.6,exp_Norm_Bm = 5.84502e+06)\n",
            "     p.d.f value is Not-a-Number (-nan), forcing value to zero @ !refCoefNorm=(), !pdfs=(Gaussian Signal = 5.7979e-120/20.8433,Exponential Background = inf/-nan), !coefficients=(Gauss_Norm_Bm = 42829.6,exp_Norm_Bm = 5.84502e+06)\n",
            "     getLogVal() top-level p.d.f evaluates to zero @ !refCoefNorm=(), !pdfs=(Gaussian Signal = 5.7979e-120/20.8433,Exponential Background = inf/-nan), !coefficients=(Gauss_Norm_Bm = 42829.6,exp_Norm_Bm = 5.84502e+06)\n",
            "     p.d.f value is Not-a-Number (-nan), forcing value to zero @ !refCoefNorm=(), !pdfs=(Gaussian Signal = 0.993949/20.8433,Exponential Background = inf/-nan), !coefficients=(Gauss_Norm_Bm = 42829.6,exp_Norm_Bm = 5.84502e+06)\n",
            "     getLogVal() top-level p.d.f evaluates to zero @ !refCoefNorm=(), !pdfs=(Gaussian Signal = 0.993949/20.8433,Exponential Background = inf/-nan), !coefficients=(Gauss_Norm_Bm = 42829.6,exp_Norm_Bm = 5.84502e+06)\n",
            "     p.d.f value is Not-a-Number (-nan), forcing value to zero @ !refCoefNorm=(), !pdfs=(Gaussian Signal = 6.05027e-11/20.8433,Exponential Background = inf/-nan), !coefficients=(Gauss_Norm_Bm = 42829.6,exp_Norm_Bm = 5.84502e+06)\n",
            "     getLogVal() top-level p.d.f evaluates to zero @ !refCoefNorm=(), !pdfs=(Gaussian Signal = 6.05027e-11/20.8433,Exponential Background = inf/-nan), !coefficients=(Gauss_Norm_Bm = 42829.6,exp_Norm_Bm = 5.84502e+06)\n",
            "     p.d.f value is Not-a-Number (-nan), forcing value to zero @ !refCoefNorm=(), !pdfs=(Gaussian Signal = 0.00862614/20.8433,Exponential Background = inf/-nan), !coefficients=(Gauss_Norm_Bm = 42829.6,exp_Norm_Bm = 5.84502e+06)\n",
            "     getLogVal() top-level p.d.f evaluates to zero @ !refCoefNorm=(), !pdfs=(Gaussian Signal = 0.00862614/20.8433,Exponential Background = inf/-nan), !coefficients=(Gauss_Norm_Bm = 42829.6,exp_Norm_Bm = 5.84502e+06)\n",
            "    ... (remaining 2038 messages suppressed)\n",
            "RooNLLVar::nll_Full Model_Data Set[ paramSet=(Gauss_Norm_Bm,Mean,Width,exp_Norm_Bm,exponent) ]\n",
            "     function value is NAN @ paramSet=(Gauss_Norm_Bm = 42829.6,Mean = 5259.42,Width = 8.31526,exp_Norm_Bm = 5.84502e+06,exponent = 1.99818)\n",
            "RooRealIntegral::Exponential Background_Int[M_m0][ Int Exponential Backgroundd[Ana](M_m0) ]\n",
            "     function value is NAN @ !sumList=(), !intList=(), !anaList=(M_m0 = 5174.11), !jacList=(), !facList=(), !func=Exponential Background=inf/-nan, !sumCat=()\n",
            "\n",
            "[#0] WARNING:Minization -- RooMinimizerFcn: Minimized function has error status.\n",
            "Returning maximum FCN so far (306933) to force MIGRAD to back out of this region. Error log follows\n",
            "Parameter values: Gauss_Norm_Bm=66857, Mean=5268.39, Width=17.51, exp_Norm_Bm=4.53991e+06, exponent=-1.98929\n",
            "RooExponential::Exponential Background[ x=M_m0 c=exponent ]\n",
            "     p.d.f normalization integral is zero or negative @ x=M_m0=5069.35, c=exponent=-1.98929\n",
            "     p.d.f normalization integral is zero or negative @ x=M_m0=5326.25, c=exponent=-1.98929\n",
            "     p.d.f normalization integral is zero or negative @ x=M_m0=5283.7, c=exponent=-1.98929\n",
            "     p.d.f normalization integral is zero or negative @ x=M_m0=5342.64, c=exponent=-1.98929\n",
            "     p.d.f normalization integral is zero or negative @ x=M_m0=5265.59, c=exponent=-1.98929\n",
            "     p.d.f normalization integral is zero or negative @ x=M_m0=5381.72, c=exponent=-1.98929\n",
            "     p.d.f normalization integral is zero or negative @ x=M_m0=5408.27, c=exponent=-1.98929\n",
            "     p.d.f normalization integral is zero or negative @ x=M_m0=5241.04, c=exponent=-1.98929\n",
            "     p.d.f normalization integral is zero or negative @ x=M_m0=5290.79, c=exponent=-1.98929\n",
            "     p.d.f normalization integral is zero or negative @ x=M_m0=5212.61, c=exponent=-1.98929\n",
            "     p.d.f normalization integral is zero or negative @ x=M_m0=5468.13, c=exponent=-1.98929\n",
            "     p.d.f normalization integral is zero or negative @ x=M_m0=5131.85, c=exponent=-1.98929\n",
            "    ... (remaining 2038 messages suppressed)\n",
            "\n",
            "[#0] WARNING:Minization -- RooMinimizerFcn: Minimized function has error status.\n",
            "Returning maximum FCN so far (306933) to force MIGRAD to back out of this region. Error log follows\n",
            "Parameter values: Gauss_Norm_Bm=1.01798e+07, Mean=5273.74, Width=22.4882, exp_Norm_Bm=5.56138e+06, exponent=0.349483\n",
            "RooAddPdf::Full Model[ Gauss_Norm_Bm * Gaussian Signal + exp_Norm_Bm * Exponential Background ]\n",
            "     p.d.f value is Not-a-Number (-nan), forcing value to zero @ !refCoefNorm=(), !pdfs=(Gaussian Signal = 4.71799e-07/56.3695,Exponential Background = inf/-nan), !coefficients=(Gauss_Norm_Bm = 1.01798e+07,exp_Norm_Bm = 5.56138e+06)\n",
            "     getLogVal() top-level p.d.f evaluates to zero @ !refCoefNorm=(), !pdfs=(Gaussian Signal = 4.71799e-07/56.3695,Exponential Background = inf/-nan), !coefficients=(Gauss_Norm_Bm = 1.01798e+07,exp_Norm_Bm = 5.56138e+06)\n",
            "     p.d.f value is Not-a-Number (-nan), forcing value to zero @ !refCoefNorm=(), !pdfs=(Gaussian Signal = 3.13223e-07/56.3695,Exponential Background = inf/-nan), !coefficients=(Gauss_Norm_Bm = 1.01798e+07,exp_Norm_Bm = 5.56138e+06)\n",
            "     getLogVal() top-level p.d.f evaluates to zero @ !refCoefNorm=(), !pdfs=(Gaussian Signal = 3.13223e-07/56.3695,Exponential Background = inf/-nan), !coefficients=(Gauss_Norm_Bm = 1.01798e+07,exp_Norm_Bm = 5.56138e+06)\n",
            "     p.d.f value is Not-a-Number (-nan), forcing value to zero @ !refCoefNorm=(), !pdfs=(Gaussian Signal = 1.63557e-19/56.3695,Exponential Background = inf/-nan), !coefficients=(Gauss_Norm_Bm = 1.01798e+07,exp_Norm_Bm = 5.56138e+06)\n",
            "     getLogVal() top-level p.d.f evaluates to zero @ !refCoefNorm=(), !pdfs=(Gaussian Signal = 1.63557e-19/56.3695,Exponential Background = inf/-nan), !coefficients=(Gauss_Norm_Bm = 1.01798e+07,exp_Norm_Bm = 5.56138e+06)\n",
            "     p.d.f value is Not-a-Number (-nan), forcing value to zero @ !refCoefNorm=(), !pdfs=(Gaussian Signal = 0.837296/56.3695,Exponential Background = inf/-nan), !coefficients=(Gauss_Norm_Bm = 1.01798e+07,exp_Norm_Bm = 5.56138e+06)\n",
            "     getLogVal() top-level p.d.f evaluates to zero @ !refCoefNorm=(), !pdfs=(Gaussian Signal = 0.837296/56.3695,Exponential Background = inf/-nan), !coefficients=(Gauss_Norm_Bm = 1.01798e+07,exp_Norm_Bm = 5.56138e+06)\n",
            "     p.d.f value is Not-a-Number (-nan), forcing value to zero @ !refCoefNorm=(), !pdfs=(Gaussian Signal = 0.00650939/56.3695,Exponential Background = inf/-nan), !coefficients=(Gauss_Norm_Bm = 1.01798e+07,exp_Norm_Bm = 5.56138e+06)\n",
            "     getLogVal() top-level p.d.f evaluates to zero @ !refCoefNorm=(), !pdfs=(Gaussian Signal = 0.00650939/56.3695,Exponential Background = inf/-nan), !coefficients=(Gauss_Norm_Bm = 1.01798e+07,exp_Norm_Bm = 5.56138e+06)\n",
            "     p.d.f value is Not-a-Number (-nan), forcing value to zero @ !refCoefNorm=(), !pdfs=(Gaussian Signal = 0.881016/56.3695,Exponential Background = inf/-nan), !coefficients=(Gauss_Norm_Bm = 1.01798e+07,exp_Norm_Bm = 5.56138e+06)\n",
            "     getLogVal() top-level p.d.f evaluates to zero @ !refCoefNorm=(), !pdfs=(Gaussian Signal = 0.881016/56.3695,Exponential Background = inf/-nan), !coefficients=(Gauss_Norm_Bm = 1.01798e+07,exp_Norm_Bm = 5.56138e+06)\n",
            "    ... (remaining 2038 messages suppressed)\n",
            "RooNLLVar::nll_Full Model_Data Set[ paramSet=(Gauss_Norm_Bm,Mean,Width,exp_Norm_Bm,exponent) ]\n",
            "     function value is NAN @ paramSet=(Gauss_Norm_Bm = 1.01798e+07,Mean = 5273.74,Width = 22.4882,exp_Norm_Bm = 5.56138e+06,exponent = 0.349483)\n",
            "RooRealIntegral::Exponential Background_Int[M_m0][ Int Exponential Backgroundd[Ana](M_m0) ]\n",
            "     function value is NAN @ !sumList=(), !intList=(), !anaList=(M_m0 = 5174.11), !jacList=(), !facList=(), !func=Exponential Background=inf/-0, !sumCat=()\n",
            "\n",
            "[#0] WARNING:Minization -- RooMinimizerFcn: Minimized function has error status.\n",
            "Returning maximum FCN so far (306933) to force MIGRAD to back out of this region. Error log follows\n",
            "Parameter values: Gauss_Norm_Bm=6.07678e+06, Mean=5276.59, Width=24.9386, exp_Norm_Bm=4.71846e+06, exponent=-1.67759\n",
            "RooExponential::Exponential Background[ x=M_m0 c=exponent ]\n",
            "     p.d.f normalization integral is zero or negative @ x=M_m0=5069.35, c=exponent=-1.67759\n",
            "     p.d.f normalization integral is zero or negative @ x=M_m0=5326.25, c=exponent=-1.67759\n",
            "     p.d.f normalization integral is zero or negative @ x=M_m0=5283.7, c=exponent=-1.67759\n",
            "     p.d.f normalization integral is zero or negative @ x=M_m0=5342.64, c=exponent=-1.67759\n",
            "     p.d.f normalization integral is zero or negative @ x=M_m0=5265.59, c=exponent=-1.67759\n",
            "     p.d.f normalization integral is zero or negative @ x=M_m0=5381.72, c=exponent=-1.67759\n",
            "     p.d.f normalization integral is zero or negative @ x=M_m0=5408.27, c=exponent=-1.67759\n",
            "     p.d.f normalization integral is zero or negative @ x=M_m0=5241.04, c=exponent=-1.67759\n",
            "     p.d.f normalization integral is zero or negative @ x=M_m0=5290.79, c=exponent=-1.67759\n",
            "     p.d.f normalization integral is zero or negative @ x=M_m0=5212.61, c=exponent=-1.67759\n",
            "     p.d.f normalization integral is zero or negative @ x=M_m0=5468.13, c=exponent=-1.67759\n",
            "     p.d.f normalization integral is zero or negative @ x=M_m0=5131.85, c=exponent=-1.67759\n",
            "    ... (remaining 2038 messages suppressed)\n",
            "\n",
            "[#0] WARNING:Minization -- RooMinimizerFcn: Minimized function has error status.\n",
            "Returning maximum FCN so far (306933) to force MIGRAD to back out of this region. Error log follows\n",
            "Parameter values: Gauss_Norm_Bm=8.01119e+06, Mean=5278.05, Width=26.1373, exp_Norm_Bm=1.35444e+06, exponent=-0.338513\n",
            "RooExponential::Exponential Background[ x=M_m0 c=exponent ]\n",
            "     p.d.f normalization integral is zero or negative @ x=M_m0=5069.35, c=exponent=-0.338513\n",
            "     p.d.f normalization integral is zero or negative @ x=M_m0=5326.25, c=exponent=-0.338513\n",
            "     p.d.f normalization integral is zero or negative @ x=M_m0=5283.7, c=exponent=-0.338513\n",
            "     p.d.f normalization integral is zero or negative @ x=M_m0=5342.64, c=exponent=-0.338513\n",
            "     p.d.f normalization integral is zero or negative @ x=M_m0=5265.59, c=exponent=-0.338513\n",
            "     p.d.f normalization integral is zero or negative @ x=M_m0=5381.72, c=exponent=-0.338513\n",
            "     p.d.f normalization integral is zero or negative @ x=M_m0=5408.27, c=exponent=-0.338513\n",
            "     p.d.f normalization integral is zero or negative @ x=M_m0=5241.04, c=exponent=-0.338513\n",
            "     p.d.f normalization integral is zero or negative @ x=M_m0=5290.79, c=exponent=-0.338513\n",
            "     p.d.f normalization integral is zero or negative @ x=M_m0=5212.61, c=exponent=-0.338513\n",
            "     p.d.f normalization integral is zero or negative @ x=M_m0=5468.13, c=exponent=-0.338513\n",
            "     p.d.f normalization integral is zero or negative @ x=M_m0=5131.85, c=exponent=-0.338513\n",
            "    ... (remaining 2038 messages suppressed)\n",
            "\n",
            " MIGRAD FAILS TO FIND IMPROVEMENT\n",
            " COVARIANCE MATRIX CALCULATED SUCCESSFULLY\n",
            " FCN=-56903.1 FROM HESSE     STATUS=OK             31 CALLS         215 TOTAL\n",
            "                     EDM=114.996    STRATEGY= 1      ERROR MATRIX ACCURATE \n",
            "  EXT PARAMETER                                   STEP         FIRST   \n",
            "  NO.   NAME      VALUE            ERROR          SIZE      DERIVATIVE \n",
            "   1  Gauss_Norm_Bm   4.17818e+03   1.15928e+02   7.64438e-05   1.67037e+04\n",
            "   2  Mean         5.27951e+03   7.54224e-01   2.64927e-03   6.33006e+01\n",
            "   3  Width        2.72916e+01   1.14551e+00   1.02232e-02   1.25227e+02\n",
            "   4  exp_Norm_Bm   1.61606e+04   1.56866e+02   6.79994e-05   2.00582e+03\n",
            "   5  exponent    -1.58636e-03   6.26955e-05   5.19048e-06   1.98110e+05\n",
            "                               ERR DEF= 0.5\n",
            " MIGRAD MINIMIZATION HAS CONVERGED.\n",
            " MIGRAD WILL VERIFY CONVERGENCE AND ERROR MATRIX.\n",
            " COVARIANCE MATRIX CALCULATED SUCCESSFULLY\n",
            " FCN=-56991.4 FROM MIGRAD    STATUS=CONVERGED     317 CALLS         318 TOTAL\n",
            "                     EDM=5.66169e-07    STRATEGY= 1      ERROR MATRIX ACCURATE \n",
            "  EXT PARAMETER                                   STEP         FIRST   \n",
            "  NO.   NAME      VALUE            ERROR          SIZE      DERIVATIVE \n",
            "   1  Gauss_Norm_Bm   3.10412e+03   9.37043e+01   7.11734e-05   2.47485e-01\n",
            "   2  Mean         5.28063e+03   6.34494e-01   2.22304e-03   1.93266e-02\n",
            "   3  Width        1.98344e+01   6.56269e-01   4.58389e-03   1.57846e-02\n",
            "   4  exp_Norm_Bm   1.67999e+04   1.49881e+02   6.60881e-05  -6.80691e-01\n",
            "   5  exponent    -1.87974e-03   6.14149e-05   5.00846e-06   1.58319e+00\n",
            "                               ERR DEF= 0.5\n",
            " EXTERNAL ERROR MATRIX.    NDIM=  25    NPAR=  5    ERR DEF=0.5\n",
            "  8.780e+03 -6.984e+00  3.086e+01 -5.669e+03 -6.852e-04 \n",
            " -6.984e+00  4.026e-01 -7.686e-02  6.970e+00 -2.191e-06 \n",
            "  3.086e+01 -7.686e-02  4.308e-01 -3.080e+01 -3.277e-06 \n",
            " -5.669e+03  6.970e+00 -3.080e+01  2.246e+04  6.847e-04 \n",
            " -6.852e-04 -2.191e-06 -3.277e-06  6.847e-04  3.772e-09 \n",
            " PARAMETER  CORRELATION COEFFICIENTS  \n",
            "       NO.  GLOBAL      1      2      3      4      5\n",
            "        1  0.56926   1.000 -0.117  0.502 -0.404 -0.119\n",
            "        2  0.20127  -0.117  1.000 -0.185  0.073 -0.056\n",
            "        3  0.53128   0.502 -0.185  1.000 -0.313 -0.081\n",
            "        4  0.42412  -0.404  0.073 -0.313  1.000  0.074\n",
            "        5  0.14535  -0.119 -0.056 -0.081  0.074  1.000\n",
            " **********\n",
            " **   25 **SET ERR         0.5\n",
            " **********\n",
            " **********\n",
            " **   26 **SET PRINT           1\n",
            " **********\n",
            " **********\n",
            " **   27 **HESSE        2500\n",
            " **********\n",
            " COVARIANCE MATRIX CALCULATED SUCCESSFULLY\n",
            " FCN=-56991.4 FROM HESSE     STATUS=OK             31 CALLS         349 TOTAL\n",
            "                     EDM=5.68737e-07    STRATEGY= 1      ERROR MATRIX ACCURATE \n",
            "  EXT PARAMETER                                INTERNAL      INTERNAL  \n",
            "  NO.   NAME      VALUE            ERROR       STEP SIZE       VALUE   \n",
            "   1  Gauss_Norm_Bm   3.10412e+03   9.38599e+01   2.84694e-06  -1.53601e+00\n",
            "   2  Mean         5.28063e+03   6.35004e-01   8.89215e-05  -3.97754e-01\n",
            "   3  Width        1.98344e+01   6.57796e-01   1.83356e-04  -8.27901e-03\n",
            "   4  exp_Norm_Bm   1.67999e+04   1.50016e+02   2.64352e-06  -1.47164e+00\n",
            "   5  exponent    -1.87974e-03   6.14210e-05   2.00338e-07  -9.39868e-04\n",
            "                               ERR DEF= 0.5\n",
            " EXTERNAL ERROR MATRIX.    NDIM=  25    NPAR=  5    ERR DEF=0.5\n",
            "  8.810e+03 -7.085e+00  3.113e+01 -5.705e+03 -6.906e-04 \n",
            " -7.085e+00  4.033e-01 -7.891e-02  7.084e+00 -2.180e-06 \n",
            "  3.113e+01 -7.891e-02  4.329e-01 -3.112e+01 -3.311e-06 \n",
            " -5.705e+03  7.084e+00 -3.112e+01  2.250e+04  6.906e-04 \n",
            " -6.906e-04 -2.180e-06 -3.311e-06  6.906e-04  3.773e-09 \n",
            " PARAMETER  CORRELATION COEFFICIENTS  \n",
            "       NO.  GLOBAL      1      2      3      4      5\n",
            "        1  0.57122   1.000 -0.119  0.504 -0.405 -0.120\n",
            "        2  0.20508  -0.119  1.000 -0.189  0.074 -0.056\n",
            "        3  0.53440   0.504 -0.189  1.000 -0.315 -0.082\n",
            "        4  0.42586  -0.405  0.074 -0.315  1.000  0.075\n",
            "        5  0.14601  -0.120 -0.056 -0.082  0.075  1.000\n",
            "[#1] INFO:Minization -- RooMinimizer::optimizeConst: deactivating const optimization\n"
          ],
          "name": "stdout"
        }
      ]
    },
    {
      "cell_type": "code",
      "metadata": {
        "colab": {
          "base_uri": "https://localhost:8080/",
          "height": 580
        },
        "id": "TFsAwB4fZSlx",
        "outputId": "66d423f3-155a-42c1-beb4-1ebcaff9c7a2"
      },
      "source": [
        "#Now to plot it all\r\n",
        "c1=ROOT.TCanvas(\"c1\",\"c1\")\r\n",
        "c1.Draw()\r\n",
        "frame=mass.frame()\r\n",
        "data_to_fit.plotOn(frame)\r\n",
        "model.plotOn(frame, ROOT.RooFit.Components(\"Gaussian Signal\"),ROOT.RooFit.LineColor(8),ROOT.RooFit.LineStyle(2))\r\n",
        "model.plotOn(frame, ROOT.RooFit.Components(\"Exponential Background\"),ROOT.RooFit.LineColor(46),ROOT.RooFit.LineStyle(2))\r\n",
        "model.plotOn(frame)\r\n",
        "frame.Draw()\r\n",
        "c1.Update()"
      ],
      "execution_count": 83,
      "outputs": [
        {
          "output_type": "stream",
          "text": [
            "[#1] INFO:Plotting -- RooAbsPdf::plotOn(Full Model) directly selected PDF components: (Gaussian Signal)\n",
            "[#1] INFO:Plotting -- RooAbsPdf::plotOn(Full Model) indirectly selected PDF components: ()\n",
            "[#1] INFO:Plotting -- RooAbsPdf::plotOn(Full Model) directly selected PDF components: (Exponential Background)\n",
            "[#1] INFO:Plotting -- RooAbsPdf::plotOn(Full Model) indirectly selected PDF components: ()\n"
          ],
          "name": "stdout"
        },
        {
          "output_type": "stream",
          "text": [
            "Warning in <TCanvas::Constructor>: Deleting canvas with same name: c1\n"
          ],
          "name": "stderr"
        },
        {
          "output_type": "display_data",
          "data": {
            "image/png": "[encoded data removed]",
            "text/plain": [
              "<IPython.core.display.Image object>"
            ]
          },
          "metadata": {
            "tags": []
          }
        }
      ]
    },
    {
      "cell_type": "code",
      "metadata": {
        "colab": {
          "base_uri": "https://localhost:8080/"
        },
        "id": "i1xdytt6Zi4e",
        "outputId": "bfcc10e5-8293-40ba-fe86-d5a5228b21ff"
      },
      "source": [
        "#print signal yield with errors and report chi squared\r\n",
        "Signal_Yield_Bm=Gauss_Norm_Bm.getValV()\r\n",
        "Signal_Error_Bm=Gauss_Norm_Bm.getError()\r\n",
        "Signal_x2_Bm = frame.chiSquare()\r\n",
        "\r\n",
        "print(\"Signal Yield = \" + str(Signal_Yield))\r\n",
        "print(\"Signal Error = \" + str(Signal_Error))\r\n",
        "print(\"Signal Chi Squared = \" + str(Signal_x2))"
      ],
      "execution_count": 84,
      "outputs": [
        {
          "output_type": "stream",
          "text": [
            "Signal Yield = 6848.20756549\n",
            "Signal Error = 137.012356335\n",
            "Signal Chi Squared = 2.11536167361\n"
          ],
          "name": "stdout"
        }
      ]
    },
    {
      "cell_type": "markdown",
      "metadata": {
        "id": "r8VB5uN1obc4"
      },
      "source": [
        "Once we have defined if it's a B<sup>+</sup> or a B <sup>-</sup>, we should go ahead and ensure the pre-selection is applied and then plot our B mass, and fit the model to find the yield.\r\n",
        "\r\n",
        "We can then calculate the assymetry from this equation:\r\n",
        "\r\n",
        "$A=\\frac{(N^{B-}-N^{B+})}{(N^{B-}+N^{B+})}$\r\n",
        "\r\n",
        "Where N<sup>B+/- </sup> is the number of events found from the fitted yield of the signal from each data set.\r\n",
        "\r\n",
        "The uncertainty on this result is given by:\r\n",
        "\r\n",
        "$\\sigma_A=\\sqrt\\frac{1-A^2}{N^{B-}+N^{B+}}$\r\n",
        "\r\n",
        "Calculate these two values for your data and print them below:"
      ]
    },
    {
      "cell_type": "code",
      "metadata": {
        "id": "UiPNe2iuobSK",
        "colab": {
          "base_uri": "https://localhost:8080/"
        },
        "outputId": "b835dcae-e602-46c1-9b3e-84e8f664ea7d"
      },
      "source": [
        "#Here do your calculation of the final result\r\n",
        "import math\r\n",
        "\r\n",
        "N_Bp = Gauss_Norm_Bp.getValV()\r\n",
        "N_Bm = Gauss_Norm_Bm.getValV()\r\n",
        "\r\n",
        "A = (N_Bm - N_Bp)/(N_Bm + N_Bp)\r\n",
        "print(\"A = \" + str(A))\r\n",
        "\r\n",
        "Sigma_A = math.sqrt((1-A**2)/(N_Bm + N_Bp))\r\n",
        "print(\"Sigma A = \" + str(Sigma_A))"
      ],
      "execution_count": 85,
      "outputs": [
        {
          "output_type": "stream",
          "text": [
            "A = -0.0932552624422\n",
            "Sigma A = 0.0120326613095\n"
          ],
          "name": "stdout"
        }
      ]
    },
    {
      "cell_type": "markdown",
      "metadata": {
        "id": "r5B--_33okz1"
      },
      "source": [
        "#Congratulations!\r\n",
        "\r\n",
        "You just made your first LHCb physics analysis. Does this seem like a reasonable result? Did we explain why we have an excess of mass in the Universe?"
      ]
    },
    {
      "cell_type": "markdown",
      "metadata": {
        "id": "fU3xV5Q-fiFM"
      },
      "source": [
        "**Answer:**\r\n",
        "The asymmetry is not zero (A = -0.09) which means there is a slight overproduction of one of the mesons. As A < 0 there is a slight overproduction of the B+ meson. Therefore, after all the antimatter has canceled out with the matter, there is still some matter left which is why we exist. At least if all particle creations have a negative A like in this case."
      ]
    },
    {
      "cell_type": "markdown",
      "metadata": {
        "id": "dzybWZylomGu"
      },
      "source": [
        "## **Bonus content only below here:**"
      ]
    },
    {
      "cell_type": "markdown",
      "metadata": {
        "id": "odpbRqdoou5M"
      },
      "source": [
        "To make a further anaysis, we can look into the intermediate processes.\r\n",
        "\r\n",
        "We have so far considered only that the B meson ultimately decays into three kaons. It may be that on the way, the B meson first decays into a Kaon and another particle, and then from that particle to two Kaons.\r\n",
        "\r\n",
        "We would expect this to be one of three possible modes (for B<sup>+</sup>):\r\n",
        "\r\n",
        "$R^{++} \\rightarrow K_1^+ +K_2^+$\r\n",
        "\r\n",
        "(we don't expect this to happen because of the like charges in the Kaons)\r\n",
        "\r\n",
        "$R^0 \\rightarrow K_1^+ +K_3^-$\r\n",
        "\r\n",
        "$R^0 \\rightarrow K_2^+ +K_3^-$\r\n",
        "\r\n",
        "(Expect symmetric arrangements for B<sup>-</sup>)\r\n",
        "\r\n",
        "To analyse the intermediate states we can measure the invarient masses of the intermediate states and then plot them on what is called a Dalitz plot (this is a 2D plot with two different two body decays (from the three body decay) on each axis)\r\n",
        "\r\n",
        "![Dalitz Plot](https://slideplayer.com/slide/15960097/88/images/15/Dalitz+plot%3A+%CE%9B+c+%2B+%E2%86%92%F0%9D%91%9D+%F0%9D%90%BE+%E2%88%92+%F0%9D%9C%8B+%2B.jpg)\r\n"
      ]
    },
    {
      "cell_type": "code",
      "metadata": {
        "id": "SqJxvZSKo1cW"
      },
      "source": [
        "#Define a function to find the invarient mass of two given Kaons\r\n",
        "\r\n",
        "#This code is modified from Jacco´s Code:\r\n",
        "#https://github.com/jackfrost373/LHCb_Xic_production/blob/master/analysis/examples/dalitzPlane.py\r\n",
        "\r\n",
        "cuts = \"(1==1)\"\r\n",
        "\r\n",
        "weightvar = \"1\"\r\n",
        "\r\n",
        "def invariantMass(p1, p2) :\r\n",
        "  # build invariant mass string\r\n",
        "  m1  = p1+\"_M\" ;  px1 = p1+\"_PX\" ; py1 = p1+\"_PY\" ; pz1 = p1+\"_PZ\"\r\n",
        "  m2  = p2+\"_M\" ;  px2 = p2+\"_PX\" ; py2 = p2+\"_PY\" ; pz2 = p2+\"_PZ\"\r\n",
        "  ptot1 = \"sqrt(\"+px1+\"**2+\"+py1+\"**2+\"+pz1+\"**2)\"\r\n",
        "  ptot2 = \"sqrt(\"+px2+\"**2+\"+py2+\"**2+\"+pz2+\"**2)\"\r\n",
        "  E1 = \"sqrt({0}**2 + {1}**2)\".format(\"5380\",ptot1)\r\n",
        "  E2 = \"sqrt({0}**2 + {1}**2)\".format(\"5380\",ptot2)\r\n",
        "  pvecdot = \"({0}*{1} + {2}*{3} + {4}*{5})\".format(px1,px2, py1,py2, pz1,pz2)\r\n",
        "  M2 = \"({0}**2 + {1}**2 + 2*{2}*{3} - 2*{4})\".format(\"5380\",\"5380\",E1,E2,pvecdot)\r\n",
        "  return M2\r\n",
        "\r\n",
        "m2_H1_H2  = invariantMass(\"H1\",\"H2\")\r\n",
        "m2_H2_H3 = invariantMass(\"H2\",\"H3\")"
      ],
      "execution_count": 86,
      "outputs": []
    },
    {
      "cell_type": "code",
      "metadata": {
        "id": "YPVqECfPo3Wc",
        "colab": {
          "base_uri": "https://localhost:8080/",
          "height": 507
        },
        "outputId": "453637ab-c1f9-4c96-c9db-01009195a695"
      },
      "source": [
        "#Then, ensuring you're still taking the data after the selection, make a Dalitz plot. This is a 2-D scatter plot (use e.g. TH2F to make the plot where we used TH1F before)\r\n",
        "#Choose an appropriate binning in your scatter \r\n",
        "\r\n",
        "c1 = ROOT.TCanvas(\"c1\",\"c1\")\r\n",
        "ROOT.gStyle.SetOptStat(0)\r\n",
        "\r\n",
        "CutTree.Draw(\"{0}:{1}>>dalitzHist(20,1.08e8,2.5e8,20,1.08e8,2.5e8)\".format(m2_H1_H2,m2_H2_H3), \"{0}*{1}\".format(cuts,weightvar))\r\n",
        "dalitzHist = ROOT.gDirectory.Get(\"dalitzHist\")\r\n",
        "dalitzHist.SetTitle(\"Dalitz plot of pK#pi\")\r\n",
        "dalitzHist.GetYaxis().SetTitle(\"m^{2}_{pK} [MeV^{2}/c^{4}]\")\r\n",
        "dalitzHist.GetXaxis().SetTitle(\"m^{2}_{K#pi} [MeV^{2}/c^{4}]\")\r\n",
        "\r\n",
        "dalitzHist.Draw(\"colz\")\r\n",
        "c1.Draw()"
      ],
      "execution_count": 87,
      "outputs": [
        {
          "output_type": "stream",
          "text": [
            "Warning in <TCanvas::Constructor>: Deleting canvas with same name: c1\n"
          ],
          "name": "stderr"
        },
        {
          "output_type": "display_data",
          "data": {
            "image/png": "[encoded data removed]",
            "text/plain": [
              "<IPython.core.display.Image object>"
            ]
          },
          "metadata": {
            "tags": []
          }
        }
      ]
    },
    {
      "cell_type": "markdown",
      "metadata": {
        "id": "qPoPLt4Uo6QB"
      },
      "source": [
        "We can further improve our plot, since two sets of particles on each axis are exactly the same (one positive Kaon, one negative Kaon). So we can plot the maximum of the two values on one axis and the minimum on the other. We can use a quick numpy check and then plot those values."
      ]
    },
    {
      "cell_type": "code",
      "metadata": {
        "id": "KJ_fe2R3o8Aq",
        "colab": {
          "base_uri": "https://localhost:8080/",
          "height": 507
        },
        "outputId": "6a414338-6b6e-4a77-f8af-c9f55b8768c3"
      },
      "source": [
        "#Make the revised Dalitz plot here for B+ mesons\r\n",
        "cuts = \"(1==1)\"\r\n",
        "\r\n",
        "weightvar = \"1\"\r\n",
        "\r\n",
        "def invariantMass(p1, p2) :\r\n",
        "  # build invariant mass string\r\n",
        "  m1  = p1+\"_M\" ;  px1 = p1+\"_PX\" ; py1 = p1+\"_PY\" ; pz1 = p1+\"_PZ\"\r\n",
        "  m2  = p2+\"_M\" ;  px2 = p2+\"_PX\" ; py2 = p2+\"_PY\" ; pz2 = p2+\"_PZ\"\r\n",
        "  ptot1 = \"sqrt(\"+px1+\"**2+\"+py1+\"**2+\"+pz1+\"**2)\"\r\n",
        "  ptot2 = \"sqrt(\"+px2+\"**2+\"+py2+\"**2+\"+pz2+\"**2)\"\r\n",
        "  E1 = \"sqrt({0}**2 + {1}**2)\".format(\"5380\",ptot1)\r\n",
        "  E2 = \"sqrt({0}**2 + {1}**2)\".format(\"5380\",ptot2)\r\n",
        "  pvecdot = \"({0}*{1} + {2}*{3} + {4}*{5})\".format(px1,px2, py1,py2, pz1,pz2)\r\n",
        "  M2 = \"({0}**2 + {1}**2 + 2*{2}*{3} - 2*{4})\".format(\"5380\",\"5380\",E1,E2,pvecdot)\r\n",
        "  return M2\r\n",
        "\r\n",
        "m2_H1_H2  = invariantMass(\"H1\",\"H2\")\r\n",
        "m2_H2_H3 = invariantMass(\"H2\",\"H3\")\r\n",
        "\r\n",
        "c1 = ROOT.TCanvas(\"c1\",\"c1\")\r\n",
        "ROOT.gStyle.SetOptStat(0)\r\n",
        "\r\n",
        "CutTreeBp.Draw(\"{0}:{1}>>dalitzHist(20,1.08e8,2.5e8,20,1.08e8,2.5e8)\".format(m2_H1_H2,m2_H2_H3), \"{0}*{1}\".format(cuts,weightvar))\r\n",
        "dalitzHist = ROOT.gDirectory.Get(\"dalitzHist\")\r\n",
        "dalitzHist.SetTitle(\"Dalitz plot of pK#pi\")\r\n",
        "dalitzHist.GetYaxis().SetTitle(\"m^{2}_{pK} [MeV^{2}/c^{4}]\")\r\n",
        "dalitzHist.GetXaxis().SetTitle(\"m^{2}_{K#pi} [MeV^{2}/c^{4}]\")\r\n",
        "\r\n",
        "dalitzHist.Draw(\"colz\")\r\n",
        "c1.Draw()"
      ],
      "execution_count": 88,
      "outputs": [
        {
          "output_type": "stream",
          "text": [
            "Warning in <TCanvas::Constructor>: Deleting canvas with same name: c1\n"
          ],
          "name": "stderr"
        },
        {
          "output_type": "display_data",
          "data": {
            "image/png": "[encoded data removed]",
            "text/plain": [
              "<IPython.core.display.Image object>"
            ]
          },
          "metadata": {
            "tags": []
          }
        }
      ]
    },
    {
      "cell_type": "code",
      "metadata": {
        "id": "t46slV8Yo-Ed",
        "colab": {
          "base_uri": "https://localhost:8080/",
          "height": 507
        },
        "outputId": "fd005a8f-300c-4013-ec75-8a6b1bac9156"
      },
      "source": [
        "#Make the revised Dalitz plot here for B- mesons\r\n",
        "#Make the revised Dalitz plot here for B+ mesons\r\n",
        "cuts = \"(1==1)\"\r\n",
        "\r\n",
        "weightvar = \"1\"\r\n",
        "\r\n",
        "def invariantMass(p1, p2) :\r\n",
        "  # build invariant mass string\r\n",
        "  m1  = p1+\"_M\" ;  px1 = p1+\"_PX\" ; py1 = p1+\"_PY\" ; pz1 = p1+\"_PZ\"\r\n",
        "  m2  = p2+\"_M\" ;  px2 = p2+\"_PX\" ; py2 = p2+\"_PY\" ; pz2 = p2+\"_PZ\"\r\n",
        "  ptot1 = \"sqrt(\"+px1+\"**2+\"+py1+\"**2+\"+pz1+\"**2)\"\r\n",
        "  ptot2 = \"sqrt(\"+px2+\"**2+\"+py2+\"**2+\"+pz2+\"**2)\"\r\n",
        "  E1 = \"sqrt({0}**2 + {1}**2)\".format(\"5380\",ptot1)\r\n",
        "  E2 = \"sqrt({0}**2 + {1}**2)\".format(\"5380\",ptot2)\r\n",
        "  pvecdot = \"({0}*{1} + {2}*{3} + {4}*{5})\".format(px1,px2, py1,py2, pz1,pz2)\r\n",
        "  M2 = \"({0}**2 + {1}**2 + 2*{2}*{3} - 2*{4})\".format(\"5380\",\"5380\",E1,E2,pvecdot)\r\n",
        "  return M2\r\n",
        "\r\n",
        "m2_H1_H2  = invariantMass(\"H1\",\"H2\")\r\n",
        "m2_H2_H3 = invariantMass(\"H2\",\"H3\")\r\n",
        "\r\n",
        "c1 = ROOT.TCanvas(\"c1\",\"c1\")\r\n",
        "ROOT.gStyle.SetOptStat(0)\r\n",
        "\r\n",
        "CutTreeBm.Draw(\"{0}:{1}>>dalitzHist(20,1.08e8,2.5e8,20,1.08e8,2.5e8)\".format(m2_H1_H2,m2_H2_H3), \"{0}*{1}\".format(cuts,weightvar))\r\n",
        "dalitzHist = ROOT.gDirectory.Get(\"dalitzHist\")\r\n",
        "dalitzHist.SetTitle(\"Dalitz plot of pK#pi\")\r\n",
        "dalitzHist.GetYaxis().SetTitle(\"m^{2}_{pK} [MeV^{2}/c^{4}]\")\r\n",
        "dalitzHist.GetXaxis().SetTitle(\"m^{2}_{K#pi} [MeV^{2}/c^{4}]\")\r\n",
        "\r\n",
        "dalitzHist.Draw(\"colz\")\r\n",
        "c1.Draw()"
      ],
      "execution_count": 89,
      "outputs": [
        {
          "output_type": "stream",
          "text": [
            "Warning in <TCanvas::Constructor>: Deleting canvas with same name: c1\n"
          ],
          "name": "stderr"
        },
        {
          "output_type": "display_data",
          "data": {
            "image/png": "[encoded data removed]",
            "text/plain": [
              "<IPython.core.display.Image object>"
            ]
          },
          "metadata": {
            "tags": []
          }
        }
      ]
    },
    {
      "cell_type": "code",
      "metadata": {
        "id": "RfTDh69qo9_q"
      },
      "source": [
        "#Where we have a higher density of points (or a bigger value in the bin) this is indication of an intermediate resonance\r\n",
        "#Check out the possible resonances you have found in the PDG (http://pdg.lbl.gov/2020/tables/contents_tables.html)"
      ],
      "execution_count": 90,
      "outputs": []
    }
  ]
}